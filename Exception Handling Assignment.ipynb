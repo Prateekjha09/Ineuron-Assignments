{
 "cells": [
  {
   "cell_type": "code",
   "execution_count": 16,
   "metadata": {},
   "outputs": [
    {
     "name": "stdout",
     "output_type": "stream",
     "text": [
      "Enter the first numberdd\n",
      "Enter the second number0\n",
      "unsupported operand type(s) for /: 'str' and 'str'\n",
      "All the statements are executed finally\n"
     ]
    }
   ],
   "source": [
    "'''1. Write a function to compute 5/0 and use try/except to catch the exceptions.\n",
    "'''\n",
    "a = input('Enter the first number')\n",
    "b = input('Enter the second number')\n",
    "try:  # try block for executing my main functions\n",
    "    c=a/b\n",
    "    print(c)\n",
    "except ZeroDivisionError as c: # handling this division by zero as inappropriate\n",
    "    print(c)\n",
    "except Exception as e: # All the rest exceptions will be handled at last\n",
    "    print(e)\n",
    "finally: # Indicating all the blocks are executed and we are the end of program execution\n",
    "    print('All the statements are executed finally')"
   ]
  },
  {
   "cell_type": "code",
   "execution_count": 10,
   "metadata": {},
   "outputs": [
    {
     "name": "stdout",
     "output_type": "stream",
     "text": [
      "['Americans play Baseball', 'Americans play Cricket', 'Americans watch Baseball', 'Americans watch Cricket', 'Indians play Baseball', 'Indians play Cricket', 'Indians watch Baseball', 'Indians watch Cricket']\n"
     ]
    }
   ],
   "source": [
    "'''2. Implement a Python program to generate all sentences where subject is in\n",
    "[\"Americans\", \"Indians\"] and verb is in [\"Play\", \"watch\"] and the object is in\n",
    "[\"Baseball\",\"cricket\"].\n",
    "Hint: Subject,Verb and Object should be declared in the program as shown below.\n",
    "subjects=[\"Americans \",\"Indians\"]\n",
    "verbs=[\"play\",\"watch\"]\n",
    "objects=[\"Baseball\",\"Cricket\"]\n",
    "Output should come as below:\n",
    "Americans play Baseball.\n",
    "Americans play Cricket.\n",
    "Americans watch Baseball.\n",
    "Americans watch Cricket.\n",
    "Indians play Baseball.\n",
    "Indians play Cricket.\n",
    "Indians watch Baseball.\n",
    "Indians watch Cricket.\n",
    "'''\n",
    "\n",
    "subjects = [\"Americans\",\"Indians\"] # First list\n",
    "verbs = [\"play\",\"watch\"] # Second list\n",
    "objects = [\"Baseball\",\"Cricket\"] # Third list\n",
    "# List element manipulation for getting the desired results\n",
    "print([x+\" \"+y+\" \"+z for x in subjects for y in verbs for z in objects] ) "
   ]
  },
  {
   "cell_type": "code",
   "execution_count": null,
   "metadata": {},
   "outputs": [],
   "source": []
  }
 ],
 "metadata": {
  "kernelspec": {
   "display_name": "Python 3",
   "language": "python",
   "name": "python3"
  },
  "language_info": {
   "codemirror_mode": {
    "name": "ipython",
    "version": 3
   },
   "file_extension": ".py",
   "mimetype": "text/x-python",
   "name": "python",
   "nbconvert_exporter": "python",
   "pygments_lexer": "ipython3",
   "version": "3.8.5"
  }
 },
 "nbformat": 4,
 "nbformat_minor": 4
}
