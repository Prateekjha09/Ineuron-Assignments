{
 "cells": [
  {
   "cell_type": "code",
   "execution_count": 1,
   "metadata": {},
   "outputs": [
    {
     "name": "stdout",
     "output_type": "stream",
     "text": [
      "Enter a number you want to find factorial of: 6\n",
      "720\n"
     ]
    }
   ],
   "source": [
    "'''1. Write a Python Program to Find the Factorial of a Number?'''\n",
    "\n",
    "fact =1 \n",
    "\n",
    "a = int(input('Enter a number you want to find factorial of: '))\n",
    "\n",
    "for i in range(1,a+1):\n",
    "    fact *= i\n",
    "    \n",
    "print(fact)"
   ]
  },
  {
   "cell_type": "code",
   "execution_count": 2,
   "metadata": {},
   "outputs": [
    {
     "name": "stdout",
     "output_type": "stream",
     "text": [
      "Enter a number you want to find  a multiplication of:7\n",
      "7 * 1 = 7\n",
      "7 * 2 = 14\n",
      "7 * 3 = 21\n",
      "7 * 4 = 28\n",
      "7 * 5 = 35\n",
      "7 * 6 = 42\n",
      "7 * 7 = 49\n",
      "7 * 8 = 56\n",
      "7 * 9 = 63\n",
      "7 * 10 = 70\n"
     ]
    }
   ],
   "source": [
    "'''2. Write a Python Program to Display the multiplication Table?'''\n",
    "\n",
    "a = int(input('Enter a number you want to find  a multiplication of:'))\n",
    "\n",
    "for i in range(1,11):\n",
    "    print(a,\"*\",i,\"=\", a*i)"
   ]
  },
  {
   "cell_type": "code",
   "execution_count": 3,
   "metadata": {},
   "outputs": [
    {
     "name": "stdout",
     "output_type": "stream",
     "text": [
      "Enter the value of 'n': 10\n",
      "Fibonacci Series:  0 1 1 2 3 5 8 13 21 34 "
     ]
    }
   ],
   "source": [
    "'''3. Write a Python Program to Print the Fibonacci sequence?'''\n",
    "\n",
    "n = int(input(\"Enter the value of 'n': \"))\n",
    "a = 0\n",
    "b = 1\n",
    "sum = 0\n",
    "count = 1\n",
    "print(\"Fibonacci Series: \", end = \" \")\n",
    "while(count <= n):\n",
    "    print(sum, end = \" \")\n",
    "    count += 1\n",
    "    a = b\n",
    "    b = sum\n",
    "    sum = a + b"
   ]
  },
  {
   "cell_type": "code",
   "execution_count": 8,
   "metadata": {},
   "outputs": [
    {
     "name": "stdout",
     "output_type": "stream",
     "text": [
      "Enter a number to check if it Armstrong number or not: 153\n",
      "153  is an Armstrong number\n"
     ]
    }
   ],
   "source": [
    "'''4. Write a Python Program to Check Armstrong Number?'''\n",
    "\n",
    "a = int(input('Enter a number to check if it Armstrong number or not: '))\n",
    "su = 0\n",
    "rem = 0\n",
    "tmp = a\n",
    "while tmp >0:\n",
    "    rem = tmp%10\n",
    "    su += rem**3\n",
    "    tmp = tmp//10\n",
    "    \n",
    "if a == su:\n",
    "    print(a,' is an Armstrong number')\n",
    "else:\n",
    "    print(a,' is not an Armstrong number')"
   ]
  },
  {
   "cell_type": "code",
   "execution_count": 11,
   "metadata": {},
   "outputs": [
    {
     "name": "stdout",
     "output_type": "stream",
     "text": [
      "Enter the number till you want to find Armstrong numbers: 663\n",
      "0\n",
      "1\n",
      "153\n",
      "370\n",
      "371\n",
      "407\n"
     ]
    }
   ],
   "source": [
    "'''5. Write a Python Program to Find Armstrong Number in an Interval?'''\n",
    "\n",
    "a = int(input('Enter the number till you want to find Armstrong numbers: '))\n",
    "\n",
    "for i in range(0,a+1):\n",
    "    su = 0\n",
    "    rem = 0\n",
    "    tmp = i\n",
    "    while tmp>0:\n",
    "        rem = tmp%10\n",
    "        su +=rem**3\n",
    "        tmp = tmp//10\n",
    "        \n",
    "    if i == su: \n",
    "        print(i)\n",
    "    else:\n",
    "        continue\n",
    "        "
   ]
  },
  {
   "cell_type": "code",
   "execution_count": 4,
   "metadata": {},
   "outputs": [
    {
     "name": "stdout",
     "output_type": "stream",
     "text": [
      "Enter the value of n till which you want to sum up: 20\n",
      "Final sum is  210.0\n"
     ]
    }
   ],
   "source": [
    "'''6. Write a Python Program to Find the Sum of Natural Numbers?'''\n",
    "\n",
    "a = int(input('Enter the value of n till which you want to sum up: '))\n",
    "\n",
    "print('Final sum is ',(a*(a+1))/2)"
   ]
  },
  {
   "cell_type": "code",
   "execution_count": 5,
   "metadata": {},
   "outputs": [
    {
     "data": {
      "text/plain": [
       "210"
      ]
     },
     "execution_count": 5,
     "metadata": {},
     "output_type": "execute_result"
    }
   ],
   "source": [
    "sum([i for i in range(21)])"
   ]
  },
  {
   "cell_type": "code",
   "execution_count": null,
   "metadata": {},
   "outputs": [],
   "source": []
  }
 ],
 "metadata": {
  "kernelspec": {
   "display_name": "Python 3",
   "language": "python",
   "name": "python3"
  },
  "language_info": {
   "codemirror_mode": {
    "name": "ipython",
    "version": 3
   },
   "file_extension": ".py",
   "mimetype": "text/x-python",
   "name": "python",
   "nbconvert_exporter": "python",
   "pygments_lexer": "ipython3",
   "version": "3.8.5"
  }
 },
 "nbformat": 4,
 "nbformat_minor": 4
}
