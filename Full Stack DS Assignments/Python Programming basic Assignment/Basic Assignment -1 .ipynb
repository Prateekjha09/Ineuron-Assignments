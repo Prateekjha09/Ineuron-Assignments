{
 "cells": [
  {
   "cell_type": "code",
   "execution_count": 1,
   "metadata": {},
   "outputs": [
    {
     "name": "stdout",
     "output_type": "stream",
     "text": [
      "Hello Python\n"
     ]
    }
   ],
   "source": [
    "'''1. Write a Python program to print &quot;Hello Python&quot;?'''\n",
    "\n",
    "print(\"Hello Python\")"
   ]
  },
  {
   "cell_type": "code",
   "execution_count": 2,
   "metadata": {},
   "outputs": [
    {
     "name": "stdout",
     "output_type": "stream",
     "text": [
      "2.5\n",
      "7\n"
     ]
    }
   ],
   "source": [
    "'''2. Write a Python program to do arithmetical operations addition and division.?'''\n",
    "\n",
    "print(5/2 ) # division \n",
    "print(5+2) # additon"
   ]
  },
  {
   "cell_type": "code",
   "execution_count": 3,
   "metadata": {},
   "outputs": [
    {
     "name": "stdout",
     "output_type": "stream",
     "text": [
      " The area of triangle is  3.8971143170299736\n"
     ]
    }
   ],
   "source": [
    "'''3. Write a Python program to find the area of a triangle?'''\n",
    "# Here we consider we have side of triangle of side 3 cm\n",
    "\n",
    "import math\n",
    "print(\" The area of triangle is \", (math.sqrt(3)/4)*3**2)"
   ]
  },
  {
   "cell_type": "code",
   "execution_count": 9,
   "metadata": {},
   "outputs": [
    {
     "name": "stdout",
     "output_type": "stream",
     "text": [
      "a = 4  b = 3\n"
     ]
    }
   ],
   "source": [
    "'''4. Write a Python program to swap two variables?'''\n",
    "\n",
    "a,b=3,4\n",
    "\n",
    "a=a+b # Swapping operations\n",
    "b=a-b\n",
    "a=a-b\n",
    "print(\"a =\",a,\" b =\",b)"
   ]
  },
  {
   "cell_type": "code",
   "execution_count": 12,
   "metadata": {},
   "outputs": [
    {
     "name": "stdout",
     "output_type": "stream",
     "text": [
      "3\n"
     ]
    }
   ],
   "source": [
    "'''5.Write a Python program to generate a random number?'''\n",
    "\n",
    "import random\n",
    "\n",
    "print(random.randint(0,9))"
   ]
  },
  {
   "cell_type": "code",
   "execution_count": null,
   "metadata": {},
   "outputs": [],
   "source": []
  }
 ],
 "metadata": {
  "kernelspec": {
   "display_name": "Python 3",
   "language": "python",
   "name": "python3"
  },
  "language_info": {
   "codemirror_mode": {
    "name": "ipython",
    "version": 3
   },
   "file_extension": ".py",
   "mimetype": "text/x-python",
   "name": "python",
   "nbconvert_exporter": "python",
   "pygments_lexer": "ipython3",
   "version": "3.8.5"
  }
 },
 "nbformat": 4,
 "nbformat_minor": 4
}
