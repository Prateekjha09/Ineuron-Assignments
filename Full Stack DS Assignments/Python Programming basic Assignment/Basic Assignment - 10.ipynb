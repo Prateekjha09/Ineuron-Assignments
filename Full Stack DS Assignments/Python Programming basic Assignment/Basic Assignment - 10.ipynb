{
 "cells": [
  {
   "cell_type": "code",
   "execution_count": 1,
   "metadata": {},
   "outputs": [
    {
     "name": "stdout",
     "output_type": "stream",
     "text": [
      "302\n"
     ]
    }
   ],
   "source": [
    "'''1. Write a Python program to find sum of elements in list?'''\n",
    "\n",
    "a = [12,45,33,89,34,89]\n",
    "print(sum(a))"
   ]
  },
  {
   "cell_type": "code",
   "execution_count": 3,
   "metadata": {},
   "outputs": [
    {
     "name": "stdout",
     "output_type": "stream",
     "text": [
      "4799175480\n"
     ]
    }
   ],
   "source": [
    "'''2. Write a Python program to Multiply all numbers in the list?'''\n",
    "\n",
    "a = [12,45,33,89,34,89]\n",
    "pr = 1\n",
    "for i in a :\n",
    "    pr = pr*i\n",
    "print(pr)"
   ]
  },
  {
   "cell_type": "code",
   "execution_count": 4,
   "metadata": {},
   "outputs": [
    {
     "name": "stdout",
     "output_type": "stream",
     "text": [
      "12\n"
     ]
    }
   ],
   "source": [
    "'''3. Write a Python program to find smallest number in a list?'''\n",
    "\n",
    "a = [12,45,33,89,34,89]\n",
    "print(min(a))"
   ]
  },
  {
   "cell_type": "code",
   "execution_count": 5,
   "metadata": {},
   "outputs": [
    {
     "name": "stdout",
     "output_type": "stream",
     "text": [
      "89\n"
     ]
    }
   ],
   "source": [
    "'''4. Write a Python program to find largest number in a list?'''\n",
    "\n",
    "a = [12,45,33,89,34,89]\n",
    "print(max(a))"
   ]
  },
  {
   "cell_type": "code",
   "execution_count": 13,
   "metadata": {},
   "outputs": [
    {
     "name": "stdout",
     "output_type": "stream",
     "text": [
      "99\n"
     ]
    }
   ],
   "source": [
    "'''5. Write a Python program to find second largest number in a list?'''\n",
    "\n",
    "a = [12,45,33,89,34,99,100]\n",
    "a.sort()\n",
    "a.remove(max(a)) # removing max element after sorting\n",
    "print(a[len(a)-1])  # find the max element of list present at the right side of the sorted list"
   ]
  },
  {
   "cell_type": "code",
   "execution_count": 16,
   "metadata": {},
   "outputs": [
    {
     "name": "stdout",
     "output_type": "stream",
     "text": [
      "After sorting array is  [100, 99, 89, 45, 34, 33, 12] What is value of N for you? 5\n",
      "[100, 99, 89, 45, 34]\n"
     ]
    }
   ],
   "source": [
    "'''6. Write a Python program to find N largest elements from a list?'''\n",
    "\n",
    "a = [12,45,33,89,34,99,100]\n",
    "b = []\n",
    "count = 0\n",
    "a.sort(reverse=True)\n",
    "print('After sorting array is ',a,end=' ')\n",
    "n = int(input('What is value of N for you? '))\n",
    "if n < len(a):\n",
    "    for i in range(len(a)):\n",
    "        b.append(a[i])\n",
    "        count+=1\n",
    "        if count == n:\n",
    "            break\n",
    "        else:\n",
    "            continue\n",
    "            \n",
    "print(b)"
   ]
  },
  {
   "cell_type": "code",
   "execution_count": 21,
   "metadata": {},
   "outputs": [
    {
     "name": "stdout",
     "output_type": "stream",
     "text": [
      "[12, 34, 100]\n"
     ]
    }
   ],
   "source": [
    "'''7. Write a Python program to print even numbers in a list?'''\n",
    "\n",
    "a = [12,45,33,89,34,99,100]\n",
    "\n",
    "print([a[i] for i in range(len(a)) if a[i]%2==0 ])"
   ]
  },
  {
   "cell_type": "code",
   "execution_count": 22,
   "metadata": {},
   "outputs": [
    {
     "name": "stdout",
     "output_type": "stream",
     "text": [
      "[45, 33, 89, 99]\n"
     ]
    }
   ],
   "source": [
    "'''8. Write a Python program to print odd numbers in a List?'''\n",
    "\n",
    "a = [12,45,33,89,34,99,100]\n",
    "\n",
    "print([a[i] for i in range(len(a)) if a[i]%2!=0 ])"
   ]
  },
  {
   "cell_type": "code",
   "execution_count": 26,
   "metadata": {},
   "outputs": [
    {
     "name": "stdout",
     "output_type": "stream",
     "text": [
      "[5, 6, 3, 9]\n"
     ]
    }
   ],
   "source": [
    "'''9. Write a Python program to Remove empty List from List?'''\n",
    "\n",
    "test_list = [5, 6, [], 3, [], [], 9]\n",
    "\n",
    "print([i for i in test_list if i!=[]])\n"
   ]
  },
  {
   "cell_type": "code",
   "execution_count": 29,
   "metadata": {},
   "outputs": [
    {
     "name": "stdout",
     "output_type": "stream",
     "text": [
      "[12, 45, 33, 89, 34, 99, 100]\n"
     ]
    }
   ],
   "source": [
    "'''10. Write a Python program to Cloning or Copying a list?'''\n",
    "\n",
    "a = [12,45,33,89,34,99,100]\n",
    "b=a.copy()\n",
    "print(b)"
   ]
  },
  {
   "cell_type": "code",
   "execution_count": 33,
   "metadata": {},
   "outputs": [
    {
     "name": "stdout",
     "output_type": "stream",
     "text": [
      "Enter the element you want to find count of 99\n",
      "The count of  99  is  2\n"
     ]
    }
   ],
   "source": [
    "'''11. Write a Python program to Count occurrences of an element in a list?'''\n",
    "\n",
    "a = [12,45,33,89,34,99,100,99]\n",
    "\n",
    "x = int(input('Enter the element you want to find count of '))\n",
    "count = 0\n",
    "for i in a:\n",
    "    if x==i:\n",
    "        count+=1\n",
    "        \n",
    "print('The count of ',x,' is ',count)"
   ]
  },
  {
   "cell_type": "code",
   "execution_count": null,
   "metadata": {},
   "outputs": [],
   "source": []
  }
 ],
 "metadata": {
  "kernelspec": {
   "display_name": "Python 3",
   "language": "python",
   "name": "python3"
  },
  "language_info": {
   "codemirror_mode": {
    "name": "ipython",
    "version": 3
   },
   "file_extension": ".py",
   "mimetype": "text/x-python",
   "name": "python",
   "nbconvert_exporter": "python",
   "pygments_lexer": "ipython3",
   "version": "3.8.5"
  }
 },
 "nbformat": 4,
 "nbformat_minor": 4
}
