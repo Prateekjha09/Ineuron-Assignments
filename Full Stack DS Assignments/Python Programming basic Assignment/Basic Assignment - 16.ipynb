{
 "cells": [
  {
   "cell_type": "code",
   "execution_count": 1,
   "metadata": {},
   "outputs": [
    {
     "name": "stdout",
     "output_type": "stream",
     "text": [
      "Enter the word of your choice: incredible\n",
      "in... in... incredible?\n"
     ]
    }
   ],
   "source": [
    "'''1.\n",
    "Write a function that stutters a word as if someone is struggling to read it. The\n",
    "first two letters are repeated twice with an ellipsis ... and space after each, and then the\n",
    "word is pronounced with a question mark ?.\n",
    "Examples\n",
    "stutter(\"incredible\") ➞ \"in... in... incredible?;\n",
    "stutter(\"enthusiastic\") ➞\"en... en... enthusiastic?\"\n",
    "stutter(\"outstanding\") ➞ \"ou... ou... outstanding?\"'''\n",
    "\n",
    "def stutter(s):\n",
    "    return s[:2]+\"... \"+s[:2]+\"... \"+s+\"?\"\n",
    "\n",
    "x = input('Enter the word of your choice: ')\n",
    "print(stutter(x))"
   ]
  },
  {
   "cell_type": "code",
   "execution_count": 5,
   "metadata": {},
   "outputs": [
    {
     "name": "stdout",
     "output_type": "stream",
     "text": [
      "Enter the angle in radians: 20\n",
      "1145.9\n"
     ]
    }
   ],
   "source": [
    "'''2.\n",
    "Create a function that takes an angle in radians and returns the corresponding\n",
    "angle in degrees rounded to one decimal place.\n",
    "Examples\n",
    "radians_to_degrees(1) ➞ 57.3\n",
    "radians_to_degrees(20) ➞ 1145.9\n",
    "radians_to_degrees(50) ➞ 2864.8'''\n",
    "\n",
    "\n",
    "import math\n",
    "import numpy as np\n",
    "def radians_to_degrees(x):\n",
    "    return np.round(x*180/(math.pi),1)\n",
    "\n",
    "\n",
    "print(radians_to_degrees(int(input('Enter the angle in radians: '))))"
   ]
  },
  {
   "cell_type": "code",
   "execution_count": 10,
   "metadata": {},
   "outputs": [
    {
     "name": "stdout",
     "output_type": "stream",
     "text": [
      "Enter the number you want to check for curzon number 14\n",
      "True\n"
     ]
    }
   ],
   "source": [
    "'''3.\n",
    "In this challenge, establish if a given integer num is a Curzon number. If 1 plus\n",
    "2 elevated to num is exactly divisible by 1 plus 2 multiplied by num, then num is a Curzon\n",
    "number.\n",
    "Given a non-negative integer num, implement a function that returns True if num is a Curzon\n",
    "number, or False otherwise.\n",
    "Examples\n",
    "is_curzon(5) ➞ True\n",
    "# 2 ** 5 + 1 = 33\n",
    "# 2 * 5 + 1 = 11\n",
    "# 33 is a multiple of 11\n",
    "is_curzon(10) ➞ False\n",
    "# 2 ** 10 + 1 = 1025\n",
    "# 2 * 10 + 1 = 21\n",
    "# 1025 is not a multiple of 21\n",
    "is_curzon(14) ➞ True\n",
    "# 2 ** 14 + 1 = 16385\n",
    "# 2 * 14 + 1 = 29\n",
    "# 16385 is a multiple of 29'''\n",
    "\n",
    "def is_curzon(x):\n",
    "    if x>0:\n",
    "        if (2**x+1)%(2*x+1)==0:\n",
    "            return True\n",
    "        else:\n",
    "            return False\n",
    "    elif x<0:\n",
    "        return False\n",
    "    \n",
    "print(is_curzon(int(input('Enter the number you want to check for curzon number '))))\n",
    "\n",
    "    "
   ]
  },
  {
   "cell_type": "code",
   "execution_count": 15,
   "metadata": {},
   "outputs": [
    {
     "name": "stdout",
     "output_type": "stream",
     "text": [
      "Enter the length of hexagon side 1\n",
      "Area of the hexagon is  1\n"
     ]
    }
   ],
   "source": [
    "'''4.\n",
    "Given the side length x find the area of a hexagon.'''\n",
    "\n",
    "import math\n",
    "def hex_area(s):\n",
    "    return ((3 * math.sqrt(3) *\n",
    "            (s * s)) / 2)\n",
    "\n",
    "print('Area of the hexagon is ', int(input('Enter the length of hexagon side ')))"
   ]
  },
  {
   "cell_type": "code",
   "execution_count": 20,
   "metadata": {},
   "outputs": [
    {
     "name": "stdout",
     "output_type": "stream",
     "text": [
      "10\n",
      "1010None\n"
     ]
    }
   ],
   "source": [
    "'''5. \n",
    "Create a function that returns a base-2 (binary) representation of a base-10\n",
    "(decimal) string number. To convert is simple: ((2) means base-2 and (10) means base-10)\n",
    "010101001(2) = 1 + 8 + 32 + 128.\n",
    "Going from right to left, the value of the most right bit is 1, now from that every bit to the left\n",
    "will be x2 the value, value of an 8 bit binary numbers are (256, 128, 64, 32, 16, 8, 4, 2, 1).\n",
    "Examples\n",
    "binary(1) ➞ \"1\"\n",
    "# 1*1 = 1\n",
    "binary(5) ➞ \"101\"\n",
    "# 1*1 + 1*4 = 5\n",
    "binary(10) ➞ \"1010\"\n",
    "# 1*2 + 1*8 = 10'''\n",
    "\n",
    "def binary(n):\n",
    "    if n >1:\n",
    "        binary(n//2)\n",
    "        \n",
    "    print(n%2,end='')\n",
    "    \n",
    "print(binary(int(input())))"
   ]
  },
  {
   "cell_type": "code",
   "execution_count": null,
   "metadata": {},
   "outputs": [],
   "source": [
    "   "
   ]
  }
 ],
 "metadata": {
  "kernelspec": {
   "display_name": "Python 3",
   "language": "python",
   "name": "python3"
  },
  "language_info": {
   "codemirror_mode": {
    "name": "ipython",
    "version": 3
   },
   "file_extension": ".py",
   "mimetype": "text/x-python",
   "name": "python",
   "nbconvert_exporter": "python",
   "pygments_lexer": "ipython3",
   "version": "3.8.5"
  }
 },
 "nbformat": 4,
 "nbformat_minor": 4
}
