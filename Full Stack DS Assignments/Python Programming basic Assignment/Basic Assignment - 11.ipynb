{
 "cells": [
  {
   "cell_type": "code",
   "execution_count": 1,
   "metadata": {},
   "outputs": [
    {
     "name": "stdout",
     "output_type": "stream",
     "text": [
      "Enter your string :My name is Prateek Kumar Jha\n",
      " Enter k value 4\n",
      "['name', 'Prateek', 'Kumar']\n"
     ]
    }
   ],
   "source": [
    "'''1. Write a Python program to find words which are greater than given length k?'''\n",
    "x = input('Enter your string :')\n",
    "l = []\n",
    "k = int(input(' Enter k value '))\n",
    "for i in x.split():\n",
    "    if len(i) >= k:\n",
    "        l.append(i)\n",
    "        \n",
    "print(l)"
   ]
  },
  {
   "cell_type": "code",
   "execution_count": 4,
   "metadata": {},
   "outputs": [
    {
     "name": "stdout",
     "output_type": "stream",
     "text": [
      "Enter your string: Prateek\n",
      "Enter the kth index value :2\n",
      "Prteek\n"
     ]
    }
   ],
   "source": [
    "'''2. Write a Python program for removing i-th character from a string?'''\n",
    "\n",
    "x = input('Enter your string: ')\n",
    "k = int(input('Enter the kth index value :'))\n",
    "\n",
    "if k<len(x):\n",
    "    x=x.replace(x[k],'')\n",
    "        \n",
    "print(x)\n"
   ]
  },
  {
   "cell_type": "code",
   "execution_count": 10,
   "metadata": {},
   "outputs": [
    {
     "name": "stdout",
     "output_type": "stream",
     "text": [
      "Enter your stringMy Name is Prateek Kumar Jha\n",
      "['My', 'Name', 'is', 'Prateek', 'Kumar', 'Jha']\n",
      "Enter your stringMy Name is Prateek Kumar Jha\n",
      "My-Name-is-Prateek-Kumar-Jha\n"
     ]
    }
   ],
   "source": [
    "'''3. Write a Python program to split and join a string?'''\n",
    "\n",
    "print(input('Enter your string').split())\n",
    "print('-'.join(input('Enter your string').split())) # joining based on a delimeter"
   ]
  },
  {
   "cell_type": "code",
   "execution_count": 15,
   "metadata": {},
   "outputs": [
    {
     "name": "stdout",
     "output_type": "stream",
     "text": [
      "Enter your string 020202\n",
      "Not a binary number\n"
     ]
    }
   ],
   "source": [
    "'''4. Write a Python to check if a given string is binary string or not?'''\n",
    "\n",
    "x = input('Enter your string ')\n",
    "\n",
    "x = set(x)\n",
    "\n",
    "if len(x) == 2:\n",
    "    if ('1' in x) and ('0' in x):\n",
    "        print('Only binary number')\n",
    "        \n",
    "    else:\n",
    "        print('Not a binary number')\n",
    "        \n",
    "else:\n",
    "    print('Not a binary number')\n",
    "    \n",
    "    "
   ]
  },
  {
   "cell_type": "code",
   "execution_count": 18,
   "metadata": {},
   "outputs": [
    {
     "name": "stdout",
     "output_type": "stream",
     "text": [
      "Enter the string apple banana mango\n",
      "Enter the string apple banana tree data science\n",
      "{'mango', 'tree', 'science', 'data'}\n"
     ]
    }
   ],
   "source": [
    "'''5. Write a Python program to find uncommon words from two Strings?'''\n",
    "\n",
    "a = input('Enter the string ')\n",
    "b = input('Enter the string ')\n",
    "\n",
    "print(set(a.split()).symmetric_difference(set(b.split())))"
   ]
  },
  {
   "cell_type": "code",
   "execution_count": 22,
   "metadata": {},
   "outputs": [
    {
     "name": "stdout",
     "output_type": "stream",
     "text": [
      "Enter your string : My name is Prateek\n",
      "m ae"
     ]
    }
   ],
   "source": [
    "'''6. Write a Python to find all duplicate characters in string?'''\n",
    "\n",
    "dc = {}\n",
    "\n",
    "s = input('Enter your string : ')\n",
    "\n",
    "for i in s.lower():\n",
    "    if i in dc:\n",
    "        dc[i] +=1\n",
    "    else:\n",
    "        dc[i] =1\n",
    "        \n",
    "for key,value in dc.items():\n",
    "    if value>1:\n",
    "        print(key, end = '')"
   ]
  },
  {
   "cell_type": "code",
   "execution_count": 27,
   "metadata": {},
   "outputs": [
    {
     "name": "stdout",
     "output_type": "stream",
     "text": [
      "Enter the required string Prat**k\n",
      "Yes present\n"
     ]
    }
   ],
   "source": [
    "'''7. Write a Python Program to check if a string contains any special character?'''\n",
    "\n",
    "s = input('Enter the required string ')\n",
    "spe = ['@','_','!','#','$','%','^','&','*','(',')','<','>','?','/','\\',','|','}','{','~',':',']']\n",
    "for i in s:\n",
    "    if i in spe:\n",
    "        print('Yes present')\n",
    "        break\n",
    "    else:\n",
    "        continue\n",
    "        \n"
   ]
  },
  {
   "cell_type": "code",
   "execution_count": null,
   "metadata": {},
   "outputs": [],
   "source": []
  }
 ],
 "metadata": {
  "kernelspec": {
   "display_name": "Python 3",
   "language": "python",
   "name": "python3"
  },
  "language_info": {
   "codemirror_mode": {
    "name": "ipython",
    "version": 3
   },
   "file_extension": ".py",
   "mimetype": "text/x-python",
   "name": "python",
   "nbconvert_exporter": "python",
   "pygments_lexer": "ipython3",
   "version": "3.8.5"
  }
 },
 "nbformat": 4,
 "nbformat_minor": 4
}
