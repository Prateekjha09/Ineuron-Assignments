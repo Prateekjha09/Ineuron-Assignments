{
 "cells": [
  {
   "cell_type": "code",
   "execution_count": 4,
   "metadata": {},
   "outputs": [
    {
     "name": "stdout",
     "output_type": "stream",
     "text": [
      "18\n"
     ]
    }
   ],
   "source": [
    "'''1. \n",
    "Create a function that takes three arguments a, b, c and returns the sum of the\n",
    "numbers that are evenly divided by c from the range a, b inclusive.\n",
    "Examples\n",
    "evenly_divisible(1, 10, 20) ➞ 0\n",
    "# No number between 1 and 10 can be evenly divided by 20.\n",
    "evenly_divisible(1, 10, 2) ➞ 30\n",
    "# 2 + 4 + 6 + 8 + 10 = 30\n",
    "evenly_divisible(1, 10, 3) ➞ 18\n",
    "# 3 + 6 + 9 = 18'''\n",
    "\n",
    "def even_divisible(a,b,c):\n",
    "    if b<c:\n",
    "        return 0\n",
    "    elif b>=c:\n",
    "        sum = 0\n",
    "        for i in range(a,b+1):\n",
    "            if i %c ==0:\n",
    "                sum+=i\n",
    "        return sum\n",
    "    \n",
    "print(even_divisible(1,10,3))\n",
    "    "
   ]
  },
  {
   "cell_type": "code",
   "execution_count": 48,
   "metadata": {},
   "outputs": [
    {
     "name": "stdout",
     "output_type": "stream",
     "text": [
      "True\n",
      "False\n",
      "False\n"
     ]
    }
   ],
   "source": [
    "'''2.\n",
    "Create a function that returns True if a given inequality expression is correct and\n",
    "False otherwise.\n",
    "Examples\n",
    "correct_signs(&quot;3 &lt; 7 &lt; 11&quot;) ➞ True\n",
    "correct_signs(&quot;13 &gt; 44 &gt; 33 &gt; 1&quot;) ➞ False\n",
    "correct_signs(&quot;1 &lt; 2 &lt; 6 &lt; 9 &gt; 3&quot;) ➞ True'''\n",
    "\n",
    "'''\n",
    "def correct_signs(s):\n",
    "    (if '<' in s) or (if '>' in s):'''\n",
    "        \n",
    "    \n",
    "    \n",
    "def correct_signs(s):\n",
    "    char_list =['<','>']\n",
    "    nu = []\n",
    "    for i in char_list:\n",
    "        if i in s:\n",
    "            # removing the < or > characters from my string\n",
    "            s=s.replace(i,' ') \n",
    "\n",
    "    for i in s.split(' '):\n",
    "        # extracting the integer values from string formed after removing spaces and appending the values to a list\n",
    "        nu.append(int(i))\n",
    "\n",
    "\n",
    "    nu_test = nu[:]\n",
    "    nu_test.sort()\n",
    "\n",
    "    if nu == nu_test:\n",
    "        return True\n",
    "    else:\n",
    "        return False\n",
    "\n",
    "print(correct_signs('3<7<11'))\n",
    "print(correct_signs('13>44>33>1'))\n",
    "print(correct_signs('1<2<6<9>3'))"
   ]
  },
  {
   "cell_type": "code",
   "execution_count": 31,
   "metadata": {},
   "outputs": [
    {
     "name": "stdout",
     "output_type": "stream",
     "text": [
      "Enter the string the aardvark\n",
      "Enter the string you want to replace vowels with#\n",
      "Given Sting: the aardvark\n",
      "Given Specified Character: #\n",
      "Afer replacing vowels with the specified character: th# ##rdv#rk\n"
     ]
    }
   ],
   "source": [
    "'''3.\n",
    "Question3. Create a function that replaces all the vowels in a string with a specified character.\n",
    "Examples\n",
    "replace_vowels(&quot;the aardvark&quot;, &quot;#&quot;) ➞ &quot;th# ##rdv#rk&quot;\n",
    "replace_vowels(&quot;minnie mouse&quot;, &quot;?&quot;) ➞ &quot;m?nn?? m??s?&quot;\n",
    "replace_vowels(&quot;shakespeare&quot;, &quot;*&quot;) ➞ &quot;sh*k*sp**r*&quot;'''\n",
    "\n",
    "def replaceVowelsWithK(test_str, K):\n",
    "    vowels = 'AEIOUaeiou'\n",
    "    for ele in vowels:\n",
    "        test_str = test_str.replace(ele, K)\n",
    "  \n",
    "    return test_str\n",
    "  \n",
    "input_str = input('Enter the string ')\n",
    "K = input('Enter the string you want to replace vowels with')\n",
    "  \n",
    "print(\"Given Sting:\", input_str)\n",
    "print(\"Given Specified Character:\", K)\n",
    "print(\"Afer replacing vowels with the specified character:\",replaceVowelsWithK(input_str, K))"
   ]
  },
  {
   "cell_type": "code",
   "execution_count": 37,
   "metadata": {},
   "outputs": [
    {
     "name": "stdout",
     "output_type": "stream",
     "text": [
      "Enter the number you want to find the factorial of 5\n",
      "120\n"
     ]
    }
   ],
   "source": [
    "'''4. \n",
    "Write a function that calculates the factorial of a number recursively.\n",
    "Examples\n",
    "factorial(5) ➞ 120\n",
    "factorial(3) ➞ 6\n",
    "factorial(1) ➞ 1\n",
    "factorial(0) ➞ 1'''\n",
    "\n",
    "def fact(n):\n",
    "    f =1\n",
    "    if n == 1 or n ==0:\n",
    "        return f\n",
    "    elif n>0:\n",
    "        f=n*fact(n-1)\n",
    "    return f\n",
    "\n",
    "print(fact(int(input('Enter the number you want to find the factorial of '))))"
   ]
  },
  {
   "cell_type": "code",
   "execution_count": 41,
   "metadata": {},
   "outputs": [
    {
     "name": "stdout",
     "output_type": "stream",
     "text": [
      "5\n",
      "0\n",
      "1\n"
     ]
    }
   ],
   "source": [
    "'''5. \n",
    "Hamming distance is the number of characters that differ between two strings.\n",
    "To illustrate:\n",
    "String1: &quot;abcbba&quot;\n",
    "String2: &quot;abcbda&quot;\n",
    "Hamming Distance: 1 - &quot;b&quot; vs. &quot;d&quot; is the only difference.\n",
    "Create a function that computes the hamming distance between two strings.\n",
    "Examples\n",
    "hamming_distance(&quot;abcde&quot;, &quot;bcdef&quot;) ➞ 5\n",
    "hamming_distance(&quot;abcde&quot;, &quot;abcde&quot;) ➞ 0\n",
    "hamming_distance(&quot;strong&quot;, &quot;strung&quot;) ➞ 1'''\n",
    "\n",
    "def hamming_distance(a,b):\n",
    "    cp =0\n",
    "    for i in range(len(a)):\n",
    "        for j in range(len(b)):\n",
    "            if i == j and a[i] == b[j]:\n",
    "                continue\n",
    "            elif i ==j and a[i]!= b[j]:\n",
    "                cp+=1\n",
    "                \n",
    "    return cp\n",
    "\n",
    "print(hamming_distance('abcde','bcdef'))\n",
    "print(hamming_distance('abcde','abcde'))\n",
    "print(hamming_distance('strong','strung'))"
   ]
  },
  {
   "cell_type": "code",
   "execution_count": null,
   "metadata": {},
   "outputs": [],
   "source": []
  }
 ],
 "metadata": {
  "kernelspec": {
   "display_name": "Python 3",
   "language": "python",
   "name": "python3"
  },
  "language_info": {
   "codemirror_mode": {
    "name": "ipython",
    "version": 3
   },
   "file_extension": ".py",
   "mimetype": "text/x-python",
   "name": "python",
   "nbconvert_exporter": "python",
   "pygments_lexer": "ipython3",
   "version": "3.8.5"
  }
 },
 "nbformat": 4,
 "nbformat_minor": 4
}
