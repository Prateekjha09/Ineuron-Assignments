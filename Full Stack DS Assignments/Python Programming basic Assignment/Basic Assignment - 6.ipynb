{
 "cells": [
  {
   "cell_type": "code",
   "execution_count": 1,
   "metadata": {},
   "outputs": [
    {
     "name": "stdout",
     "output_type": "stream",
     "text": [
      "How many fibonacci numbers do you want to 10\n",
      "0\n",
      "1\n",
      "1\n",
      "2\n",
      "3\n",
      "5\n",
      "8\n",
      "13\n",
      "21\n",
      "34\n"
     ]
    }
   ],
   "source": [
    "'''1. Write a Python Program to Display Fibonacci Sequence Using Recursion?'''\n",
    "\n",
    "def fib(a):\n",
    "    if a<=1:\n",
    "        return a\n",
    "    return fib(a-1)+fib(a-2)\n",
    "    \n",
    "n = int(input('How many fibonacci numbers do you want to '))\n",
    "if n<0 :\n",
    "    print('Enter correct input')\n",
    "else: \n",
    "    for i in range(n):\n",
    "        print(fib(i))"
   ]
  },
  {
   "cell_type": "code",
   "execution_count": 2,
   "metadata": {},
   "outputs": [
    {
     "name": "stdout",
     "output_type": "stream",
     "text": [
      "Enter the number you want to find factorial of 6\n",
      "720\n"
     ]
    }
   ],
   "source": [
    "'''2. Write a Python Program to Find Factorial of Number Using Recursion?'''\n",
    "\n",
    "def fact(n):\n",
    "    if n <=1:\n",
    "        return n\n",
    "    return n*fact(n-1)\n",
    "    \n",
    "a = int(input('Enter the number you want to find factorial of '))\n",
    "if a<0:\n",
    "    print('Enter correct input')\n",
    "else: \n",
    "    print(fact(a))"
   ]
  },
  {
   "cell_type": "code",
   "execution_count": 3,
   "metadata": {},
   "outputs": [
    {
     "name": "stdout",
     "output_type": "stream",
     "text": [
      "BMI is  26.775510204081634\n"
     ]
    }
   ],
   "source": [
    "'''3. Write a Python Program to calculate your Body Mass Index?'''\n",
    "\n",
    "height = 175\n",
    "weight = 82\n",
    "\n",
    "BMI = weight/(height/100)**2\n",
    "print('BMI is ',BMI)"
   ]
  },
  {
   "cell_type": "code",
   "execution_count": 5,
   "metadata": {},
   "outputs": [
    {
     "name": "stdout",
     "output_type": "stream",
     "text": [
      "Enter a number which you want to find logarithm of 90\n",
      "1.954242509439325\n"
     ]
    }
   ],
   "source": [
    "'''4. Write a Python Program to calculate the natural logarithm of any number?'''\n",
    "import math\n",
    "a = int(input('Enter a number which you want to find logarithm of '))\n",
    "\n",
    "print(math.log10(a))"
   ]
  },
  {
   "cell_type": "code",
   "execution_count": 7,
   "metadata": {},
   "outputs": [
    {
     "name": "stdout",
     "output_type": "stream",
     "text": [
      "Enter the number till which you to find cube sum: 10\n",
      "0\n",
      "1\n",
      "8\n",
      "27\n",
      "64\n",
      "125\n",
      "216\n",
      "343\n",
      "512\n",
      "729\n",
      "1000\n"
     ]
    }
   ],
   "source": [
    "'''5. Write a Python Program for cube sum of first n natural numbers?'''\n",
    "\n",
    "a = int(input('Enter the number till which you to find cube sum: '))\n",
    "\n",
    "for i in range(a+1):\n",
    "    sum = 0\n",
    "    sum += i**3\n",
    "    print(sum)"
   ]
  },
  {
   "cell_type": "code",
   "execution_count": null,
   "metadata": {},
   "outputs": [],
   "source": []
  }
 ],
 "metadata": {
  "kernelspec": {
   "display_name": "Python 3",
   "language": "python",
   "name": "python3"
  },
  "language_info": {
   "codemirror_mode": {
    "name": "ipython",
    "version": 3
   },
   "file_extension": ".py",
   "mimetype": "text/x-python",
   "name": "python",
   "nbconvert_exporter": "python",
   "pygments_lexer": "ipython3",
   "version": "3.8.5"
  }
 },
 "nbformat": 4,
 "nbformat_minor": 4
}
