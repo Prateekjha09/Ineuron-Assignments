{
 "cells": [
  {
   "cell_type": "code",
   "execution_count": 3,
   "metadata": {},
   "outputs": [
    {
     "name": "stdout",
     "output_type": "stream",
     "text": [
      "Enter the number you want to check 7227\n",
      "True\n",
      "Enter the number you want to check 12567\n",
      "False\n",
      "Enter the number you want to check 44444444\n",
      "True\n",
      "Enter the number you want to check 9939\n",
      "False\n",
      "Enter the number you want to check 1112111\n",
      "True\n"
     ]
    }
   ],
   "source": [
    "'''1.\n",
    "Create a function that takes a number as an argument and returns True or False depending\n",
    "on whether the number is symmetrical or not. A number is symmetrical when it is the same as\n",
    "its reverse.\n",
    "Examples\n",
    "is_symmetrical(7227) ➞ True\n",
    "is_symmetrical(12567) ➞ False\n",
    "is_symmetrical(44444444) ➞ True\n",
    "is_symmetrical(9939) ➞ False\n",
    "is_symmetrical(1112111) ➞ True'''\n",
    "\n",
    "def is_symmetrical(s):    \n",
    "    if s[::-1]==s:\n",
    "        return True\n",
    "    elif s[::-1]!=s:\n",
    "        return False\n",
    "        \n",
    "print(is_symmetrical(input('Enter the number you want to check ')))\n",
    "print(is_symmetrical(input('Enter the number you want to check ')))\n",
    "print(is_symmetrical(input('Enter the number you want to check ')))\n",
    "print(is_symmetrical(input('Enter the number you want to check ')))\n",
    "print(is_symmetrical(input('Enter the number you want to check ')))"
   ]
  },
  {
   "cell_type": "code",
   "execution_count": 6,
   "metadata": {},
   "outputs": [
    {
     "name": "stdout",
     "output_type": "stream",
     "text": [
      "6\n",
      "24\n",
      "0\n",
      "-20\n"
     ]
    }
   ],
   "source": [
    "'''2.\n",
    "Given a string of numbers separated by a comma and space, return the product of the\n",
    "numbers.\n",
    "Examples\n",
    "multiply_nums(&quot;2, 3&quot;) ➞ 6\n",
    "multiply_nums(&quot;1, 2, 3, 4&quot;) ➞ 24\n",
    "multiply_nums(&quot;54, 75, 453, 0&quot;) ➞ 0\n",
    "multiply_nums(&quot;10, -2&quot;) ➞ -20'''\n",
    "\n",
    "def multiply_nums(a):\n",
    "    m = 1\n",
    "    for i in a.split(','):\n",
    "        m *=int(i)\n",
    "    return m\n",
    "\n",
    "print(multiply_nums('2,3'))\n",
    "print(multiply_nums('1,2,3,4'))\n",
    "print(multiply_nums('54,75,453,0'))\n",
    "print(multiply_nums('10,-2'))"
   ]
  },
  {
   "cell_type": "code",
   "execution_count": 9,
   "metadata": {},
   "outputs": [
    {
     "name": "stdout",
     "output_type": "stream",
     "text": [
      "Enter the digits you want to square 9119\n",
      "811181\n",
      "Enter the digits you want to square 2483\n",
      "416649\n",
      "Enter the digits you want to square 3212\n",
      "9414\n"
     ]
    }
   ],
   "source": [
    "'''3. \n",
    "Create a function that squares every digit of a number.\n",
    "Examples\n",
    "square_digits(9119) ➞ 811181\n",
    "square_digits(2483) ➞ 416649\n",
    "square_digits(3212) ➞ 9414\n",
    "Notes\n",
    "The function receives an integer and must return an integer.'''\n",
    "\n",
    "def square_digits(a):\n",
    "    s = ''\n",
    "    for i in a:\n",
    "        s+=str(int(i)**2)\n",
    "        \n",
    "    return s\n",
    "\n",
    "print(square_digits(input('Enter the digits you want to square ')))\n",
    "print(square_digits(input('Enter the digits you want to square ')))\n",
    "print(square_digits(input('Enter the digits you want to square ')))"
   ]
  },
  {
   "cell_type": "code",
   "execution_count": 13,
   "metadata": {},
   "outputs": [
    {
     "name": "stdout",
     "output_type": "stream",
     "text": [
      "[1, 3, 5]\n",
      "[4]\n",
      "[5, 7, 8, 9, 10, 15]\n",
      "[1, 2, 3]\n"
     ]
    }
   ],
   "source": [
    "'''4.\n",
    "Create a function that sorts a list and removes all duplicate items from it.\n",
    "Examples\n",
    "setify([1, 3, 3, 5, 5]) ➞ [1, 3, 5]\n",
    "setify([4, 4, 4, 4]) ➞ [4]\n",
    "setify([5, 7, 8, 9, 10, 15]) ➞ [5, 7, 8, 9, 10, 15]\n",
    "setify([3, 3, 3, 2, 1]) ➞ [1, 2, 3]'''\n",
    "\n",
    "def setify(a):\n",
    "    return list(set(a))\n",
    "\n",
    "print(setify([1,3,3,5,5]))\n",
    "print(setify([4,4,4,4]))\n",
    "print(setify([5,7,8,9,10,15]))\n",
    "print(setify([3,3,3,2,1]))"
   ]
  },
  {
   "cell_type": "code",
   "execution_count": 15,
   "metadata": {},
   "outputs": [
    {
     "name": "stdout",
     "output_type": "stream",
     "text": [
      "Enter the number you want to find mean of 42\n",
      "3\n",
      "Enter the number you want to find mean of 12345\n",
      "3\n",
      "Enter the number you want to find mean of 666\n",
      "6\n"
     ]
    }
   ],
   "source": [
    "'''5. \n",
    "Create a function that returns the mean of all digits.\n",
    "Examples\n",
    "mean(42) ➞ 3\n",
    "mean(12345) ➞ 3\n",
    "mean(666) ➞ 6\n",
    "Notes\n",
    " The mean of all digits is the sum of digits / how many digits there are (e.g. mean of digits in\n",
    "512 is (5+1+2)/3(number of digits) = 8/3=2).\n",
    " The mean will always be an integer.'''\n",
    "\n",
    "def mean(a):\n",
    "    su = 0\n",
    "    for i in a:\n",
    "        su += int(i)\n",
    "        \n",
    "    return su//len(a)\n",
    "\n",
    "print(mean(input('Enter the number you want to find mean of ')))\n",
    "print(mean(input('Enter the number you want to find mean of ')))\n",
    "print(mean(input('Enter the number you want to find mean of ')))"
   ]
  },
  {
   "cell_type": "code",
   "execution_count": null,
   "metadata": {},
   "outputs": [],
   "source": []
  }
 ],
 "metadata": {
  "kernelspec": {
   "display_name": "Python 3",
   "language": "python",
   "name": "python3"
  },
  "language_info": {
   "codemirror_mode": {
    "name": "ipython",
    "version": 3
   },
   "file_extension": ".py",
   "mimetype": "text/x-python",
   "name": "python",
   "nbconvert_exporter": "python",
   "pygments_lexer": "ipython3",
   "version": "3.8.5"
  }
 },
 "nbformat": 4,
 "nbformat_minor": 4
}
