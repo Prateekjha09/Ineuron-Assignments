{
 "cells": [
  {
   "cell_type": "code",
   "execution_count": 13,
   "metadata": {},
   "outputs": [
    {
     "name": "stdout",
     "output_type": "stream",
     "text": [
      "Enter a value that you want to check135\n",
      "Disarium number\n"
     ]
    }
   ],
   "source": [
    "'''1. Write a Python program to check if the given number is a Disarium Number?'''\n",
    "\n",
    "a = input('Enter a value that you want to check')\n",
    "su = 0\n",
    "for i in range(len(str(a))):\n",
    "    su+=int(a[i])**(i+1)\n",
    "    #print(su)\n",
    "if str(su)==a:\n",
    "    print('Disarium number')\n",
    "else:\n",
    "    print('Not Disarium number')"
   ]
  },
  {
   "cell_type": "code",
   "execution_count": 15,
   "metadata": {},
   "outputs": [
    {
     "name": "stdout",
     "output_type": "stream",
     "text": [
      "All the numbers between 1 and 100 are 0 1 2 3 4 5 6 7 8 9 89 "
     ]
    }
   ],
   "source": [
    "'''2. Write a Python program to print all disarium numbers between 1 to 100?'''\n",
    "\n",
    "\n",
    "print('All the numbers between 1 and 100 are', end=' ')\n",
    "for i in range(101):\n",
    "    i = str(i)\n",
    "    su = 0\n",
    "    for j in range(len(str(i))):\n",
    "        su+=int(i[j])**(j+1)\n",
    "        \n",
    "    if str(su) == i:\n",
    "        print(i, end=' ')\n",
    "    else:\n",
    "        continue"
   ]
  },
  {
   "cell_type": "code",
   "execution_count": 27,
   "metadata": {},
   "outputs": [
    {
     "name": "stdout",
     "output_type": "stream",
     "text": [
      "13 is a Happy number\n"
     ]
    }
   ],
   "source": [
    "# Credits : https://www.geeksforgeeks.org/happy-number/\n",
    "def numSquareSum(n):\n",
    "\tsquareSum = 0;\n",
    "\twhile(n):\n",
    "\t\tsquareSum += (n % 10) * (n % 10);\n",
    "\t\tn = int(n / 10);\n",
    "\treturn squareSum;\n",
    "\n",
    "def isHappynumber(n):\n",
    "\n",
    "\tslow = n;\n",
    "\tfast = n;\n",
    "\twhile(True):\n",
    "\t\t\n",
    "\t\tslow = numSquareSum(slow);\n",
    "\n",
    "\t\tfast = numSquareSum(numSquareSum(fast));\n",
    "\t\tif(slow != fast):\n",
    "\t\t\tcontinue;\n",
    "\t\telse:\n",
    "\t\t\tbreak;\n",
    "\treturn (slow == 1);\n",
    "\n",
    "n = 13;\n",
    "if (isHappynumber(n)):\n",
    "\tprint(n , \"is a Happy number\");\n",
    "else:\n",
    "\tprint(n , \"is not a Happy number\");\n"
   ]
  },
  {
   "cell_type": "code",
   "execution_count": 20,
   "metadata": {},
   "outputs": [
    {
     "name": "stdout",
     "output_type": "stream",
     "text": [
      "Enter any number that you find out as harshad number 156\n",
      "156  is a harshad number\n"
     ]
    }
   ],
   "source": [
    "'''5. Write a Python program to determine whether the given number is a Harshad Number?'''\n",
    "\n",
    "a = int(input('Enter any number that you find out as harshad number '))\n",
    "su =0\n",
    "tmp =a\n",
    "while tmp!=0:\n",
    "    rem = tmp%10\n",
    "    su += rem\n",
    "    tmp = tmp//10\n",
    "    \n",
    "if a%su ==0:\n",
    "    print(a,' is a harshad number')\n",
    "else:\n",
    "    print(a,' is not a harshad number')"
   ]
  },
  {
   "cell_type": "code",
   "execution_count": 24,
   "metadata": {},
   "outputs": [
    {
     "name": "stdout",
     "output_type": "stream",
     "text": [
      "Following is my pronic numbers between 1 and 100\n",
      "2 6 12 20 30 42 56 72 90 110 132 156 182 210 240 272 306 342 380 420 462 506 552 600 650 702 756 812 870 930 992 1056 1122 1190 1260 1332 1406 1482 1560 1640 1722 1806 1892 1980 2070 2162 2256 2352 2450 2550 2652 2756 2862 2970 3080 3192 3306 3422 3540 3660 3782 3906 4032 4160 4290 4422 4556 4692 4830 4970 5112 5256 5402 5550 5700 5852 6006 6162 6320 6480 6642 6806 6972 7140 7310 7482 7656 7832 8010 8190 8372 8556 8742 8930 9120 9312 9506 9702 9900 10100 "
     ]
    }
   ],
   "source": [
    "'''6. Write a Python program to print all pronic numbers between 1 and 100?'''\n",
    "\n",
    "print('Following is my pronic numbers between 1 and 100')\n",
    "for i in range(1,101):\n",
    "    print(i*(i+1),end=' ')"
   ]
  },
  {
   "cell_type": "code",
   "execution_count": null,
   "metadata": {},
   "outputs": [],
   "source": []
  }
 ],
 "metadata": {
  "kernelspec": {
   "display_name": "Python 3",
   "language": "python",
   "name": "python3"
  },
  "language_info": {
   "codemirror_mode": {
    "name": "ipython",
    "version": 3
   },
   "file_extension": ".py",
   "mimetype": "text/x-python",
   "name": "python",
   "nbconvert_exporter": "python",
   "pygments_lexer": "ipython3",
   "version": "3.8.5"
  }
 },
 "nbformat": 4,
 "nbformat_minor": 4
}
