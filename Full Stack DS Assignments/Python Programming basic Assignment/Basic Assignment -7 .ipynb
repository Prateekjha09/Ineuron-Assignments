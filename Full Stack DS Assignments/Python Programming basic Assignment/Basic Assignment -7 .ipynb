{
 "cells": [
  {
   "cell_type": "code",
   "execution_count": 1,
   "metadata": {},
   "outputs": [
    {
     "name": "stdout",
     "output_type": "stream",
     "text": [
      "55\n"
     ]
    }
   ],
   "source": [
    "'''1. Write a Python Program to find sum of array?'''\n",
    "\n",
    "a  = [1,2,3,4,5,6,7,8,9,10]\n",
    "print(sum(a))"
   ]
  },
  {
   "cell_type": "code",
   "execution_count": 3,
   "metadata": {},
   "outputs": [
    {
     "name": "stdout",
     "output_type": "stream",
     "text": [
      "167\n"
     ]
    }
   ],
   "source": [
    "'''2. Write a Python Program to find largest element in an array?'''\n",
    "\n",
    "a  = [1,2,3,4,5,6,7,8,9,10,167]\n",
    "print(max(a))"
   ]
  },
  {
   "cell_type": "code",
   "execution_count": 5,
   "metadata": {},
   "outputs": [
    {
     "name": "stdout",
     "output_type": "stream",
     "text": [
      "[4, 5, 6, 7, 8, 9, 10, 167, 1, 2, 3]\n"
     ]
    }
   ],
   "source": [
    "'''3. Write a Python Program for array rotation?'''\n",
    "\n",
    "a  = [1,2,3,4,5,6,7,8,9,10,167]\n",
    "d = 3 # need to rotated by 3 elements\n",
    " \n",
    "a[:] = a[d:len(a)]+a[0:d] # concatenated 2 arrays from d to end index and 0 to d-1 th index from start\n",
    "print(a)"
   ]
  },
  {
   "cell_type": "code",
   "execution_count": 9,
   "metadata": {},
   "outputs": [
    {
     "name": "stdout",
     "output_type": "stream",
     "text": [
      "[7, 8, 9, 10, 167, 1, 2, 3, 4, 5, 6]\n"
     ]
    }
   ],
   "source": [
    "'''4. Write a Python Program to Split the array and add the first part to the end?'''\n",
    "\n",
    "a  = [1,2,3,4,5,6,7,8,9,10,167]\n",
    "\n",
    "con = len(a)\n",
    "if con%2==0:\n",
    "    half = con//2\n",
    "    a[:] = a[half:len(a)]+a[0:half]\n",
    "    print(a)\n",
    "elif con%2 !=0:\n",
    "    half = (con+1)//2\n",
    "    a[:] = a[half:len(a)]+a[0:half]\n",
    "    print(a)"
   ]
  },
  {
   "cell_type": "code",
   "execution_count": 13,
   "metadata": {},
   "outputs": [
    {
     "name": "stdout",
     "output_type": "stream",
     "text": [
      "Yes it is monotonic\n"
     ]
    }
   ],
   "source": [
    "'''5. Write a Python Program to check if given array is Monotonic?'''\n",
    "\n",
    "a  = [1,2,3,4,5,6,7,8,9,10,167]\n",
    "count = 0\n",
    "for i in range(0,len(a)):\n",
    "    if i == len(a)-1:\n",
    "        break\n",
    "    else:\n",
    "        if a[i]<=a[i+1]:\n",
    "            count+=1\n",
    "if count == len(a)-1:  \n",
    "    '''our comparison count for monotonically increasing function should be 1 less than number of array elements\n",
    "    present ''' \n",
    "    print('Yes it is monotonic')\n",
    "else:\n",
    "    print('Array is not monotonic')"
   ]
  },
  {
   "cell_type": "code",
   "execution_count": null,
   "metadata": {},
   "outputs": [],
   "source": []
  }
 ],
 "metadata": {
  "kernelspec": {
   "display_name": "Python 3",
   "language": "python",
   "name": "python3"
  },
  "language_info": {
   "codemirror_mode": {
    "name": "ipython",
    "version": 3
   },
   "file_extension": ".py",
   "mimetype": "text/x-python",
   "name": "python",
   "nbconvert_exporter": "python",
   "pygments_lexer": "ipython3",
   "version": "3.8.5"
  }
 },
 "nbformat": 4,
 "nbformat_minor": 4
}
