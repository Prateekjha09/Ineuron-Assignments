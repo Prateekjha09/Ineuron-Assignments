{
 "cells": [
  {
   "cell_type": "code",
   "execution_count": 1,
   "metadata": {},
   "outputs": [
    {
     "name": "stdout",
     "output_type": "stream",
     "text": [
      "{'Kumar', 'Prateek', 'Jha'}\n"
     ]
    }
   ],
   "source": [
    "'''1. Write a Python program to Extract Unique values dictionary values?'''\n",
    "\n",
    "dc  = {1:'Prateek',2:'Kumar',3:'Jha'}\n",
    "\n",
    "print(set(list(dc.values())))"
   ]
  },
  {
   "cell_type": "code",
   "execution_count": 2,
   "metadata": {},
   "outputs": [
    {
     "name": "stdout",
     "output_type": "stream",
     "text": [
      "Sum is  600\n"
     ]
    }
   ],
   "source": [
    "'''2. Write a Python program to find the sum of all items in a dictionary?'''\n",
    "\n",
    "dc = {'a': 100, 'b':200, 'c':300}\n",
    "sum = 0\n",
    "for i in dc.values():\n",
    "    sum += i\n",
    "\n",
    "print('Sum is ',sum)"
   ]
  },
  {
   "cell_type": "code",
   "execution_count": 3,
   "metadata": {},
   "outputs": [
    {
     "name": "stdout",
     "output_type": "stream",
     "text": [
      "{'a': 100, 'b': 200, 'c': 300, 'x': 25, 'y': 18, 'z': 45}\n"
     ]
    }
   ],
   "source": [
    "'''3. Write a Python program to Merging two Dictionaries?'''\n",
    "\n",
    "dc1 = {'a': 100, 'b':200, 'c':300}\n",
    "dc2 = {'x': 25, 'y':18, 'z':45}\n",
    "z = {**dc1,**dc2}\n",
    "print(z)"
   ]
  },
  {
   "cell_type": "code",
   "execution_count": 4,
   "metadata": {},
   "outputs": [
    {
     "name": "stdout",
     "output_type": "stream",
     "text": [
      "{1: 'Jan', 2: 'Feb', 3: 'March'}\n"
     ]
    }
   ],
   "source": [
    "'''4. Write a Python program to convert key-values list to flat dictionary?'''\n",
    "\n",
    "test_dict = {'month' : [1, 2, 3],\n",
    "             'name' : ['Jan', 'Feb', 'March']}\n",
    "\n",
    "print(dict(zip(test_dict['month'],test_dict['name'])))"
   ]
  },
  {
   "cell_type": "code",
   "execution_count": 5,
   "metadata": {},
   "outputs": [
    {
     "name": "stdout",
     "output_type": "stream",
     "text": [
      "{'Ineuron': 6, '.ai': 8, 'Prateek': 1, 'Kumar': 2, 'Jha': 3}\n"
     ]
    }
   ],
   "source": [
    "'''5. Write a Python program to insertion at the beginning in OrderedDict?'''\n",
    "\n",
    "old_dict = {'Prateek':1,'Kumar':2,'Jha':3}\n",
    "new_dict = {'Ineuron':6,'.ai':8}\n",
    "print({**new_dict,**old_dict})"
   ]
  },
  {
   "cell_type": "code",
   "execution_count": 6,
   "metadata": {},
   "outputs": [
    {
     "name": "stdout",
     "output_type": "stream",
     "text": [
      "Enter the character you want to see order of c\n",
      "c 3\n"
     ]
    }
   ],
   "source": [
    "'''6. Write a Python program to check order of character in string using OrderedDict()?'''\n",
    "\n",
    "from collections import OrderedDict\n",
    "\n",
    "od = OrderedDict()\n",
    "od['a']=1\n",
    "od['b'] = 2\n",
    "od['c'] = 3\n",
    "od['d'] =4\n",
    "\n",
    "ch = input('Enter the character you want to see order of ')\n",
    "\n",
    "for key,value in od.items():\n",
    "    if key == ch:\n",
    "        print(key,value)\n",
    "    else:\n",
    "        continue"
   ]
  },
  {
   "cell_type": "code",
   "execution_count": 10,
   "metadata": {},
   "outputs": [
    {
     "name": "stdout",
     "output_type": "stream",
     "text": [
      "(1, 'Python') (2, 'sorting') (3, 'Dictionary') (4, 'for') (5, 'Programme') "
     ]
    }
   ],
   "source": [
    "'''7. Write a Python program to sort Python Dictionaries by Key or Value?'''\n",
    "\n",
    "dc = {1:'Python',5:'Programme',4:'for',2:'sorting',3:'Dictionary'}\n",
    "\n",
    "for key,value in sorted(dc.items()):\n",
    "    print((key,value), end=' ')\n",
    "    \n"
   ]
  },
  {
   "cell_type": "code",
   "execution_count": null,
   "metadata": {},
   "outputs": [],
   "source": []
  }
 ],
 "metadata": {
  "kernelspec": {
   "display_name": "Python 3",
   "language": "python",
   "name": "python3"
  },
  "language_info": {
   "codemirror_mode": {
    "name": "ipython",
    "version": 3
   },
   "file_extension": ".py",
   "mimetype": "text/x-python",
   "name": "python",
   "nbconvert_exporter": "python",
   "pygments_lexer": "ipython3",
   "version": "3.8.5"
  }
 },
 "nbformat": 4,
 "nbformat_minor": 4
}
