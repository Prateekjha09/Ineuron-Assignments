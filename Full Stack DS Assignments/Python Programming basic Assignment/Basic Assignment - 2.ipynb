{
 "cells": [
  {
   "cell_type": "code",
   "execution_count": 2,
   "metadata": {},
   "outputs": [
    {
     "name": "stdout",
     "output_type": "stream",
     "text": [
      "Enter the value in kms3\n",
      "Value in miles is  1.8639\n"
     ]
    }
   ],
   "source": [
    "'''1.Write a Python program to convert kilometers to miles?'''\n",
    "\n",
    "a = float(input('Enter the value in kms'))\n",
    "print('Value in miles is ', a*0.6213) "
   ]
  },
  {
   "cell_type": "code",
   "execution_count": 4,
   "metadata": {},
   "outputs": [
    {
     "name": "stdout",
     "output_type": "stream",
     "text": [
      "Enter value in celsius scale5\n",
      "Value in Fahrenheit scale is 41.0\n"
     ]
    }
   ],
   "source": [
    "'''2.Write a Python program to convert Celsius to Fahrenheit?'''\n",
    "\n",
    "a = float(input('Enter value in celsius scale'))\n",
    "print('Value in Fahrenheit scale is', a*(9/5)+32)"
   ]
  },
  {
   "cell_type": "code",
   "execution_count": 12,
   "metadata": {},
   "outputs": [
    {
     "name": "stdout",
     "output_type": "stream",
     "text": [
      "enter your month in mm format02\n",
      "enter your year in yyyy format1996\n",
      "\n",
      "    February 1996\n",
      "Mo Tu We Th Fr Sa Su\n",
      "          1  2  3  4\n",
      " 5  6  7  8  9 10 11\n",
      "12 13 14 15 16 17 18\n",
      "19 20 21 22 23 24 25\n",
      "26 27 28 29\n",
      "\n"
     ]
    }
   ],
   "source": [
    "'''3.Write a Python program to display calendar?'''\n",
    "\n",
    "import calendar\n",
    "\n",
    "mm = int(input('enter your month in mm format'))\n",
    "yyyy = int(input('enter your year in yyyy format'))\n",
    "\n",
    "print(\"\\n\",calendar.month(yyyy,mm))\n"
   ]
  },
  {
   "cell_type": "code",
   "execution_count": 13,
   "metadata": {},
   "outputs": [
    {
     "name": "stdout",
     "output_type": "stream",
     "text": [
      "enter the value of a in ax^2+bx+xc3\n",
      "enter the value of b in ax^2+bx+xc4\n",
      "enter the value of %%capture in ax^2+bx+xc1\n",
      "First solution of the quadratic equation is  -3.0\n",
      "Second solution of the quadratic equation is  -9.0\n"
     ]
    }
   ],
   "source": [
    "'''4.Write a Python program to solve quadratic equation?'''\n",
    "\n",
    "import math\n",
    "a = float(input('enter the value of a in ax^2+bx+xc'))\n",
    "b = float(input('enter the value of b in ax^2+bx+xc'))\n",
    "c= float(input('enter the value of %%capture in ax^2+bx+xc'))\n",
    "\n",
    "first_sol = (-b+math.sqrt((b**2)-4*a*c))/2*a\n",
    "second_sol = (-b-math.sqrt((b**2)-4*a*c))/2*a\n",
    "print('First solution of the quadratic equation is ', first_sol)\n",
    "print('Second solution of the quadratic equation is ',second_sol)"
   ]
  },
  {
   "cell_type": "code",
   "execution_count": 14,
   "metadata": {},
   "outputs": [
    {
     "name": "stdout",
     "output_type": "stream",
     "text": [
      "Enter the first number3\n",
      "Enter the second number4\n",
      "a =  4  b =  3\n"
     ]
    }
   ],
   "source": [
    "'''5.Write a Python program to swap two variables without temp variable?'''\n",
    "\n",
    "a = int(input('Enter the first number'))\n",
    "b = int(input('Enter the second number'))\n",
    "\n",
    "a = a+b\n",
    "b = a-b\n",
    "a =a-b\n",
    "\n",
    "print('a = ',a,\" b = \",b)"
   ]
  },
  {
   "cell_type": "code",
   "execution_count": null,
   "metadata": {},
   "outputs": [],
   "source": []
  }
 ],
 "metadata": {
  "kernelspec": {
   "display_name": "Python 3",
   "language": "python",
   "name": "python3"
  },
  "language_info": {
   "codemirror_mode": {
    "name": "ipython",
    "version": 3
   },
   "file_extension": ".py",
   "mimetype": "text/x-python",
   "name": "python",
   "nbconvert_exporter": "python",
   "pygments_lexer": "ipython3",
   "version": "3.8.5"
  }
 },
 "nbformat": 4,
 "nbformat_minor": 4
}
