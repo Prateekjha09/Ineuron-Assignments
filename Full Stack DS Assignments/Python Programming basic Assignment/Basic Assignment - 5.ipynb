{
 "cells": [
  {
   "cell_type": "code",
   "execution_count": 2,
   "metadata": {},
   "outputs": [
    {
     "name": "stdout",
     "output_type": "stream",
     "text": [
      "Enter the 1st number2\n",
      "Enter the 2nd number4\n",
      "LCM is  4\n"
     ]
    }
   ],
   "source": [
    "'''1. Write a Python Program to Find LCM?'''\n",
    "\n",
    "a  = int(input('Enter the 1st number'))\n",
    "b = int(input('Enter the 2nd number'))\n",
    "gcd = 0\n",
    "i=1\n",
    "while i<=a and i<=b:\n",
    "    if a%i==0 and b%i==0:\n",
    "        gcd = i\n",
    "        \n",
    "    i+=1   \n",
    "lcm = (a*b)//gcd\n",
    "print('LCM is ',lcm)"
   ]
  },
  {
   "cell_type": "code",
   "execution_count": 4,
   "metadata": {},
   "outputs": [
    {
     "name": "stdout",
     "output_type": "stream",
     "text": [
      "Enter the 1st number12\n",
      "Enter the 2nd number60\n",
      "HCF is  12\n"
     ]
    }
   ],
   "source": [
    "'''2. Write a Python Program to Find HCF?'''\n",
    "\n",
    "a  = int(input('Enter the 1st number'))\n",
    "b = int(input('Enter the 2nd number'))\n",
    "gcd = 0\n",
    "i=1\n",
    "while i<=a and i<=b:\n",
    "    if a%i==0 and b%i==0:\n",
    "        gcd = i\n",
    "        \n",
    "    i+=1  \n",
    "    \n",
    "print('HCF is ',gcd)"
   ]
  },
  {
   "cell_type": "code",
   "execution_count": 5,
   "metadata": {},
   "outputs": [
    {
     "name": "stdout",
     "output_type": "stream",
     "text": [
      "Enter a decimal number 10\n",
      "Binary form is  0b1010\n",
      "Hexadecimal form is  0xa\n",
      "Octal form is  0o12\n"
     ]
    }
   ],
   "source": [
    "'''3. Write a Python Program to Convert Decimal to Binary, Octal and Hexadecimal?'''\n",
    "\n",
    "a = int(input('Enter a decimal number '))\n",
    "\n",
    "print('Binary form is ', bin(a))\n",
    "print('Hexadecimal form is ',hex(a))\n",
    "print('Octal form is ',oct(a))"
   ]
  },
  {
   "cell_type": "code",
   "execution_count": 7,
   "metadata": {},
   "outputs": [
    {
     "name": "stdout",
     "output_type": "stream",
     "text": [
      "Enter a desired character a\n",
      "Ascii value of  a is  97\n"
     ]
    }
   ],
   "source": [
    "'''4. Write a Python Program To Find ASCII value of a character?'''\n",
    "\n",
    "a = input('Enter a desired character ')\n",
    "\n",
    "print('Ascii value of ',a,'is ',ord(a))"
   ]
  },
  {
   "cell_type": "code",
   "execution_count": 11,
   "metadata": {},
   "outputs": [
    {
     "name": "stdout",
     "output_type": "stream",
     "text": [
      "Enter the operator /\n",
      "1\n"
     ]
    }
   ],
   "source": [
    "'''5. Write a Python Program to Make a Simple Calculator with 4 basic mathematical operations?'''\n",
    "\n",
    "a = 12\n",
    "b = 9\n",
    "op = str(input('Enter the operator '))\n",
    "\n",
    "if op == '+':\n",
    "    print(a+b)\n",
    "elif op == '-':\n",
    "    print(a-b)\n",
    "elif op =='/':\n",
    "    print(a//b)\n",
    "elif op == '*':\n",
    "    print(a*b)"
   ]
  },
  {
   "cell_type": "code",
   "execution_count": null,
   "metadata": {},
   "outputs": [],
   "source": []
  },
  {
   "cell_type": "code",
   "execution_count": null,
   "metadata": {},
   "outputs": [],
   "source": []
  }
 ],
 "metadata": {
  "kernelspec": {
   "display_name": "Python 3",
   "language": "python",
   "name": "python3"
  },
  "language_info": {
   "codemirror_mode": {
    "name": "ipython",
    "version": 3
   },
   "file_extension": ".py",
   "mimetype": "text/x-python",
   "name": "python",
   "nbconvert_exporter": "python",
   "pygments_lexer": "ipython3",
   "version": "3.8.5"
  }
 },
 "nbformat": 4,
 "nbformat_minor": 4
}
