{
 "cells": [
  {
   "cell_type": "code",
   "execution_count": 12,
   "metadata": {},
   "outputs": [
    {
     "name": "stdout",
     "output_type": "stream",
     "text": [
      "[[8, 10, 12], [8, 10, 12], [8, 10, 12]]\n"
     ]
    }
   ],
   "source": [
    "'''1. Write a Python Program to Add Two Matrices?'''\n",
    "\n",
    "a = [[1,2,3],\n",
    "    [4,5,6],\n",
    "    [7,8,9]]\n",
    "\n",
    "b = [[7,8,9],\n",
    "    [4,5,6],\n",
    "    [1,2,3]]\n",
    "\n",
    "'''for 3 rows and 3 columns\n",
    "print(len(a),len(a[0]))  \n",
    "print(len(b),len(b[0])) '''\n",
    "\n",
    "result = [[0,0,0],[0,0,0],[0,0,0]]\n",
    "        \n",
    "for i in range(len(a)): # row access \n",
    "    for j in range(len(a[0])) # column access\n",
    "        result[i][j] = a[i][j] + b[i][j] #adding elements index wise\n",
    "        \n",
    "print(result)"
   ]
  },
  {
   "cell_type": "code",
   "execution_count": 14,
   "metadata": {},
   "outputs": [
    {
     "name": "stdout",
     "output_type": "stream",
     "text": [
      "[[18, 21, 24], [27, 30, 33], [36, 39, 42]]\n"
     ]
    }
   ],
   "source": [
    "'''2. Write a Python Program to Multiply Two Matrices?'''\n",
    "\n",
    "a = [[1,2,3],\n",
    "    [4,5,6],\n",
    "    [7,8,9]]\n",
    "\n",
    "b = [[7,8,9],\n",
    "    [4,5,6],\n",
    "    [1,2,3]]\n",
    "\n",
    "result = [[0,0,0],[0,0,0],[0,0,0]]\n",
    "\n",
    "for i in range(len(a)):\n",
    "    for j in range(len(b[0])):\n",
    "        for k in range(len(b)):\n",
    "            result[i][j] += a[i][k]+b[k][j]\n",
    "            \n",
    "print(result)"
   ]
  },
  {
   "cell_type": "code",
   "execution_count": 17,
   "metadata": {},
   "outputs": [
    {
     "name": "stdout",
     "output_type": "stream",
     "text": [
      "[[1, 4, 7], [2, 5, 8], [3, 6, 9]]\n"
     ]
    }
   ],
   "source": [
    "'''3. Write a Python Program to Transpose a Matrix?'''\n",
    "\n",
    "a = [[1,2,3],\n",
    "    [4,5,6],\n",
    "    [7,8,9]]\n",
    "\n",
    "result = [[0,0,0],[0,0,0],[0,0,0]]\n",
    "\n",
    "for i in range(len(a)):\n",
    "    for j in range(len(a)):\n",
    "        result[i][j] = a[j][i]\n",
    "    \n",
    "print(result)"
   ]
  },
  {
   "cell_type": "code",
   "execution_count": 23,
   "metadata": {},
   "outputs": [
    {
     "name": "stdout",
     "output_type": "stream",
     "text": [
      "['Jha', 'Prateek']\n"
     ]
    }
   ],
   "source": [
    "'''4. Write a Python Program to Sort Words in Alphabetic Order?'''\n",
    "\n",
    "a = 'Prateek Jha'\n",
    "\n",
    "a= a.split() # splitting is done on spaces between wordss\n",
    "a.sort()\n",
    "print(a)"
   ]
  },
  {
   "cell_type": "code",
   "execution_count": 24,
   "metadata": {},
   "outputs": [
    {
     "name": "stdout",
     "output_type": "stream",
     "text": [
      "hello  my name is Prateek Jha\n"
     ]
    }
   ],
   "source": [
    "'''5. Write a Python Program to Remove Punctuation From a String?'''\n",
    "\n",
    "punctuations = '''!()-[]{};:'\"\\,<>./?@#$%^&*_~'''\n",
    "\n",
    "sentence = 'hello !!! my name is Prateek Jha$%^'\n",
    "sent_new = ''\n",
    "\n",
    "for char in sentence:\n",
    "    if char not in punctuations: # comparing and eliminating punctuations \n",
    "        sent_new+=char\n",
    "        \n",
    "print(sent_new)\n"
   ]
  },
  {
   "cell_type": "code",
   "execution_count": null,
   "metadata": {},
   "outputs": [],
   "source": []
  }
 ],
 "metadata": {
  "kernelspec": {
   "display_name": "Python 3",
   "language": "python",
   "name": "python3"
  },
  "language_info": {
   "codemirror_mode": {
    "name": "ipython",
    "version": 3
   },
   "file_extension": ".py",
   "mimetype": "text/x-python",
   "name": "python",
   "nbconvert_exporter": "python",
   "pygments_lexer": "ipython3",
   "version": "3.8.5"
  }
 },
 "nbformat": 4,
 "nbformat_minor": 4
}
