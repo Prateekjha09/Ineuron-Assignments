{
 "cells": [
  {
   "cell_type": "code",
   "execution_count": 7,
   "metadata": {},
   "outputs": [
    {
     "name": "stdout",
     "output_type": "stream",
     "text": [
      "Enter the string you want to return the double character String\n",
      "SSttrriinngg\n",
      "Enter the string you want to return the double character Hello World!\n",
      "HHeelllloo WWoorrlldd!!\n",
      "Enter the string you want to return the double character 1234!_\n",
      "11223344!!__\n"
     ]
    }
   ],
   "source": [
    "'''1.\n",
    "Create a function that takes a string and returns a string in which each character is repeated\n",
    "once.\n",
    "Examples\n",
    "double_char(&quot;String&quot;) ➞ &quot;SSttrriinngg&quot;\n",
    "double_char(&quot;Hello World!&quot;) ➞ &quot;HHeelllloo WWoorrlldd!!&quot;\n",
    "double_char(&quot;1234!_ &quot;) ➞ &quot;11223344!!__ &quot;'''\n",
    "\n",
    "def double_char(ch):\n",
    "    new_string = ''\n",
    "    for i in range(len(ch)):\n",
    "        if ch[i] == ' ':\n",
    "            new_string += ch[i]\n",
    "        else:\n",
    "            new_string += ch[i]*2\n",
    "        \n",
    "    return new_string\n",
    "\n",
    "print(double_char(input('Enter the string you want to return the double character ')))\n",
    "print(double_char(input('Enter the string you want to return the double character ')))\n",
    "print(double_char(input('Enter the string you want to return the double character ')))"
   ]
  },
  {
   "cell_type": "code",
   "execution_count": 2,
   "metadata": {},
   "outputs": [
    {
     "name": "stdout",
     "output_type": "stream",
     "text": [
      "Enter the value to test: True\n",
      "False\n",
      "Enter the value to test: 0\n",
      "boolean expected\n",
      "Enter the value to test: None\n",
      "boolean expected\n"
     ]
    }
   ],
   "source": [
    "'''2.\n",
    "Create a function that reverses a boolean value and returns the string &quot;boolean expected&quot;\n",
    "if another variable type is given.\n",
    "Examples\n",
    "reverse(True) ➞ False\n",
    "reverse(False) ➞ True\n",
    "reverse(0) ➞ &quot;boolean expected&quot;\n",
    "reverse(None) ➞ &quot;boolean expected&quot;'''\n",
    "import numpy as np\n",
    "def reverse(x):\n",
    "    if x == 'True' or x == 'False':\n",
    "        return not x\n",
    "    elif type(x) != bool:\n",
    "        return 'boolean expected'\n",
    "    \n",
    "print(reverse(input('Enter the value to test: ')))\n",
    "print(reverse(input('Enter the value to test: ')))\n",
    "print(reverse(input('Enter the value to test: ')))"
   ]
  },
  {
   "cell_type": "code",
   "execution_count": 5,
   "metadata": {},
   "outputs": [
    {
     "name": "stdout",
     "output_type": "stream",
     "text": [
      "Enter the value to test: 21\n",
      "1048.576\n"
     ]
    }
   ],
   "source": [
    "'''3.\n",
    "Create a function that returns the thickness (in meters) of a piece of paper after folding it n\n",
    "number of times. The paper starts off with a thickness of 0.5mm.\n",
    "Examples\n",
    "num_layers(1) ➞ &quot;0.001m&quot;\n",
    "# Paper folded once is 1mm (equal to 0.001m)\n",
    "num_layers(4) ➞ &quot;0.008m&quot;\n",
    "# Paper folded 4 times is 8mm (equal to 0.008m)\n",
    "num_layers(21) ➞ &quot;1048.576m&quot;\n",
    "# Paper folded 21 times is 1048576mm (equal to 1048.576m)'''\n",
    "\n",
    "def num_layers(n):\n",
    "    w = 0.5\n",
    "    for _ in range(n):\n",
    "        w = w*2\n",
    "    return w/1000\n",
    "\n",
    "print(num_layers(int(input('Enter the value to test: '))))"
   ]
  },
  {
   "cell_type": "code",
   "execution_count": 10,
   "metadata": {},
   "outputs": [
    {
     "name": "stdout",
     "output_type": "stream",
     "text": [
      "Enter the string you to return indexes of capitals: eDaBiT\n",
      "[1, 3, 5]\n",
      "Enter the string you to return indexes of capitals: eQuINoX\n",
      "[1, 3, 4, 6]\n",
      "Enter the string you to return indexes of capitals: determine\n",
      "[]\n",
      "Enter the string you to return indexes of capitals: STRIKE\n",
      "[0, 1, 2, 3, 4, 5]\n",
      "Enter the string you to return indexes of capitals: sUn\n",
      "[1]\n"
     ]
    }
   ],
   "source": [
    "'''4.\n",
    "Create a function that takes a single string as argument and returns an ordered list containing\n",
    "the indices of all capital letters in the string.\n",
    "Examples\n",
    "index_of_caps(&quot;eDaBiT&quot;) ➞ [1, 3, 5]\n",
    "index_of_caps(&quot;eQuINoX&quot;) ➞ [1, 3, 4, 6]\n",
    "index_of_caps(&quot;determine&quot;) ➞ []\n",
    "index_of_caps(&quot;STRIKE&quot;) ➞ [0, 1, 2, 3, 4, 5]\n",
    "index_of_caps(&quot;sUn&quot;) ➞ [1]'''\n",
    "\n",
    "def index_of_caps(s):\n",
    "    ls = []\n",
    "    for i in range(len(s)):\n",
    "        if s[i].isupper() == True:\n",
    "            ls.append(i)\n",
    "        else:\n",
    "            continue\n",
    "    return ls\n",
    "print(index_of_caps(input('Enter the string you to return indexes of capitals: ')))\n",
    "print(index_of_caps(input('Enter the string you to return indexes of capitals: ')))\n",
    "print(index_of_caps(input('Enter the string you to return indexes of capitals: ')))\n",
    "print(index_of_caps(input('Enter the string you to return indexes of capitals: ')))\n",
    "print(index_of_caps(input('Enter the string you to return indexes of capitals: ')))"
   ]
  },
  {
   "cell_type": "code",
   "execution_count": 16,
   "metadata": {},
   "outputs": [
    {
     "name": "stdout",
     "output_type": "stream",
     "text": [
      "Enter the range till which you want to check even numbers 8\n",
      "[2, 4, 6, 8]\n",
      "Enter the range till which you want to check even numbers 4\n",
      "[2, 4]\n",
      "Enter the range till which you want to check even numbers 2\n",
      "[2]\n"
     ]
    }
   ],
   "source": [
    "'''5.\n",
    "Using list comprehensions, create a function that finds all even numbers from 1 to the given\n",
    "number.\n",
    "Examples\n",
    "find_even_nums(8) ➞ [2, 4, 6, 8]\n",
    "find_even_nums(4) ➞ [2, 4]\n",
    "find_even_nums(2) ➞ [2]'''\n",
    "\n",
    "def find_even_nums(n):\n",
    "    ns = []\n",
    "    for i in range(1,n+1):\n",
    "        if i%2 == 0:\n",
    "            ns.append(i)\n",
    "            \n",
    "    return ns\n",
    "\n",
    "print(find_even_nums(int(input('Enter the range till which you want to check even numbers '))))\n",
    "print(find_even_nums(int(input('Enter the range till which you want to check even numbers '))))\n",
    "print(find_even_nums(int(input('Enter the range till which you want to check even numbers '))))"
   ]
  },
  {
   "cell_type": "code",
   "execution_count": null,
   "metadata": {},
   "outputs": [],
   "source": []
  }
 ],
 "metadata": {
  "kernelspec": {
   "display_name": "Python 3",
   "language": "python",
   "name": "python3"
  },
  "language_info": {
   "codemirror_mode": {
    "name": "ipython",
    "version": 3
   },
   "file_extension": ".py",
   "mimetype": "text/x-python",
   "name": "python",
   "nbconvert_exporter": "python",
   "pygments_lexer": "ipython3",
   "version": "3.8.5"
  }
 },
 "nbformat": 4,
 "nbformat_minor": 4
}
