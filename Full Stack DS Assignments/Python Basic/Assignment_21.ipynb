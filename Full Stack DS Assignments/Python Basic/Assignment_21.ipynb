{
 "cells": [
  {
   "cell_type": "code",
   "execution_count": 45,
   "metadata": {},
   "outputs": [],
   "source": [
    "'''1. Add the current date to the text file today.txt as a string.'''\n",
    "import datetime\n",
    "dt = datetime.datetime.today()\n",
    "myfile = open('today.txt','w')\n",
    "myfile.write(str(dt))\n",
    "myfile.close()"
   ]
  },
  {
   "cell_type": "code",
   "execution_count": 46,
   "metadata": {},
   "outputs": [
    {
     "name": "stdout",
     "output_type": "stream",
     "text": [
      "2021-04-21 01:53:32.943409\n"
     ]
    }
   ],
   "source": [
    "'''2. Read the text file today.txt into the string today_string'''\n",
    "\n",
    "today_string = open('today.txt','r')\n",
    "print(today_string.readline())\n"
   ]
  },
  {
   "cell_type": "code",
   "execution_count": 22,
   "metadata": {},
   "outputs": [
    {
     "name": "stdout",
     "output_type": "stream",
     "text": [
      "2021-04-21\n"
     ]
    }
   ],
   "source": [
    "'''3. Parse the date from today_string.'''\n",
    "\n",
    "today_string = open('today.txt','r')\n",
    "print(today_string.readline().split(' ')[0])\n"
   ]
  },
  {
   "cell_type": "code",
   "execution_count": 24,
   "metadata": {},
   "outputs": [
    {
     "name": "stdout",
     "output_type": "stream",
     "text": [
      "['.ipynb_checkpoints', 'Assignment_20.ipynb', 'Assignment_21.ipynb', 'reference notebooks', 'today.txt', '__pycache__']\n"
     ]
    }
   ],
   "source": [
    "'''4. List the files in your current directory'''\n",
    "import os\n",
    "\n",
    "print(os.listdir())"
   ]
  },
  {
   "cell_type": "code",
   "execution_count": 28,
   "metadata": {},
   "outputs": [
    {
     "name": "stdout",
     "output_type": "stream",
     "text": [
      "['.ipynb_checkpoints', 'Assignment_20.ipynb', 'Assignment_21.ipynb', 'reference notebooks', 'today.txt', '__pycache__']\n",
      "6\n",
      "<class 'list'>\n"
     ]
    }
   ],
   "source": [
    "'''5. Create a list of all of the files in your parent directory (minimum five files should be available).'''\n",
    "\n",
    "ls = os.listdir()\n",
    "print(ls)\n",
    "print(len(ls))\n",
    "print(type(ls))"
   ]
  },
  {
   "cell_type": "code",
   "execution_count": 43,
   "metadata": {},
   "outputs": [
    {
     "name": "stdout",
     "output_type": "stream",
     "text": [
      "19900\n",
      "9008\n",
      "11668\n"
     ]
    }
   ],
   "source": [
    "'''6. Use multiprocessing to create three separate processes. Make each one wait a random number of\n",
    "seconds between one and five, print the current time, and then exit.'''\n",
    "\n",
    "import time\n",
    "from multiprocessing import Process\n",
    "\n",
    "p1 = Process()\n",
    "p1.start()\n",
    "\n",
    "print(p1.pid)\n",
    "time.sleep(5)\n",
    "p2 = Process()\n",
    "p1.close()\n",
    "p2.start()\n",
    "print(p2.pid)\n",
    "time.sleep(5)\n",
    "p2.close()\n",
    "p3= Process()\n",
    "p3.start()\n",
    "time.sleep(5)\n",
    "print(p3.pid)\n",
    "p3.close()\n",
    "#p1.join()  ## still incomplete"
   ]
  },
  {
   "cell_type": "code",
   "execution_count": 36,
   "metadata": {},
   "outputs": [
    {
     "name": "stdout",
     "output_type": "stream",
     "text": [
      "1996-02-09 00:00:00\n"
     ]
    }
   ],
   "source": [
    "'''7. Create a date object of your day of birth.'''\n",
    "\n",
    "import datetime\n",
    "x = datetime.datetime(1996,2,9)\n",
    "print(x)"
   ]
  },
  {
   "cell_type": "code",
   "execution_count": 38,
   "metadata": {},
   "outputs": [
    {
     "name": "stdout",
     "output_type": "stream",
     "text": [
      "4\n"
     ]
    }
   ],
   "source": [
    "'''8. What day of the week was your day of birth?'''\n",
    "\n",
    "print(x.weekday())"
   ]
  },
  {
   "cell_type": "code",
   "execution_count": 40,
   "metadata": {},
   "outputs": [
    {
     "name": "stdout",
     "output_type": "stream",
     "text": [
      "2023-06-27 00:00:00\n"
     ]
    }
   ],
   "source": [
    "'''9. When will you be (or when were you) 10,000 days old?'''\n",
    "\n",
    "from datetime import timedelta,datetime\n",
    "print(x+timedelta(days = 10000)) # timedelta used for adding days to an existing date"
   ]
  },
  {
   "cell_type": "code",
   "execution_count": null,
   "metadata": {},
   "outputs": [],
   "source": []
  }
 ],
 "metadata": {
  "kernelspec": {
   "display_name": "Python 3",
   "language": "python",
   "name": "python3"
  },
  "language_info": {
   "codemirror_mode": {
    "name": "ipython",
    "version": 3
   },
   "file_extension": ".py",
   "mimetype": "text/x-python",
   "name": "python",
   "nbconvert_exporter": "python",
   "pygments_lexer": "ipython3",
   "version": "3.8.5"
  }
 },
 "nbformat": 4,
 "nbformat_minor": 4
}
