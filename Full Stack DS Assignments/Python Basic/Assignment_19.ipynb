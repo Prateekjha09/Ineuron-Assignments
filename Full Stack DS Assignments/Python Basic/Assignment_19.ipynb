{
 "cells": [
  {
   "cell_type": "code",
   "execution_count": 1,
   "metadata": {},
   "outputs": [
    {
     "name": "stdout",
     "output_type": "stream",
     "text": [
      "<class '__main__.Thing'>\n",
      "<__main__.Thing object at 0x00000250E3F1AFD0>\n"
     ]
    }
   ],
   "source": [
    "'''1. \n",
    "Make a class called Thing with no contents and print it. Then, create an object called example\n",
    "from this class and also print it. Are the printed values the same or different?'''\n",
    "\n",
    "class Thing:\n",
    "    def __init__(self):\n",
    "        pass\n",
    "    \n",
    "example = Thing()\n",
    "print(Thing)\n",
    "print(example) # main object stored at a certain memory location"
   ]
  },
  {
   "cell_type": "code",
   "execution_count": 2,
   "metadata": {},
   "outputs": [
    {
     "name": "stdout",
     "output_type": "stream",
     "text": [
      "abc\n"
     ]
    }
   ],
   "source": [
    "'''2.\n",
    "Create a new class called Thing2 and add the value &#39;abc&#39; to the letters class attribute. Letters\n",
    "should be printed.'''\n",
    "\n",
    "class Thing2:\n",
    "    def __init__(self,value):\n",
    "        self.letters = value\n",
    "        \n",
    "    def print_letters(self):\n",
    "        return self.letters\n",
    "        \n",
    "e = Thing2('abc')\n",
    "print(e.print_letters())"
   ]
  },
  {
   "cell_type": "code",
   "execution_count": 4,
   "metadata": {},
   "outputs": [
    {
     "name": "stdout",
     "output_type": "stream",
     "text": [
      "def\n"
     ]
    }
   ],
   "source": [
    "'''3.\n",
    "Make yet another class called, of course, Thing3. This time, assign the value &#39;xyz&#39; to an instance\n",
    "(object) attribute called letters. Print letters. Do you need to make an object from the class to do\n",
    "this?'''\n",
    "\n",
    "class Thing3:\n",
    "    def __init__(self,value):\n",
    "        self.value= value\n",
    "        \n",
    "    def set_value(self,new_value):\n",
    "        self.value= new_value\n",
    "        return self.value\n",
    "    \n",
    "    \n",
    "letters = Thing3('abc')\n",
    "print(letters.set_value('def'))\n",
    "        "
   ]
  },
  {
   "cell_type": "code",
   "execution_count": 5,
   "metadata": {},
   "outputs": [
    {
     "name": "stdout",
     "output_type": "stream",
     "text": [
      "('Hydrogen', 'H', 1)\n"
     ]
    }
   ],
   "source": [
    "'''4.\n",
    "Create an Element class with the instance attributes name, symbol, and number. Create a class\n",
    "object with the values &#39;Hydrogen,&#39; &#39;H,&#39; and 1.'''\n",
    "\n",
    "class Element:\n",
    "    def __init__(self):\n",
    "        self.name = ''\n",
    "        self.symbol =''\n",
    "        self.number = 0\n",
    "        \n",
    "    def set_values(self,name,symbol,number):\n",
    "        self.name = name\n",
    "        self.symbol = symbol\n",
    "        self.number = number\n",
    "        return self.name,self.symbol,self.number\n",
    "        \n",
    "letters = Element()\n",
    "print(letters.set_values('Hydrogen','H',1))"
   ]
  },
  {
   "cell_type": "code",
   "execution_count": 10,
   "metadata": {},
   "outputs": [
    {
     "name": "stdout",
     "output_type": "stream",
     "text": [
      "{'name': 'Hydrogen', 'symbol': 'H', 'number': 1}\n"
     ]
    }
   ],
   "source": [
    "'''5. \n",
    "Make a dictionary with these keys and values: &#39;name&#39;: &#39;Hydrogen&#39;,\n",
    "&#39;symbol&#39;: &#39;H&#39;, &#39;number&#39;: 1. Then,\n",
    "create an object called hydrogen from class Element using this dictionary.'''\n",
    "\n",
    "class Element:\n",
    "    def __init__(self,ds):\n",
    "        self.ds = ds\n",
    "        \n",
    "    def return_dic(self):\n",
    "        return self.ds\n",
    "    \n",
    "hydrogen = Element({'name':'Hydrogen','symbol':'H','number':1})\n",
    "print(hydrogen.return_dic())"
   ]
  },
  {
   "cell_type": "code",
   "execution_count": 14,
   "metadata": {},
   "outputs": [
    {
     "name": "stdout",
     "output_type": "stream",
     "text": [
      "dict_values(['Hydrogen', 'H', 1])\n"
     ]
    }
   ],
   "source": [
    "'''6. \n",
    "For the Element class, define a method called dump() that prints the values of the object’s\n",
    "attributes (name, symbol, and number). Create the hydrogen object from this new definition and\n",
    "use dump() to print its attributes.'''\n",
    "\n",
    "\n",
    "class Element:\n",
    "    def __init__(self,ds):\n",
    "        self.ds = ds\n",
    "        \n",
    "    def dump(self):\n",
    "        return self.ds.values()\n",
    "    \n",
    "hydrogen = Element({'name':'Hydrogen','symbol':'H','number':1})\n",
    "print(hydrogen.dump())"
   ]
  },
  {
   "cell_type": "code",
   "execution_count": 17,
   "metadata": {},
   "outputs": [
    {
     "name": "stdout",
     "output_type": "stream",
     "text": [
      "<__main__.Element object at 0x00000250E5544EE0>\n"
     ]
    }
   ],
   "source": [
    "'''7. \n",
    "Call print(hydrogen). In the definition of Element, change the name of method dump to __str__,\n",
    "create a new hydrogen object, and call print(hydrogen) again.\n",
    "'''\n",
    "\n",
    "class Element:\n",
    "    def __init__(self,ds):\n",
    "        self.ds = ds\n",
    "        \n",
    "    def __str__(self):\n",
    "        return 'Values are ',self.ds.values()\n",
    "    \n",
    "hydrogen2 = Element({'name':'Hydrogen','symbol':'H','number':1})\n",
    "print(hydrogen)"
   ]
  },
  {
   "cell_type": "code",
   "execution_count": 23,
   "metadata": {},
   "outputs": [
    {
     "name": "stdout",
     "output_type": "stream",
     "text": [
      "('Hydrogen', 'H', 1)\n"
     ]
    }
   ],
   "source": [
    "'''8. \n",
    "Modify Element to make the attributes name, symbol, and number private. Define a getter\n",
    "property for each to return its value.'''\n",
    "\n",
    "\n",
    "class Element:\n",
    "    def __init__(self,ds):\n",
    "        self.__name = ds['name']\n",
    "        self.__symbol = ds['symbol']\n",
    "        self.__number = ds['number']\n",
    "        \n",
    "    def dump(self):\n",
    "        return self.__name,self.__symbol,self.__number\n",
    "\n",
    "ds = {'name':'Hydrogen','symbol':'H','number':1}\n",
    "hydrogen = Element(ds)\n",
    "print(hydrogen.dump())"
   ]
  },
  {
   "cell_type": "code",
   "execution_count": 25,
   "metadata": {},
   "outputs": [
    {
     "name": "stdout",
     "output_type": "stream",
     "text": [
      "berries\n",
      "Clover\n",
      "campers\n"
     ]
    }
   ],
   "source": [
    "'''9.\n",
    "Define three classes: Bear, Rabbit, and Octothorpe. For each, define only one method: eats(). This\n",
    "should return &#39;berries&#39; (Bear), &#39;clover&#39; (Rabbit), or &#39;campers&#39; (Octothorpe). Create one object from\n",
    "each and print what it eats.'''\n",
    "\n",
    "class Bear:\n",
    "    def eats(self):\n",
    "        return 'berries'\n",
    "    \n",
    "class Rabbit:\n",
    "    def eats(self):\n",
    "        return 'Clover'\n",
    "    \n",
    "class Octothorpe:\n",
    "    def eats(self):\n",
    "        return 'campers'\n",
    "    \n",
    "bb = Bear()\n",
    "print(bb.eats())\n",
    "\n",
    "rr = Rabbit()\n",
    "print(rr.eats())\n",
    "\n",
    "oo = Octothorpe()\n",
    "print(oo.eats())"
   ]
  },
  {
   "cell_type": "code",
   "execution_count": 37,
   "metadata": {},
   "outputs": [
    {
     "name": "stdout",
     "output_type": "stream",
     "text": [
      "None\n",
      "None\n",
      "None\n"
     ]
    }
   ],
   "source": [
    "'''10. \n",
    "Define these classes: Laser, Claw, and SmartPhone. Each has only one method: does(). This\n",
    "returns &#39;disintegrate&#39; (Laser), &#39;crush&#39; (Claw), or &#39;ring&#39; (SmartPhone). \n",
    "Then, define the class Robot that\n",
    "has one instance (object) of each of these. Define a does() method for the Robot that prints what its\n",
    "component objects do.'''\n",
    "\n",
    "class Laser:\n",
    "    def does(self):\n",
    "        return 'disintegate'\n",
    "    \n",
    "class Claw:\n",
    "    def does(self):\n",
    "        return 'crush'\n",
    "\n",
    "class Smartphone:\n",
    "    def does(self):\n",
    "        return 'ring'\n",
    "    \n",
    "class Robot:\n",
    "    def __init__(self,obj):\n",
    "        self.obj = obj\n",
    "        \n",
    "    def call_every_class(self):\n",
    "        self.obj.does()\n",
    "        \n",
    "ll = Laser()\n",
    "cl = Claw()\n",
    "ss = Smartphone()\n",
    "\n",
    "r1  = Robot(ll)\n",
    "r2 = Robot(cl)\n",
    "r3 = Robot(ss)\n",
    "\n",
    "print(r1.call_every_class())\n",
    "print(r2.call_every_class())\n",
    "print(r3.call_every_class())\n"
   ]
  },
  {
   "cell_type": "code",
   "execution_count": null,
   "metadata": {},
   "outputs": [],
   "source": []
  }
 ],
 "metadata": {
  "kernelspec": {
   "display_name": "Python 3",
   "language": "python",
   "name": "python3"
  },
  "language_info": {
   "codemirror_mode": {
    "name": "ipython",
    "version": 3
   },
   "file_extension": ".py",
   "mimetype": "text/x-python",
   "name": "python",
   "nbconvert_exporter": "python",
   "pygments_lexer": "ipython3",
   "version": "3.8.5"
  }
 },
 "nbformat": 4,
 "nbformat_minor": 4
}
