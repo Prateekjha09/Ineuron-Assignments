{
 "cells": [
  {
   "cell_type": "code",
   "execution_count": 70,
   "metadata": {},
   "outputs": [
    {
     "name": "stdout",
     "output_type": "stream",
     "text": [
      "00:15:00\n",
      "0:53:00\n"
     ]
    }
   ],
   "source": [
    "'''1. \n",
    "YouTube offers different playback speed options for users. This allows\n",
    "users to increase or decrease the speed of the video content. Given the\n",
    "actual duration and playback speed of the video, calculate the playback\n",
    "duration of the video.\n",
    "Examples\n",
    "playback_duration(&quot;00:30:00&quot;, 2) ➞ &quot;00:15:00&quot;\n",
    "playback_duration(&quot;01:20:00&quot;, 1.5) ➞ &quot;00:53:20&quot;\n",
    "playback_duration(&quot;51:20:09&quot;, 0.5) ➞ &quot;102:40:18&quot;'''\n",
    "\n",
    "import datetime\n",
    "\n",
    "def playback_duration(s,speed):\n",
    "    ff = datetime.datetime.strptime(s,'%H:%M:%S')\n",
    "    mins = 0\n",
    "    ff = str(ff)\n",
    "    if int(ff.split(' ')[1].split(':')[0]) == 0:\n",
    "        mins += 0\n",
    "        if int(ff.split(' ')[1].split(':')[1])>0:\n",
    "            mins += int(ff.split(' ')[1].split(':')[1])\n",
    "            if int(ff.split(' ')[1].split(':')[2])>=0: \n",
    "                orig_time = round(mins//speed)\n",
    "                return ff.split(' ')[1].split(':')[0]+\":\"+str(orig_time)+\":\"+ff.split(' ')[1].split(':')[2]\n",
    "        \n",
    "    elif int(ff.split(' ')[1].split(':')[0]) > 0:\n",
    "        mins += 60* (int(ff.split(' ')[1].split(':')[0]))\n",
    "        if int(ff.split(' ')[1].split(':')[1])>0:\n",
    "            mins += int(ff.split(' ')[1].split(':')[1])\n",
    "            if int(ff.split(' ')[1].split(':')[2])>=0: \n",
    "                \n",
    "                orig_time = round(mins//speed)\n",
    "                return \"0:\"+str(orig_time)+\":\"+ff.split(' ')[1].split(':')[2]\n",
    "        \n",
    "print(playback_duration('00:30:00',2))\n",
    "print(playback_duration('01:20:00',1.5))  "
   ]
  },
  {
   "cell_type": "code",
   "execution_count": 69,
   "metadata": {},
   "outputs": [
    {
     "name": "stdout",
     "output_type": "stream",
     "text": [
      "45\n",
      "2022\n"
     ]
    }
   ],
   "source": [
    "'''2.\n",
    "We need your help to construct a building which will be a pile of n cubes.\n",
    "The cube at the bottom will have a volume of n^3, the cube above will have\n",
    "volume of (n-1)^3 and so on until the top which will have a volume of 1^3.\n",
    "Given the total volume m of the building, can you find the number of cubes n\n",
    "required for the building?\n",
    "In other words, you have to return an integer n such that:\n",
    "n^3 + (n-1)^3 + ... + 1^3 == m\n",
    "Return None if there is no such number.\n",
    "Examples\n",
    "pile_of_cubes(1071225) ➞ 45\n",
    "pile_of_cubes(4183059834009) ➞ 2022\n",
    "'''\n",
    "\n",
    "def pile_of_cubes(m):\n",
    "    n = 0\n",
    "    while m >0:\n",
    "        n +=1\n",
    "        m -= n**3\n",
    "        \n",
    "    return n\n",
    "\n",
    "print(pile_of_cubes(1071225))\n",
    "print(pile_of_cubes(4183059834009))"
   ]
  },
  {
   "cell_type": "code",
   "execution_count": 76,
   "metadata": {},
   "outputs": [
    {
     "name": "stdout",
     "output_type": "stream",
     "text": [
      "2\n",
      "4\n",
      "0\n",
      "-1\n",
      "1\n"
     ]
    }
   ],
   "source": [
    "'''3.\n",
    "A fulcrum of a list is an integer such that all elements to the left of it and all\n",
    "elements to the right of it sum to the same value. Write a function that finds\n",
    "the fulcrum of a list.\n",
    "To illustrate:\n",
    "find_fulcrum([3, 1, 5, 2, 4, 6, -1]) ➞ 2\n",
    "// Since [3, 1, 5] and [4, 6, -1] both sum to 9\n",
    "Examples\n",
    "\n",
    "find_fulcrum([1, 2, 4, 9, 10, -10, -9, 3]) ➞ 4\n",
    "find_fulcrum([9, 1, 9]) ➞ 1\n",
    "find_fulcrum([7, -1, 0, -1, 1, 1, 2, 3]) ➞ 0\n",
    "find_fulcrum([8, 8, 8, 8]) ➞ -1'''\n",
    "\n",
    "def find_fulcrum(s):\n",
    "    for i in range(1,len(s)):\n",
    "        sum_left = 0\n",
    "        sum_right = 0\n",
    "        for j in range(0,i):\n",
    "            sum_left += s[j]\n",
    "        for j in range(i+1,len(s)):\n",
    "            sum_right += s[j]\n",
    "        if sum_left == sum_right:\n",
    "            return s[i]\n",
    "        else:\n",
    "            continue\n",
    "    return -1\n",
    "\n",
    "print(find_fulcrum([3,1,5,2,4,6,-1]))\n",
    "print(find_fulcrum([1,2,4,9,10,-10,-9,3]))\n",
    "print(find_fulcrum([7,-1,0,-1,1,1,2,3]))\n",
    "print(find_fulcrum([8,8,8,8]))\n",
    "print(find_fulcrum([9,1,9]))"
   ]
  },
  {
   "cell_type": "code",
   "execution_count": 83,
   "metadata": {},
   "outputs": [
    {
     "name": "stdout",
     "output_type": "stream",
     "text": [
      "3\n",
      "4\n",
      "0\n"
     ]
    }
   ],
   "source": [
    "'''4. \n",
    "Given a list of integers representing the color of each sock, determine how\n",
    "many pairs of socks with matching colors there are. For example, there are 7\n",
    "socks with colors [1, 2, 1, 2, 1, 3, 2]. There is one pair of color 1 and one of\n",
    "color 2. There are three odd socks left, one of each color. The number of\n",
    "pairs is 2.\n",
    "Create a function that returns an integer representing the number of matching\n",
    "pairs of socks that are available.\n",
    "Examples\n",
    "sock_merchant([10, 20, 20, 10, 10, 30, 50, 10, 20]) ➞ 3\n",
    "sock_merchant([50, 20, 30, 90, 30, 20, 50, 20, 90]) ➞ 4\n",
    "sock_merchant([]) ➞ 0'''\n",
    "\n",
    "def sock_merchant(s):\n",
    "    ct = 0\n",
    "    s.sort()\n",
    "    i = 0\n",
    "    while i< len(s)-1:\n",
    "        if s[i] == s[i+1]:\n",
    "            ct += 1\n",
    "            i +=2\n",
    "        else :\n",
    "            i+=1\n",
    "            \n",
    "    return ct\n",
    "        \n",
    "print(sock_merchant([10, 20, 20, 10, 10, 30, 50, 10, 20]))\n",
    "print(sock_merchant([50,20,30,90,30,20,50,20,90]))\n",
    "print(sock_merchant([]))"
   ]
  },
  {
   "cell_type": "code",
   "execution_count": 89,
   "metadata": {},
   "outputs": [
    {
     "name": "stdout",
     "output_type": "stream",
     "text": [
      "-23\n",
      "-33\n"
     ]
    }
   ],
   "source": [
    "'''5.\n",
    "Create a function that takes a string containing integers as well as other\n",
    "characters and return the sum of the negative integers only.\n",
    "Examples\n",
    "negative_sum(&quot;-12 13%14&amp;-11&quot;) ➞ -23\n",
    "# -12 + -11 = -23\n",
    "negative_sum(&quot;22 13%14&amp;-11 -22 13 12&quot;) ➞ -33\n",
    "# -11 + -22 = -33'''\n",
    "\n",
    "def negative_sum(s):\n",
    "    s = s.replace('%',' ')\n",
    "    s = s.replace('&',' ')\n",
    "    neg_sum = 0\n",
    "    for i in s.split(' '):\n",
    "        if int(i) < 0:\n",
    "            neg_sum += int(i)\n",
    "        else:\n",
    "            continue\n",
    "            \n",
    "    return neg_sum \n",
    "\n",
    "print(negative_sum('-12 13%14&-11'))\n",
    "print(negative_sum('22 13%14&-11 -22 13 12'))"
   ]
  },
  {
   "cell_type": "code",
   "execution_count": null,
   "metadata": {},
   "outputs": [],
   "source": []
  }
 ],
 "metadata": {
  "kernelspec": {
   "display_name": "Python 3",
   "language": "python",
   "name": "python3"
  },
  "language_info": {
   "codemirror_mode": {
    "name": "ipython",
    "version": 3
   },
   "file_extension": ".py",
   "mimetype": "text/x-python",
   "name": "python",
   "nbconvert_exporter": "python",
   "pygments_lexer": "ipython3",
   "version": "3.8.5"
  }
 },
 "nbformat": 4,
 "nbformat_minor": 4
}
