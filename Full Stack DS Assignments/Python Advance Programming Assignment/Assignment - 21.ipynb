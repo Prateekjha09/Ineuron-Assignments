{
 "cells": [
  {
   "cell_type": "code",
   "execution_count": 35,
   "id": "3ee0f979",
   "metadata": {},
   "outputs": [
    {
     "name": "stdout",
     "output_type": "stream",
     "text": [
      "1\n",
      "0\n"
     ]
    }
   ],
   "source": [
    "'''1.\n",
    "Given a sentence, return the number of words which have the same first\n",
    "and last letter.\n",
    "Examples\n",
    "count_same_ends(&quot;Pop! goes the balloon&quot;) ➞ 1\n",
    "count_same_ends(&quot;And the crowd goes wild!&quot;) ➞ 0\n",
    "'''\n",
    "\n",
    "import re\n",
    "import collections\n",
    "def count_same_ends(s):\n",
    "    s = re.sub('[^A-Za-z0-9]+', ' ', s)\n",
    "    ct = 0\n",
    "    s = s.lower()\n",
    "    s_l = [i for i in s.split(' ')]\n",
    "    #print(s_l)\n",
    "    ct = 0\n",
    "    for i in range(len(s_l)):\n",
    "        if s_l[i] == '':\n",
    "            continue\n",
    "        else:\n",
    "            if s_l[i][0] == s_l[i][-1]:\n",
    "                ct += 1\n",
    "            else:\n",
    "                continue\n",
    "    return ct\n",
    "            \n",
    "        \n",
    "    \n",
    "print(count_same_ends('Pop! goes the ballon'))\n",
    "print(count_same_ends('And the crowd goes wild!'))"
   ]
  },
  {
   "cell_type": "code",
   "execution_count": 77,
   "id": "b02411a1",
   "metadata": {},
   "outputs": [
    {
     "name": "stdout",
     "output_type": "stream",
     "text": [
      " zkkov\n",
      " svool dliow \n",
      " xsirhgnzh rh gsv gs lu wvxvnyvi\n"
     ]
    }
   ],
   "source": [
    "'''2. \n",
    "The Atbash cipher is an encryption method in which each letter of a word is\n",
    "replaced with its &quot;mirror&quot; letter in the alphabet: A &lt;=&gt; Z; B &lt;=&gt; Y; C &lt;=&gt; X;\n",
    "etc.\n",
    "Create a function that takes a string and applies the Atbash cipher to it.\n",
    "Examples\n",
    "atbash(&quot;apple&quot;) ➞ &quot;zkkov&quot;\n",
    "atbash(&quot;Hello world!&quot;) ➞ &quot;Svool dliow!&quot;\n",
    "atbash(&quot;Christmas is the 25th of December&quot;) ➞ &quot;Xsirhgnzh rh gsv 25gs lu\n",
    "Wvxvnyvi&quot;'''\n",
    "\n",
    "def atbash(s):\n",
    "    \n",
    "    s= re.sub('[^A-Za-z]+', ' ', s).upper()\n",
    "    reverse_table = {'A' : 'Z', 'B' : 'Y', 'C' : 'X', 'D' : 'W', 'E' : 'V',\n",
    "        'F' : 'U', 'G' : 'T', 'H' : 'S', 'I' : 'R', 'J' : 'Q',\n",
    "        'K' : 'P', 'L' : 'O', 'M' : 'N', 'N' : 'M', 'O' : 'L',\n",
    "        'P' : 'K', 'Q' : 'J', 'R' : 'I', 'S' : 'H', 'T' : 'G',\n",
    "        'U' : 'F', 'V' : 'E', 'W' : 'D', 'X' : 'C', 'Y' : 'B', 'Z' : 'A'}\n",
    "    cipher = ' '\n",
    "    for i in s:\n",
    "        if i != ' ':\n",
    "            cipher += reverse_table[i]\n",
    "        elif i in [str(j) for j in range(11)]:\n",
    "            cipher += str(i)+ ' '\n",
    "        else:\n",
    "            cipher +=' '\n",
    "            \n",
    "    return cipher.lower()\n",
    "\n",
    "\n",
    "print(atbash('apple'))\n",
    "print(atbash('Hello world!'))\n",
    "print(atbash('Christmas is the 25th of December'))"
   ]
  },
  {
   "cell_type": "code",
   "execution_count": 62,
   "id": "0632457c",
   "metadata": {},
   "outputs": [
    {
     "name": "stdout",
     "output_type": "stream",
     "text": [
      "John\n",
      "Major\n",
      "178\n",
      "Italian\n"
     ]
    }
   ],
   "source": [
    "'''3.\n",
    "Create a class Employee that will take a full name as argument, as well as\n",
    "a set of none, one or more keywords. Each instance should have a name and\n",
    "a lastname attributes plus one more attribute for each of the keywords, if any.\n",
    "Examples\n",
    "john = Employee(&quot;John Doe&quot;)\n",
    "mary = Employee(&quot;Mary Major&quot;, salary=120000)\n",
    "richard = Employee(&quot;Richard Roe&quot;, salary=110000, height=178)\n",
    "giancarlo = Employee(&quot;Giancarlo Rossi&quot;, salary=115000, height=182,\n",
    "nationality=&quot;Italian&quot;)\n",
    "john.name ➞ &quot;John&quot;\n",
    "mary.lastname ➞ &quot;Major&quot;\n",
    "richard.height ➞ 178\n",
    "giancarlo.nationality ➞ &quot;Italian&quot;'''\n",
    "\n",
    "class Employee:\n",
    "    def __init__(self, *args):\n",
    "        self.name = args[0]\n",
    "        self.salary = args[1]\n",
    "        self.height = args[2]\n",
    "        self.nationality= args[3]\n",
    "        \n",
    "\n",
    "john = Employee('John Doe',None,None,None)\n",
    "print(john.name.split(' ')[0])\n",
    "mary = Employee('Mary Major',120000,None,None)\n",
    "print(mary.name.split(' ')[1])\n",
    "richard = Employee('Richard Roe', 110000,178,None)\n",
    "giancarlo = Employee('Giancarlo Rossi',115000,182,'Italian')\n",
    "print(richard.height)\n",
    "print(giancarlo.nationality)"
   ]
  },
  {
   "cell_type": "code",
   "execution_count": 49,
   "id": "d1e7dae8",
   "metadata": {},
   "outputs": [
    {
     "name": "stdout",
     "output_type": "stream",
     "text": [
      "['bacon', 'parmesan', 'ham']\n",
      "['spinach', 'olives', 'mushroom']\n",
      "1\n",
      "2\n"
     ]
    }
   ],
   "source": [
    "'''5. \n",
    "Create a Pizza class with the attributes order_number and ingredients\n",
    "(which is given as a list). Only the ingredients will be given as input.\n",
    "You should also make it so that its possible to choose a ready made pizza\n",
    "flavour rather than typing out the ingredients manually! As well as creating\n",
    "this Pizza class, hard-code the following pizza flavours.\n",
    "Name Ingredients\n",
    "hawaiian ham, pineapple\n",
    "meat_festival beef, meatball, bacon\n",
    "garden_feast spinach, olives, mushroom\n",
    "Examples\n",
    "p1 = Pizza([&quot;bacon&quot;, &quot;parmesan&quot;, &quot;ham&quot;]) # order 1\n",
    "p2 = Pizza.garden_feast() # order 2\n",
    "p1.ingredients ➞ [&quot;bacon&quot;, &quot;parmesan&quot;, &quot;ham&quot;]\n",
    "p2.ingredients ➞ [&quot;spinach&quot;, &quot;olives&quot;, &quot;mushroom&quot;]\n",
    "p1.order_number ➞ 1\n",
    "p2.order_number ➞ 2'''\n",
    "\n",
    "class Pizza:\n",
    "    ct = 0\n",
    "    def __init__(self,l):\n",
    "        self.ct += 1\n",
    "        self.ingredients = l\n",
    "        \n",
    "    def ingredients(self):\n",
    "        return self.ingredients\n",
    "    \n",
    "    def garden_feast():\n",
    "        return ct\n",
    "    \n",
    "    \n",
    "p1 = Pizza(['bacon','parmesan','ham'])\n",
    "p2 = Pizza(['spinach','olives','mushroom'])\n",
    "print(p1.ingredients)\n",
    "print(p2.ingredients)\n",
    "p_list = [p1,p2]\n",
    "fin_dict = {}\n",
    "for i in range(1,len(p_list)+1): # getting order number for every pizza object\n",
    "    fin_dict['p'+str(i)] = i\n",
    "    print(fin_dict['p'+str(i)])\n"
   ]
  },
  {
   "cell_type": "code",
   "execution_count": null,
   "id": "17ef7e72",
   "metadata": {},
   "outputs": [],
   "source": []
  }
 ],
 "metadata": {
  "kernelspec": {
   "display_name": "Python 3",
   "language": "python",
   "name": "python3"
  },
  "language_info": {
   "codemirror_mode": {
    "name": "ipython",
    "version": 3
   },
   "file_extension": ".py",
   "mimetype": "text/x-python",
   "name": "python",
   "nbconvert_exporter": "python",
   "pygments_lexer": "ipython3",
   "version": "3.8.5"
  }
 },
 "nbformat": 4,
 "nbformat_minor": 5
}
