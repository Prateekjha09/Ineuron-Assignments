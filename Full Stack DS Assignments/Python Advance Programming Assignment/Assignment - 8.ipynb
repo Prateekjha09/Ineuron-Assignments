{
 "cells": [
  {
   "cell_type": "code",
   "execution_count": 3,
   "metadata": {},
   "outputs": [
    {
     "name": "stdout",
     "output_type": "stream",
     "text": [
      "True\n",
      "True\n",
      "False\n",
      "False\n"
     ]
    }
   ],
   "source": [
    "'''1.\n",
    "Given a sentence as txt, return True if any two adjacent words have this\n",
    "property: One word ends with a vowel, while the word immediately after\n",
    "begins with a vowel (a e i o u).\n",
    "Examples\n",
    "vowel_links(&quot;a very large appliance&quot;) ➞ True\n",
    "vowel_links(&quot;go to edabit&quot;) ➞ True\n",
    "vowel_links(&quot;an open fire&quot;) ➞ False\n",
    "vowel_links(&quot;a sudden applause&quot;) ➞ False'''\n",
    "\n",
    "def vowel_links(s):\n",
    "    l = s.split(' ')\n",
    "    for i in range(len(l)):\n",
    "        if i ==  len(l)-1:\n",
    "            return False\n",
    "        # checking if last element of a particular word and first elemenet in it's next word are in vowels or not\n",
    "        elif l[i][-1] in ['a','e','i','o','u'] and l[i+1][0] in ['a','e','i','o','u']:\n",
    "            return True\n",
    "        else:\n",
    "            continue\n",
    "    \n",
    "print(vowel_links('a very large appliance'))\n",
    "print(vowel_links('go to edabit'))\n",
    "print(vowel_links('an open fire'))\n",
    "print(vowel_links('a sudden applause'))"
   ]
  },
  {
   "cell_type": "code",
   "execution_count": 4,
   "metadata": {},
   "outputs": [
    {
     "name": "stdout",
     "output_type": "stream",
     "text": [
      "True\n",
      "True\n",
      "False\n"
     ]
    }
   ],
   "source": [
    "'''2.\n",
    "You are given three inputs: a string, one letter, and a second letter.\n",
    "Write a function that returns True if every instance of the first letter occurs\n",
    "before every instance of the second letter.\n",
    "Examples\n",
    "first_before_second(&quot;a rabbit jumps joyfully&quot;, &quot;a&quot;, &quot;j&quot;) ➞ True\n",
    "# Every instance of &quot;a&quot; occurs before every instance of &quot;j&quot;.\n",
    "first_before_second(&quot;knaves knew about waterfalls&quot;, &quot;k&quot;, &quot;w&quot;) ➞ True\n",
    "first_before_second(&quot;happy birthday&quot;, &quot;a&quot;, &quot;y&quot;) ➞ False\n",
    "# The &quot;a&quot; in &quot;birthday&quot; occurs after the &quot;y&quot; in &quot;happy&quot;.\n",
    "first_before_second(&quot;precarious kangaroos&quot;, &quot;k&quot;, &quot;a&quot;) ➞ False'''\n",
    "\n",
    "def first_before_second(s,a,b):\n",
    "    i=occ1=occ2=0  \n",
    "    flag = True  \n",
    "    #str, ltr1, ltr2 = input('Enter string, first letter and second letter: ').split(',')  \n",
    "    while i<s.count(a):  \n",
    "        if s.find(a,occ1) > s.find(b,occ2):  \n",
    "            flag = False  \n",
    "        occ1,occ2 = s.find(a)+1, s.find(b)+1  \n",
    "        i += 1  \n",
    "    if flag:  \n",
    "        return True\n",
    "    else:  \n",
    "        return False\n",
    "        \n",
    "print(first_before_second('a rabbit jumps joyfully','a','y'))\n",
    "print(first_before_second('knaves knew knew about waterfalls','k','w'))\n",
    "print(first_before_second('precarious kangaroo','k','a'))"
   ]
  },
  {
   "cell_type": "code",
   "execution_count": 21,
   "metadata": {},
   "outputs": [
    {
     "name": "stdout",
     "output_type": "stream",
     "text": [
      "[4, 8]\n",
      "['E', 'A', 'I']\n",
      "['A', 'B', 'T', 'A', 'I', 'Y']\n"
     ]
    }
   ],
   "source": [
    "'''3. \n",
    "Create a function that returns the characters from a list or string r on odd or\n",
    "even positions, depending on the specifier s. The specifier will be &quot;odd&quot; for\n",
    "items on odd positions (1, 3, 5, ...) and &quot;even&quot; for items on even positions (2,\n",
    "4, 6, ...).\n",
    "Examples\n",
    "char_at_pos([2, 4, 6, 8, 10], &quot;even&quot;) ➞ [4, 8]\n",
    "# 4 &amp; 8 occupy the 2nd &amp; 4th positions\n",
    "char_at_pos(&quot;EDABIT&quot;, &quot;odd&quot;) ➞ &quot;EAI&quot;\n",
    "# &quot;E&quot;, &quot;A&quot; and &quot;I&quot; occupy the 1st, 3rd and 5th positions\n",
    "\n",
    "char_at_pos([&quot;A&quot;, &quot;R&quot;, &quot;B&quot;, &quot;I&quot;, \n",
    "&quot;T&quot;, &quot;R&quot;, &quot;A&quot;, &quot;R&quot;, &quot;I&quot;, &quot;L&quot;, &quot;Y&quot;], \n",
    "&quot;odd&quot;) ➞ [&quot;A&quot;,\n",
    "&quot;B&quot;, &quot;T&quot;, &quot;A&quot;, &quot;I&quot;, &quot;Y&quot;]'''\n",
    "\n",
    "\n",
    "def char_at_pos(s,choice):\n",
    "    ans_lis = []\n",
    "    if type(s) == list:\n",
    "        if type(s[0]) == int:\n",
    "            for i in range(0,len(s)):\n",
    "                if choice == 'even':\n",
    "                    if (i+1)%2 == 0:\n",
    "                        ans_lis.append(s[i])\n",
    "                    else:\n",
    "                        continue\n",
    "                else:\n",
    "                    continue\n",
    "        elif type(s[0]) == str:\n",
    "            for i in range(len(s)):\n",
    "                if choice == 'odd':\n",
    "                    if(i+1)%2 !=0:\n",
    "                        ans_lis.append(s[i])\n",
    "    elif type(s) == str:\n",
    "        for i in range(len(s)):\n",
    "            if choice == 'odd':\n",
    "                if (i+1)%2 !=0:\n",
    "                    ans_lis.append(s[i])\n",
    "                else:\n",
    "                    continue\n",
    "            if choice == 'even':\n",
    "                if ord(s[i+1])%2 ==0 and (i+1)%2 ==0:\n",
    "                    ans_lis.append(s[i+1])\n",
    "            else:\n",
    "                continue\n",
    "    return ans_lis\n",
    "\n",
    "print(char_at_pos([2,4,6,8,10],'even'))  ## WIP\n",
    "print(char_at_pos('EDABIT','odd'))      \n",
    "print(char_at_pos(['A','R','B','I','T','R','A','R','I','L','Y'],'odd'))\n",
    "        "
   ]
  },
  {
   "cell_type": "code",
   "execution_count": 11,
   "metadata": {},
   "outputs": [
    {
     "name": "stdout",
     "output_type": "stream",
     "text": [
      "64\n",
      "10\n",
      "1\n"
     ]
    }
   ],
   "source": [
    "'''4.\n",
    "Write a function that returns the greatest common divisor of all list\n",
    "elements. If the greatest common divisor is 1, return 1.\n",
    "Examples\n",
    "GCD([10, 20, 40]) ➞ 10\n",
    "GCD([1, 2, 3, 100]) ➞ 1\n",
    "GCD([1024, 192, 2048, 512]) ➞ 64'''\n",
    "import math \n",
    "def GCD(s):\n",
    "    gd = 0\n",
    "    s.sort()\n",
    "    #print(s)\n",
    "    i = 2\n",
    "    c = math.gcd(s[0],s[1])\n",
    "    while i < len(s):\n",
    "            gd = math.gcd(c,s[i])\n",
    "            #print(gd)\n",
    "            i+=1\n",
    "    return gd\n",
    "        \n",
    "print(GCD([1024, 192, 2048, 512]))\n",
    "print(GCD([10,20,40]))\n",
    "print(GCD([1,2,3,100]))"
   ]
  }
 ],
 "metadata": {
  "kernelspec": {
   "display_name": "Python 3",
   "language": "python",
   "name": "python3"
  },
  "language_info": {
   "codemirror_mode": {
    "name": "ipython",
    "version": 3
   },
   "file_extension": ".py",
   "mimetype": "text/x-python",
   "name": "python",
   "nbconvert_exporter": "python",
   "pygments_lexer": "ipython3",
   "version": "3.8.5"
  }
 },
 "nbformat": 4,
 "nbformat_minor": 4
}
