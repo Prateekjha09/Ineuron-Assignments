{
 "cells": [
  {
   "cell_type": "code",
   "execution_count": 7,
   "metadata": {},
   "outputs": [
    {
     "name": "stdout",
     "output_type": "stream",
     "text": [
      "[3.0, 3.0, 3.0]\n",
      "[12.0, 7.5, 14.5]\n",
      "[27.0, 75.0]\n"
     ]
    }
   ],
   "source": [
    "'''1.\n",
    "Given a list of numbers, create a function that removes 25% from every\n",
    "number in the list except the smallest number, and adds the total amount\n",
    "removed to the smallest number.\n",
    "Examples\n",
    "show_the_love([4, 1, 4]) ➞ [3, 3, 3]\n",
    "show_the_love([16, 10, 8]) ➞ [12, 7.5, 14.5]\n",
    "show_the_love([2, 100]) ➞ [27, 75]'''\n",
    "\n",
    "def show_the_love(s):\n",
    "    rem_sum = 0\n",
    "    rem = 0\n",
    "    for i in range(len(s)):\n",
    "        if s[i] == min(s):\n",
    "            continue\n",
    "        else:\n",
    "            rem = 0.25*s[i]\n",
    "            s[i] = s[i] - rem\n",
    "            rem_sum += rem\n",
    "            \n",
    "    s[s.index(min(s))] = min(s)+rem_sum\n",
    "    return s\n",
    "\n",
    "print(show_the_love([4,1,4]))\n",
    "print(show_the_love([16,10,8]))\n",
    "print(show_the_love([2,100]))"
   ]
  },
  {
   "cell_type": "code",
   "execution_count": 20,
   "metadata": {},
   "outputs": [
    {
     "name": "stdout",
     "output_type": "stream",
     "text": [
      "['asp', 'hr', 'o']\n",
      "['rbdo', 'a', 'e']\n",
      "['npe', 'ahis', 'lov']\n",
      "['ulf', 'ekr', 'y']\n",
      "['mah', 'ct', '']\n"
     ]
    }
   ],
   "source": [
    "'''2.\n",
    "Create a function that takes in two words as input and returns a list of three\n",
    "elements, in the following order:\n",
    "1.Shared letters between two words.\n",
    "2.Letters unique to word 1.\n",
    "3.Letters unique to word 2.\n",
    "Each element should have unique letters, and have each letter be\n",
    "alphabetically sorted.\n",
    "Examples\n",
    "letters(&quot;sharp&quot;, &quot;soap&quot;) ➞ [&quot;aps&quot;, &quot;hr&quot;, &quot;o&quot;]\n",
    "letters(&quot;board&quot;, &quot;bored&quot;) ➞ [&quot;bdor&quot;, &quot;a&quot;, &quot;e&quot;]\n",
    "letters(&quot;happiness&quot;, &quot;envelope&quot;) ➞ [&quot;enp&quot;, &quot;ahis&quot;, &quot;lov&quot;]\n",
    "letters(&quot;kerfuffle&quot;, &quot;fluffy&quot;) ➞ [&quot;flu&quot;, &quot;ekr&quot;, &quot;y&quot;]\n",
    "# Even with multiple matching letters (e.g. 3 f&#39;s), there should\n",
    "# only exist a single &quot;f&quot; in your first element.\n",
    "letters(&quot;match&quot;, &quot;ham&quot;) ➞ [&quot;ahm&quot;, &quot;ct&quot;, &quot;&quot;]\n",
    "# &quot;ham&quot; does not contain any letters that are not found already\n",
    "# in &quot;match&quot;.'''\n",
    "\n",
    "def letters(s1,s2):\n",
    "    common_words = ''.join(set(s1).intersection(s2))\n",
    "    s1_unique = ''\n",
    "    s2_unique = ''\n",
    "    s1 = sorted(list(set(s1)))\n",
    "    s2 = sorted(list(set(s2)))\n",
    "    for i in range(len(s1)):\n",
    "        if s1[i] not in s2:\n",
    "            s1_unique += s1[i]\n",
    "        else:\n",
    "            continue\n",
    "            \n",
    "    for i in range(len(s2)):\n",
    "        if s2[i] not in s1:\n",
    "            s2_unique += s2[i]\n",
    "        else:\n",
    "            continue\n",
    "    \n",
    "\n",
    "    return [common_words,s1_unique,s2_unique]\n",
    "\n",
    "print(letters('sharp','soap'))\n",
    "print(letters('board','bored'))\n",
    "print(letters('happiness','envelope'))\n",
    "print(letters('kerfuffle','fluffy'))\n",
    "print(letters('match','ham'))\n"
   ]
  },
  {
   "cell_type": "code",
   "execution_count": 67,
   "metadata": {},
   "outputs": [
    {
     "name": "stdout",
     "output_type": "stream",
     "text": [
      "[[1, 7], [2, 6], [3, 5], [4, 4]]\n",
      "[[1, 6], [2, 5], [3, 4]]\n",
      "[[5, 2], [9, 1], [8, 8]]\n",
      "[]\n"
     ]
    }
   ],
   "source": [
    "'''3.\n",
    "Write a function that pairs the first number in an array with the last, the\n",
    "second number with the second to last, etc.\n",
    "Examples\n",
    "pairs([1, 2, 3, 4, 5, 6, 7]) ➞ [[1, 7], [2, 6], [3, 5], [4, 4]]\n",
    "pairs([1, 2, 3, 4, 5, 6]) ➞ [[1, 6], [2, 5], [3, 4]]\n",
    "pairs([5, 9, 8, 1, 2]) ➞ [[5, 2], [9, 1], [8, 8]]\n",
    "pairs([]) ➞ []'''\n",
    "\n",
    "import math\n",
    "\n",
    "def pairs(s):\n",
    "    fin_list = []\n",
    "    if len(s) == 0:\n",
    "        return []\n",
    "    else:\n",
    "        for i in range(0,math.ceil(len(s)/2)):\n",
    "            middle = []\n",
    "            middle.append(s[i])\n",
    "            middle.append(s[len(s)-i-1])\n",
    "            fin_list.append(middle)\n",
    "    return fin_list\n",
    "            \n",
    "\n",
    "\n",
    "print(pairs([1, 2, 3, 4, 5, 6, 7])) ### WIP\n",
    "print(pairs([1, 2, 3, 4, 5, 6]))\n",
    "print(pairs([5, 9, 8, 1, 2]))\n",
    "print(pairs([]))"
   ]
  },
  {
   "cell_type": "code",
   "execution_count": 38,
   "metadata": {},
   "outputs": [
    {
     "name": "stdout",
     "output_type": "stream",
     "text": [
      "9\n",
      "-1\n",
      "1\n",
      "1874682736267235927361936562808774986\n"
     ]
    }
   ],
   "source": [
    "'''4.\n",
    "Write a function that adds two numbers. The catch, however, is that the\n",
    "numbers will be strings.\n",
    "Examples\n",
    "add_str_nums(&quot;4&quot;, &quot;5&quot;) ➞ &quot;9&quot;\n",
    "add_str_nums(&quot;abcdefg&quot;, &quot;3&quot;) ➞ &quot;-1&quot;\n",
    "add_str_nums(&quot;1&quot;, &quot;&quot;) ➞ &quot;1&quot;\n",
    "add_str_nums(&quot;1874682736267235927359283579235789257&quot;,\n",
    "&quot;32652983572985729&quot;) ➞ &quot;1874682736267235927391936562808774986&quot;\n",
    "'''\n",
    "\n",
    "def add_str_nums(s1,s2):\n",
    "    try:\n",
    "        if s1 == \" \":\n",
    "            return str(0+int(s2))\n",
    "        elif s2 == \" \":\n",
    "            return str(int(s1)+0)\n",
    "        else:\n",
    "            s1 = int(s1)\n",
    "            s2 = int(s2)\n",
    "\n",
    "            return str(s1+s2)\n",
    "        \n",
    "    except ValueError as e:\n",
    "        return -1\n",
    "\n",
    "print(add_str_nums(\"4\",\"5\"))\n",
    "print(add_str_nums(\"abcdefg\",\"3\"))\n",
    "print(add_str_nums(\"1\",\" \"))\n",
    "print(add_str_nums(\"1874682736267235927359283579235789257\",\"2652983572985729\"))"
   ]
  },
  {
   "cell_type": "code",
   "execution_count": 57,
   "metadata": {},
   "outputs": [
    {
     "name": "stdout",
     "output_type": "stream",
     "text": [
      "214365\n"
     ]
    }
   ],
   "source": [
    "'''5. \n",
    "5. lPaeesh le pemu mnxit ehess rtnisg! Oh, sorry, that was supposed to say:\n",
    "Please help me unmix these strings!\n",
    "Somehow my strings have all become mixed up; every pair of characters has\n",
    "been swapped. Help me undo this so I can understand my strings again.\n",
    "Examples\n",
    "unmix(&quot;123456&quot;) ➞ &quot;214365&quot;\n",
    "unmix(&quot;hTsii s aimex dpus rtni.g&quot;) ➞ &quot;This is a mixed up string.&quot;\n",
    "unmix(&quot;badce&quot;) ➞ &quot;abcde&quot;'''\n",
    "\n",
    "def unmix(s):\n",
    "    output = ''\n",
    "    i = 0\n",
    "    while i < len(s):\n",
    "        if i + 1 < len(s):\n",
    "            output = output + s[i + 1]\n",
    "            output = output + s[i]\n",
    "        i = i + 2\n",
    "    return output\n",
    "\n",
    "print(unmix(\"123456\"))"
   ]
  },
  {
   "cell_type": "code",
   "execution_count": null,
   "metadata": {},
   "outputs": [],
   "source": [
    "\n"
   ]
  }
 ],
 "metadata": {
  "kernelspec": {
   "display_name": "Python 3",
   "language": "python",
   "name": "python3"
  },
  "language_info": {
   "codemirror_mode": {
    "name": "ipython",
    "version": 3
   },
   "file_extension": ".py",
   "mimetype": "text/x-python",
   "name": "python",
   "nbconvert_exporter": "python",
   "pygments_lexer": "ipython3",
   "version": "3.8.5"
  }
 },
 "nbformat": 4,
 "nbformat_minor": 4
}
