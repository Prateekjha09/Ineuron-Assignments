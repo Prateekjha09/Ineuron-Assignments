{
 "cells": [
  {
   "cell_type": "code",
   "execution_count": 7,
   "metadata": {},
   "outputs": [
    {
     "name": "stdout",
     "output_type": "stream",
     "text": [
      "5\n",
      "55\n",
      "6765\n",
      "12586269025\n"
     ]
    }
   ],
   "source": [
    "'''1.\n",
    "In mathematics, the Fibonacci numbers, commonly denoted Fn, form a\n",
    "sequence, called the Fibonacci sequence, such that each number is the sum\n",
    "of the two preceding ones, starting from 0 and 1:\n",
    "\n",
    "The beginning of the sequence is this:\n",
    "0, 1, 1, 2, 3, 5, 8, 13, 21, 34, 55, 89, 144, ...\n",
    "The function fastFib(num) returns the fibonacci number Fn, of the given num\n",
    "as an argument.\n",
    "Examples\n",
    "fib_fast(5) ➞ 5\n",
    "fib_fast(10) ➞ 55\n",
    "fib_fast(20) ➞ 6765\n",
    "fib_fast(50) ➞ 12586269025'''\n",
    "\n",
    "def fib_fast(n):\n",
    "    a=0\n",
    "    b=1\n",
    "    if n<1:\n",
    "        return \"Incorrect input\"\n",
    "    \n",
    "    if n == 1:\n",
    "        return 1\n",
    "    elif n ==0:\n",
    "        return 0\n",
    "    else:\n",
    "        for i in range(1,n):\n",
    "            c = a+b\n",
    "            a=b\n",
    "            b=c\n",
    "        return b\n",
    "    \n",
    "print(fib_fast(5))\n",
    "print(fib_fast(10))\n",
    "print(fib_fast(20))\n",
    "print(fib_fast(50))"
   ]
  },
  {
   "cell_type": "code",
   "execution_count": 38,
   "metadata": {},
   "outputs": [
    {
     "name": "stdout",
     "output_type": "stream",
     "text": [
      "68 65 6c 6c 6f 20 77 6f 72 6c 64 \n",
      "42 69 67 20 42 6f 69 \n",
      "4d 61 72 74 79 20 50 6f 70 70 69 6e 73 6f 6e \n"
     ]
    }
   ],
   "source": [
    "'''2.\n",
    "Create a function that takes a strings characters as ASCII and returns each\n",
    "characters hexadecimal value as a string.\n",
    "Examples\n",
    "convert_to_hex(&quot;hello world&quot;) ➞ &quot;68 65 6c 6c 6f 20 77 6f 72 6c 64&quot;\n",
    "convert_to_hex(&quot;Big Boi&quot;) ➞ &quot;42 69 67 20 42 6f 69&quot;\n",
    "convert_to_hex(&quot;Marty Poppinson&quot;) ➞ &quot;4d 61 72 74 79 20 50 6f 70 70 69 6e\n",
    "73 6f 6e&quot;'''\n",
    "import codecs\n",
    "def convert_to_hex(s):\n",
    "    x = ''\n",
    "    for i in s:\n",
    "        x+=hex(ord(i))[2:] + \" \" # string to its ascii value and then ascii value to hexidecimal value and ignoring 0x of \n",
    "                                # string value returned by hex function\n",
    "    return x\n",
    "\n",
    "print(convert_to_hex('hello world'))\n",
    "print(convert_to_hex('Big Boi'))\n",
    "print(convert_to_hex('Marty Poppinson'))"
   ]
  },
  {
   "cell_type": "code",
   "execution_count": 84,
   "metadata": {},
   "outputs": [
    {
     "name": "stdout",
     "output_type": "stream",
     "text": [
      "Where did my vowels go\n",
      "abcd\n",
      "UPPERCASE\n"
     ]
    }
   ],
   "source": [
    "'''3.\n",
    "Someone has attempted to censor my strings by replacing every vowel\n",
    "with a *, l*k* th*s. Luckily, I&#39;ve been able to find the vowels that were\n",
    "removed.\n",
    "Given a censored string and a string of the censored vowels, return the\n",
    "original uncensored string.\n",
    "Example\n",
    "uncensor(&quot;Wh*r* d*d my v*w*ls g*?&quot;, &quot;eeioeo&quot;) ➞ &quot;Where did my vowels go?&quot;\n",
    "uncensor(&quot;abcd&quot;, &quot;&quot;) ➞ &quot;abcd&quot;\n",
    "uncensor(&quot;*PP*RC*S*&quot;, &quot;UEAE&quot;) ➞ &quot;UPPERCASE&quot;'''\n",
    "\n",
    "def uncensor(main,match):\n",
    "    new = ''\n",
    "    ct = 0\n",
    "    for i in main:\n",
    "        if i != '*':\n",
    "            new += i\n",
    "        elif i == '*':\n",
    "            new += match[ct]\n",
    "            ct +=1\n",
    "    return new\n",
    "\n",
    "print(uncensor('Wh*r* d*d my v*w*ls g*','eeioeo'))\n",
    "print(uncensor('abcd',''))        \n",
    "print(uncensor('*PP*RC*S*','UEAE'))"
   ]
  },
  {
   "cell_type": "code",
   "execution_count": 85,
   "metadata": {},
   "outputs": [
    {
     "name": "stdout",
     "output_type": "stream",
     "text": [
      "dns.google\n",
      "dns.google\n"
     ]
    }
   ],
   "source": [
    "'''4.\n",
    "Write a function that takes an IP address and returns the domain name\n",
    "using PTR DNS records.\n",
    "Example\n",
    "get_domain(&quot;8.8.8.8&quot;) ➞ &quot;dns.google&quot;\n",
    "get_domain(&quot;8.8.4.4&quot;) ➞ &quot;dns.google&quot;'''\n",
    "\n",
    "import socket\n",
    "\n",
    "def get_domain(s):\n",
    "    x = socket.gethostbyaddr(s)\n",
    "    return x[0]\n",
    "\n",
    "print(get_domain('8.8.8.8'))\n",
    "print(get_domain('8.8.4.4'))"
   ]
  },
  {
   "cell_type": "code",
   "execution_count": 86,
   "metadata": {},
   "outputs": [
    {
     "name": "stdout",
     "output_type": "stream",
     "text": [
      "288\n",
      "34560\n",
      "24883200\n"
     ]
    }
   ],
   "source": [
    "'''5.\n",
    "Create a function that takes an integer n and returns the factorial of\n",
    "factorials. See below examples for a better understanding:\n",
    "Examples\n",
    "fact_of_fact(4) ➞ 288\n",
    "# 4! * 3! * 2! * 1! = 288\n",
    "fact_of_fact(5) ➞ 34560\n",
    "fact_of_fact(6) ➞ 24883200'''\n",
    "\n",
    "def fact(n):\n",
    "    if n == 0 or n ==1:\n",
    "        return 1\n",
    "    elif n >1:\n",
    "        return n*fact(n-1)\n",
    "\n",
    "def fact_of_fact(n):\n",
    "    fact_list = []\n",
    "    if n == 0 or n ==1:\n",
    "        return 1\n",
    "    elif n >1:\n",
    "        a = [i for i in range(n,0,-1)]\n",
    "        for i in a:\n",
    "            res = fact(i)\n",
    "            fact_list.append(res)\n",
    "    final_res = 1\n",
    "    for i in fact_list:\n",
    "        final_res *= i\n",
    "    return final_res\n",
    "\n",
    "print(fact_of_fact(4))\n",
    "print(fact_of_fact(5))\n",
    "print(fact_of_fact(6))"
   ]
  },
  {
   "cell_type": "code",
   "execution_count": null,
   "metadata": {},
   "outputs": [],
   "source": []
  }
 ],
 "metadata": {
  "kernelspec": {
   "display_name": "Python 3",
   "language": "python",
   "name": "python3"
  },
  "language_info": {
   "codemirror_mode": {
    "name": "ipython",
    "version": 3
   },
   "file_extension": ".py",
   "mimetype": "text/x-python",
   "name": "python",
   "nbconvert_exporter": "python",
   "pygments_lexer": "ipython3",
   "version": "3.8.5"
  }
 },
 "nbformat": 4,
 "nbformat_minor": 4
}
