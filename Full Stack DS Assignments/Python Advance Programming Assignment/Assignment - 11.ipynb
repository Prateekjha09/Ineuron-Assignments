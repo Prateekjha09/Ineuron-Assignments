{
 "cells": [
  {
   "cell_type": "code",
   "execution_count": 9,
   "metadata": {},
   "outputs": [
    {
     "name": "stdout",
     "output_type": "stream",
     "text": [
      "[3, 7, 11]\n",
      "[1009, 10007]\n",
      "[3, 1091, 1093, 1097, 1009, 1087, 61]\n"
     ]
    }
   ],
   "source": [
    "'''1.\n",
    "Create a function that takes a list and returns a new list containing only\n",
    "prime numbers.\n",
    "Examples\n",
    "filter_primes([7, 9, 3, 9, 10, 11, 27]) ➞ [7, 3, 11]\n",
    "filter_primes([10007, 1009, 1007, 27, 147, 77, 1001, 70]) ➞ [10007, 1009]\n",
    "filter_primes([1009, 10, 10, 10, 3, 33, 9, 4, 1, 61, 63, 69, 1087, 1091, 1093,\n",
    "1097]) ➞ [1009, 3, 61, 1087, 1091, 1093, 1097]'''\n",
    "\n",
    "def filter_primes(s):\n",
    "    s = list(set(s))\n",
    "    fin = []\n",
    "    for i in range(len(s)):\n",
    "        ct = 0\n",
    "        for j in range(1,s[i]):\n",
    "            if s[i]%j == 0:\n",
    "                ct +=1\n",
    "\n",
    "        if ct ==1:\n",
    "            fin.append(s[i])\n",
    "                \n",
    "    return fin\n",
    "\n",
    "print(filter_primes([7, 9, 3, 9, 10, 11, 27]))\n",
    "print(filter_primes([10007,1009,1007,27,147,77,1001,70]))\n",
    "print(filter_primes([1009, 10, 10, 10, 3, 33, 9, 4, 1, 61, 63, 69, 1087, 1091, 1093,1097]))"
   ]
  },
  {
   "cell_type": "code",
   "execution_count": 28,
   "metadata": {},
   "outputs": [
    {
     "name": "stdout",
     "output_type": "stream",
     "text": [
      "[0, 1, 2, 3, 4, 3, 2, 1, 0]\n",
      "[0]\n",
      "[0, 1, 2, 1, 0]\n",
      "[0, 1, 2, 3, 2, 1, 0]\n"
     ]
    }
   ],
   "source": [
    "'''2.\n",
    "Once a water balloon pops, is soaks the area around it. The ground gets\n",
    "drier the further away you travel from the balloon.\n",
    "The effect of a water balloon popping can be modeled using a list. Create a\n",
    "function that takes a list which takes the pre-pop state and returns the state\n",
    "after the balloon is popped. The pre-pop state will contain at most a single\n",
    "balloon, whose size is represented by the only non-zero element.\n",
    "Examples\n",
    "pop([0, 0, 0, 0, 4, 0, 0, 0, 0]) ➞ [0, 1, 2, 3, 4, 3, 2, 1, 0]\n",
    "pop([0, 0, 0, 3, 0, 0, 0]) ➞ [0, 1, 2, 3, 2, 1, 0]\n",
    "pop([0, 0, 2, 0, 0]) ➞ [0, 1, 2, 1, 0]\n",
    "pop([0]) ➞ [0]'''\n",
    "\n",
    "import math\n",
    "def pop(s):\n",
    "    fin = []\n",
    "    if len(s) == 1:\n",
    "        return s\n",
    "    elif len(s)>1:\n",
    "        mid = math.ceil((s[0]+len(s)-1)/2)\n",
    "        for i in range(0,mid+1):\n",
    "            if i == mid :\n",
    "                fin.append(s[mid])\n",
    "            else:\n",
    "                fin.append(s[0]+i)\n",
    "        for i in range(mid+1,len(s)):\n",
    "            if i == mid:\n",
    "                continue\n",
    "            else:\n",
    "                fin.append(fin[i-1]-1)\n",
    "    return fin\n",
    "\n",
    "print(pop([0, 0, 0, 0, 4, 0, 0, 0, 0]))\n",
    "print(pop([0]))\n",
    "print(pop([0,0,2,0,0]))\n",
    "print(pop([0,0,0,3,0,0,0]))"
   ]
  },
  {
   "cell_type": "code",
   "execution_count": 30,
   "metadata": {},
   "outputs": [
    {
     "name": "stdout",
     "output_type": "stream",
     "text": [
      "Loves me\n",
      "Loves me not\n",
      "Loves me\n"
     ]
    }
   ],
   "source": [
    "'''3.\n",
    "&quot;Loves me, loves me not&quot; is a traditional game in which a person plucks off\n",
    "all the petals of a flower one by one, saying the phrase &quot;Loves me&quot; and\n",
    "&quot;Loves me not&quot; when determining whether the one that they love, loves them\n",
    "back.\n",
    "Given a number of petals, return a string which repeats the phrases &quot;Loves\n",
    "me&quot; and &quot;Loves me not&quot; for every alternating petal, and return the last phrase\n",
    "in all caps. Remember to put a comma and space between phrases.\n",
    "Examples\n",
    "loves_me(3) ➞ &quot;Loves me, Loves me not, LOVES ME&quot;\n",
    "loves_me(6) ➞ &quot;Loves me, Loves me not, Loves me, Loves me not, Loves\n",
    "me, LOVES ME NOT&quot;\n",
    "\n",
    "loves_me(1) ➞ &quot;LOVES ME&quot;'''\n",
    "\n",
    "def loves_me(s):\n",
    "    fin_res = []\n",
    "    if s == 1:\n",
    "        return 'loves me'.capitalize()\n",
    "    for i in range(1,s+1):\n",
    "        if i%2 != 0:\n",
    "            fin_res.append('Loves me')\n",
    "        elif i%2 ==0:\n",
    "            fin_res.append('Loves me not')\n",
    "            \n",
    "    return fin_res[-1].capitalize()\n",
    "\n",
    "print(loves_me(3))\n",
    "print(loves_me(6))\n",
    "print(loves_me(1))"
   ]
  },
  {
   "cell_type": "code",
   "execution_count": 34,
   "metadata": {},
   "outputs": [
    {
     "name": "stdout",
     "output_type": "stream",
     "text": [
      "['2344b', '932c', '832u32']\n",
      "['c2345', '99a', '78b', '11d']\n",
      "[]\n"
     ]
    }
   ],
   "source": [
    "'''4.\n",
    "Write a function that sorts each string in a list by the letter in alphabetic\n",
    "ascending order (a-z).\n",
    "Examples\n",
    "sort_by_letter([&quot;932c&quot;, &quot;832u32&quot;, &quot;2344b&quot;])\n",
    "➞ [&quot;2344b&quot;, &quot;932c&quot;, &quot;832u32&quot;]\n",
    "sort_by_letter([&quot;99a&quot;, &quot;78b&quot;, &quot;c2345&quot;, &quot;11d&quot;])\n",
    "➞ [&quot;99a&quot;, &quot;78b&quot;, &quot;c2345&quot;, &quot;11d&quot;]\n",
    "sort_by_letter([&quot;572z&quot;, &quot;5y5&quot;, &quot;304q2&quot;])\n",
    "➞ [&quot;304q2&quot;, &quot;5y5&quot;, &quot;572z&quot;]\n",
    "sort_by_letter([])\n",
    "➞ []'''\n",
    "import re\n",
    "def sort_by_letter(s):\n",
    "    \n",
    "    convert = lambda s: int(s) if s.isdigit() else s\n",
    "    alphanum_key = lambda key: [convert(c) for c in re.split('([0-9]+)', key)]\n",
    "    return sorted(s, key = alphanum_key,reverse=True)\n",
    "    \n",
    "print(sort_by_letter(['932c','832u32','2344b']))\n",
    "print(sort_by_letter(['99a','78b','c2345','11d']))\n",
    "print(sort_by_letter([]))"
   ]
  },
  {
   "cell_type": "code",
   "execution_count": 24,
   "metadata": {},
   "outputs": [
    {
     "name": "stdout",
     "output_type": "stream",
     "text": [
      "C\n"
     ]
    }
   ],
   "source": [
    "'''5.\n",
    "There are three cups on a table, at positions A, B, and C. At the start, there\n",
    "is a ball hidden under the cup at position B.\n",
    "However, I perform several swaps on the cups, which is notated as two\n",
    "letters. For example, if I swap the cups at positions A and B, I could notate\n",
    "this as AB or BA.\n",
    "Create a function that returns the letter position that the ball is at, once I finish\n",
    "swapping the cups. The swaps will be given to you as a list.\n",
    "\n",
    "Example\n",
    "cup_swapping([&quot;AB&quot;, &quot;CA&quot;, &quot;AB&quot;]) ➞ &quot;C&quot;\n",
    "# Ball begins at position B.\n",
    "# Cups A and B swap, so the ball is at position A.\n",
    "# Cups C and A swap, so the ball is at position C.\n",
    "# Cups A and B swap, but the ball is at position C, so it doesn&#39;t move.'''\n",
    "\n",
    "\n",
    "\n",
    "#print(s[0][0],\" \",s[0][1])\n",
    "\n",
    "def cup_swapping(s):\n",
    "\n",
    "    start = 'B'\n",
    "    for swap in s:\n",
    "        if swap[0] == start:\n",
    "            start = swap[1]\n",
    "        elif swap[1] == start:\n",
    "            start = swap[0]\n",
    "\n",
    "    return start\n",
    "\n",
    "print(cup_swapping(['AB','CA','AB']))\n",
    "            "
   ]
  },
  {
   "cell_type": "code",
   "execution_count": null,
   "metadata": {},
   "outputs": [],
   "source": []
  }
 ],
 "metadata": {
  "kernelspec": {
   "display_name": "Python 3",
   "language": "python",
   "name": "python3"
  },
  "language_info": {
   "codemirror_mode": {
    "name": "ipython",
    "version": 3
   },
   "file_extension": ".py",
   "mimetype": "text/x-python",
   "name": "python",
   "nbconvert_exporter": "python",
   "pygments_lexer": "ipython3",
   "version": "3.8.5"
  }
 },
 "nbformat": 4,
 "nbformat_minor": 4
}
