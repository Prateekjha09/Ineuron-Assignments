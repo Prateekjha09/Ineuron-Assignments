{
 "cells": [
  {
   "cell_type": "code",
   "execution_count": 4,
   "metadata": {},
   "outputs": [
    {
     "name": "stdout",
     "output_type": "stream",
     "text": [
      "[[1 2 3]\n",
      " [1 2 3]\n",
      " [1 2 3]]\n",
      "\n",
      " \n",
      "[[5 6 9]\n",
      " [5 7 1]]\n"
     ]
    }
   ],
   "source": [
    "'''1.\n",
    "Create a function that transposes a 2D matrix.\n",
    "Examples\n",
    "transpose_matrix([\n",
    "[1, 1, 1],\n",
    "[2, 2, 2],\n",
    "[3, 3, 3]\n",
    "]) ➞ [\n",
    "[1, 2, 3],\n",
    "[1, 2, 3],\n",
    "[1, 2, 3]\n",
    "]\n",
    "transpose_matrix([\n",
    "[5, 5],\n",
    "[6, 7],\n",
    "[9, 1]\n",
    "]) ➞ [\n",
    "[5, 6, 9],\n",
    "[5, 7, 1]\n",
    "]'''\n",
    "\n",
    "import numpy as np\n",
    "def transpose_matrix(s):\n",
    "    return np.transpose(s)\n",
    "\n",
    "print(transpose_matrix([\n",
    "[1, 1, 1],\n",
    "[2, 2, 2],\n",
    "[3, 3, 3]\n",
    "]))\n",
    "print('\\n ')\n",
    "print(transpose_matrix(([5, 5],\n",
    "[6, 7],\n",
    "[9, 1])))"
   ]
  },
  {
   "cell_type": "code",
   "execution_count": 1,
   "metadata": {},
   "outputs": [
    {
     "name": "stdout",
     "output_type": "stream",
     "text": [
      "75%\n",
      "67%\n",
      "0%\n"
     ]
    }
   ],
   "source": [
    "'''2.\n",
    "Given a list of math equations (given as strings), return the percentage of\n",
    "correct answers as a string. Round to the nearest whole number.\n",
    "Examples\n",
    "mark_maths([&quot;2+2=4&quot;, &quot;3+2=5&quot;, &quot;10-3=3&quot;, &quot;5+5=10&quot;]) ➞ &quot;75%&quot;\n",
    "mark_maths([&quot;1-2=-2&quot;]), &quot;0%&quot;\n",
    "mark_maths([&quot;2+3=5&quot;, &quot;4+4=9&quot;, &quot;3-1=2&quot;]) ➞ &quot;67%&quot;'''\n",
    "import math\n",
    "def mark_maths(s):\n",
    "    fin_per = ''\n",
    "    ct = 0\n",
    "    for i in range(len(s)):\n",
    "        ss = s[i].split(' ')\n",
    "        a = ss[0]\n",
    "        b = ss[2]\n",
    "        mid_res = ss[4]\n",
    "        operator = ss[1]\n",
    "        if operator == '+':\n",
    "            if int(a)+int(b) == int(mid_res):\n",
    "                ct += 1\n",
    "            else:\n",
    "                continue\n",
    "        elif operator == '-':\n",
    "            if int(a)-int(b) == int(mid_res):\n",
    "                ct += 1\n",
    "            else:\n",
    "                continue\n",
    "        elif operator == '*':\n",
    "            if int(a)*int(b) == int(mid_res):\n",
    "                ct+=1\n",
    "            else:\n",
    "                continue\n",
    "        elif operator == '/':\n",
    "            if int(a)//int(b) == int(mid_res):\n",
    "                ct += 1\n",
    "            else:\n",
    "                continue\n",
    "    #print(ct)      \n",
    "    #print(len(s))\n",
    "    per = math.ceil((ct*100)/len(s))\n",
    "    return str(per)+'%'\n",
    "\n",
    "print(mark_maths(['2 + 2 = 4','3 + 2 = 5','10 - 3 = 3 ','5 + 5 = 10']))\n",
    "print(mark_maths(['2 + 3 = 5','4 + 4 = 9','3 - 1 = 2']))\n",
    "print(mark_maths(['1 - 2 = -2']))"
   ]
  },
  {
   "cell_type": "code",
   "execution_count": 48,
   "metadata": {},
   "outputs": [
    {
     "name": "stdout",
     "output_type": "stream",
     "text": [
      "True\n",
      "True\n",
      "False\n"
     ]
    }
   ],
   "source": [
    "'''3.\n",
    "There are two players, Alice and Bob, each with a 3-by-3 grid. A referee\n",
    "tells Alice to fill out one particular row in the grid (say the second row) by\n",
    "putting either a 1 or a 0 in each box, such that the sum of the numbers in that\n",
    "row is odd. The referee tells Bob to fill out one column in the grid (say the first\n",
    "column) by putting either a 1 or a 0 in each box, such that the sum of the\n",
    "numbers in that column is even.\n",
    "Alice and Bob win the game if Alice’s numbers give an odd sum, Bob’s give\n",
    "an even sum, and (most important) they’ve each written down the same\n",
    "number in the one square where their row and column intersect.\n",
    "Examples\n",
    "magic_square_game([2, &quot;001&quot;], [1, &quot;101&quot;]) ➞ True\n",
    "magic_square_game([3, &quot;111&quot;], [2, &quot;011&quot;]) ➞ True\n",
    "magic_square_game([1, &quot;010&quot;], [3, &quot;101&quot;]) ➞ False\n",
    "# Two lists, Alice [row, &quot;her choice&quot;], Bob [column, &quot;his choice&quot;]'''\n",
    "\n",
    "def magic_square_game(l1,l2):\n",
    "    bob_square = [[0,0,0],[0,0,0],[0,0,0]]\n",
    "    alice_square = [[0,0,0],[0,0,0],[0,0,0]]\n",
    "    ind2 = l2[0]-1 #Bob's index = 0\n",
    "    ind1 = l1[0]-1 # Alice index = 1\n",
    "    # assigning values to bob's square from list values passed\n",
    "    l2_list = [int(i) for i in l2[1]]\n",
    "    for i in range(0,len(l2_list)):\n",
    "        bob_square[i][ind2] = l2_list[i]\n",
    "\n",
    "    l1_list = [int(i) for i in l1[1]] \n",
    "    for i in range(len(l1_list)):\n",
    "        alice_square[ind1][i] = l1_list[i]\n",
    "        \n",
    "    alice_square_sum = 0 # Taking Alice square sum row-wise\n",
    "    for i in range(len(l1_list)):\n",
    "        alice_square_sum += alice_square[ind1][i]\n",
    "        \n",
    "    bob_square_sum = 0\n",
    "    for i in range(len(l2_list)):\n",
    "        bob_square_sum += bob_square[i][ind2]\n",
    "        \n",
    "    if (alice_square_sum%2 != 0) and (bob_square_sum%2==0):\n",
    "        for i in range(len(l1_list)):\n",
    "            for j in range(len(l2_list)):\n",
    "                if i ==j and alice_square[ind1][i] == bob_square[j][ind2]:\n",
    "                    return True\n",
    "                else:\n",
    "                    continue\n",
    "        return False \n",
    "    else:\n",
    "        return False \n",
    "              \n",
    "print(magic_square_game([2,'001'],[1,'101']))\n",
    "print(magic_square_game([3,'111'],[2,'011']))\n",
    "print(magic_square_game([1,'010'],[3,'101']))"
   ]
  },
  {
   "cell_type": "code",
   "execution_count": 3,
   "metadata": {},
   "outputs": [
    {
     "name": "stdout",
     "output_type": "stream",
     "text": [
      "2h  30min 0s\n",
      "1h  52min 0s\n"
     ]
    }
   ],
   "source": [
    "'''4. \n",
    "From point A, an object is moving towards point B at constant velocity va\n",
    "(in km/hr). From pint B, another object is moving towards point A at constant\n",
    "velocity vb (in km/hr). Knowing this and the distance between point A and B\n",
    "(in km), write a function that returns how much time passes until both objects\n",
    "meet.\n",
    "Format the output like this:\n",
    "\n",
    "&quot;2h 23min 34s&quot;\n",
    "Examples\n",
    "lets_meet(100, 10, 30) ➞ &quot;2h 30min 0s&quot;\n",
    "lets_meet(280, 70, 80) ➞ &quot;1h 52min 0s&quot;\n",
    "lets_meet(90, 75, 65) ➞ &quot;0h 38min 34s&quot;'''\n",
    "import math\n",
    "def lets_meet(d,s1,s2):\n",
    "    res = d/(s1+s2)\n",
    "    hh = int(str(res).split('.')[0])\n",
    "    mi = 0\n",
    "    if hh > 0:\n",
    "        if type(res) == float:\n",
    "            mi = int(str(res).split('.')[1])*10\n",
    "            #print(mi)\n",
    "            mi = math.ceil((mi/100)*60)\n",
    "       \n",
    "        else:\n",
    "            mi = 0\n",
    "        return str(hh)+'h  '+str(mi)[0:2]+'min 0s'\n",
    "    elif hh < 1:\n",
    "        if type(res) == float:\n",
    "            mi = float(str(res).split('.')[1])*10\n",
    "            mi = math.ceil((mi/100)*60)\n",
    "            print(mi)\n",
    "            sec = float(str(mi).split('.')[1])\n",
    "            return '0h '+str(mi)+'min '+str(sec)+'secs'\n",
    "\n",
    "        \n",
    "        \n",
    "print(lets_meet(100,10,30))\n",
    "print(lets_meet(280,70,80))"
   ]
  },
  {
   "cell_type": "markdown",
   "metadata": {},
   "source": []
  }
 ],
 "metadata": {
  "kernelspec": {
   "display_name": "Python 3",
   "language": "python",
   "name": "python3"
  },
  "language_info": {
   "codemirror_mode": {
    "name": "ipython",
    "version": 3
   },
   "file_extension": ".py",
   "mimetype": "text/x-python",
   "name": "python",
   "nbconvert_exporter": "python",
   "pygments_lexer": "ipython3",
   "version": "3.8.5"
  }
 },
 "nbformat": 4,
 "nbformat_minor": 4
}
