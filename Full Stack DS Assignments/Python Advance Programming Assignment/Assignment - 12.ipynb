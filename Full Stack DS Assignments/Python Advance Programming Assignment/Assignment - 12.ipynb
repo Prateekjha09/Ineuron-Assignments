{
 "cells": [
  {
   "cell_type": "code",
   "execution_count": 4,
   "metadata": {},
   "outputs": [
    {
     "name": "stdout",
     "output_type": "stream",
     "text": [
      "515\n",
      "1103\n",
      "31499\n"
     ]
    }
   ],
   "source": [
    "'''1.\n",
    "For this challenge, forget how to add two numbers together. The best\n",
    "explanation on what to do for this function is this meme:\n",
    "meme_sum(26, 39) ➞ 515\n",
    "# 2+3 = 5, 6+9 = 15\n",
    "# 26 + 39 = 515\n",
    "meme_sum(122, 81) ➞ 1103\n",
    "# 1+0 = 1, 2+8 = 10, 2+1 = 3\n",
    "# 122 + 81 = 1103\n",
    "meme_sum(1222, 30277) ➞ 31499'''\n",
    "\n",
    "def mem_sum(a,b):\n",
    "    res = ''\n",
    "    a = str(a)\n",
    "    b = str(b)\n",
    "    #print(len(a),' ',len(b))\n",
    "    if len(a) == len(b):\n",
    "        for i in range(len(a)):\n",
    "            for j in range(len(b)):\n",
    "                if i == j:\n",
    "                    k = int(a[i])\n",
    "                    l = int(b[j])\n",
    "                    res += str(k+l)\n",
    "                else:\n",
    "                    continue\n",
    "    elif len(a) > len(b):\n",
    "        res += str(a[0])\n",
    "        for i in range(1,len(a)):\n",
    "            for j in range(len(b)):\n",
    "                if i == j+1:\n",
    "                    res += str(int(b[j])+int(a[i]))\n",
    "                    \n",
    "    elif len(a) < len(b):\n",
    "        res += str(b[0])\n",
    "        for i in range(1,len(b)):\n",
    "            for j in range(len(a)):\n",
    "                if i == j+1:\n",
    "                    res += str(int(b[i]) + int(a[j]))\n",
    "    return res\n",
    "\n",
    "print(mem_sum(26,39))\n",
    "print(mem_sum(122,81))\n",
    "print(mem_sum(1222,30277))  ##WIP -- need to complete today"
   ]
  },
  {
   "cell_type": "code",
   "execution_count": 5,
   "metadata": {},
   "outputs": [
    {
     "name": "stdout",
     "output_type": "stream",
     "text": [
      "13\n",
      "29\n"
     ]
    }
   ],
   "source": [
    "'''2.\n",
    "Given an integer, create a function that returns the next prime. If the\n",
    "number is prime, return the number itself.\n",
    "Examples\n",
    "\n",
    "next_prime(12) ➞ 13\n",
    "next_prime(24) ➞ 29\n",
    "# 11 is a prime, so we return the number itself.'''\n",
    "\n",
    "import math\n",
    "\n",
    "def next_Prime(n):\n",
    "    if (n <= 1):\n",
    "        return 2\n",
    "\n",
    "    prime = n\n",
    "    found = False\n",
    "    while(not found):\n",
    "        prime = prime + 1\n",
    "\n",
    "        if(isPrime(prime) == True):\n",
    "            found = True\n",
    "\n",
    "    return prime\n",
    "\n",
    "def isPrime(n):\n",
    "\n",
    "    if(n <= 1):\n",
    "        return False\n",
    "    if(n <= 3):\n",
    "        return True\n",
    "    \n",
    "    if(n % 2 == 0 or n % 3 == 0):\n",
    "        return False\n",
    "    \n",
    "    for i in range(5,int(math.sqrt(n) + 1), 6):\n",
    "        if(n % i == 0 or n % (i + 2) == 0):\n",
    "            return False\n",
    "\n",
    "    return True\n",
    "\n",
    "print(next_Prime(12))\n",
    "print(next_Prime(24))\n",
    "\n"
   ]
  },
  {
   "cell_type": "code",
   "execution_count": 17,
   "metadata": {},
   "outputs": [
    {
     "name": "stdout",
     "output_type": "stream",
     "text": [
      "30\n",
      "15\n",
      "12\n"
     ]
    }
   ],
   "source": [
    "'''3.\n",
    "If a person traveled up a hill for 18mins at 20mph and then traveled back\n",
    "down the same path at 60mph then their average speed traveled was 30mph.\n",
    "Write a function that returns the average speed traveled given an uphill time,\n",
    "uphill rate and a downhill rate. Uphill time is given in minutes. Return the rate\n",
    "as an integer (mph). No rounding is necessary.\n",
    "Examples\n",
    "ave_spd(18, 20, 60) ➞ 30\n",
    "ave_spd(30, 10, 30) ➞ 15\n",
    "ave_spd(30, 8, 24) ➞ 12'''\n",
    "\n",
    "def ave_spd(t1,s1,s2):\n",
    "    tot_dis = t1*s1     # for first round\n",
    "    t2 = tot_dis//s2\n",
    "    tot_dis = 2*tot_dis # total distance covered in the 2 rounds i.e one for uphill and 2nd for downhill\n",
    "    return tot_dis//(t1+t2)\n",
    "\n",
    "print(ave_spd(18,20,60))\n",
    "print(ave_spd(30,10,30))\n",
    "print(ave_spd(30,8,24))"
   ]
  },
  {
   "cell_type": "code",
   "execution_count": 23,
   "metadata": {},
   "outputs": [
    {
     "name": "stdout",
     "output_type": "stream",
     "text": [
      "3\n",
      "5\n",
      "5\n",
      "2\n"
     ]
    }
   ],
   "source": [
    "'''4.\n",
    "The Kempner Function, applied to a composite number, permits to find the\n",
    "smallest integer greater than zero whose factorial is exactly divided by the\n",
    "number.\n",
    "kempner(6) ➞ 3\n",
    "1! = 1 % 6 &gt; 0\n",
    "2! = 2 % 6 &gt; 0\n",
    "3! = 6 % 6 === 0\n",
    "kempner(10) ➞ 5\n",
    "1! = 1 % 10 &gt; 0\n",
    "2! = 2 % 10 &gt; 0\n",
    "3! = 6 % 10 &gt; 0\n",
    "4! = 24 % 10 &gt; 0\n",
    "5! = 120 % 10 === 0\n",
    "A Kempner Function applied to a prime will always return the prime itself.\n",
    "kempner(2) ➞ 2\n",
    "kempner(5) ➞ 5\n",
    "\n",
    "Given an integer n, implement a Kempner Function.\n",
    "Examples\n",
    "kempner(6) ➞ 3\n",
    "kempner(10) ➞ 5\n",
    "kempner(2) ➞ 2'''\n",
    "\n",
    "def kempner(n):\n",
    "    fact = 1\n",
    "    i = 1\n",
    "    val = fact*i\n",
    "    while val % n != 0:\n",
    "        i += 1\n",
    "        val = val * i\n",
    "    return i\n",
    "\n",
    "print(kempner(6))\n",
    "print(kempner(5))\n",
    "print(kempner(10))\n",
    "print(kempner(2))"
   ]
  },
  {
   "cell_type": "code",
   "execution_count": 10,
   "metadata": {},
   "outputs": [
    {
     "name": "stdout",
     "output_type": "stream",
     "text": [
      "5\n",
      "10\n",
      "7\n",
      "8\n",
      "9\n",
      "5\n"
     ]
    }
   ],
   "source": [
    "'''5.\n",
    "You work in a factory, and your job is to take items from a conveyor belt\n",
    "and pack them into boxes. Each box can hold a maximum of 10 kgs. Given a\n",
    "list containing the weight (in kg) of each item, how many boxes would you\n",
    "need to pack all of the items?\n",
    "Example\n",
    "boxes([2, 1, 2, 5, 4, 3, 6, 1, 1, 9, 3, 2]) ➞ 5\n",
    "# Box 1 = [2, 1, 2, 5] (10kg)\n",
    "# Box 2 = [4, 3] (7kg)\n",
    "# Box 3 = [6, 1, 1] (8kg)\n",
    "# Box 4 = [9] (9kg)\n",
    "# Box 5 = [3, 2] (5kg)'''\n",
    "\n",
    "def boxes(s):\n",
    "    if len(s) == 1 and s[0] <= 10:\n",
    "        return s[0]\n",
    "    elif len(s) >1:\n",
    "        if sum(s) <= 10:\n",
    "            return sum(s)\n",
    "        else:\n",
    "            sol = 0\n",
    "            box_wt = 0 \n",
    "            for i in range(len(s)):\n",
    "                if box_wt <=10:\n",
    "                    box_wt += s[i]\n",
    "                    if box_wt >10:\n",
    "                        box_wt = 0\n",
    "                        i -= 1\n",
    "                        sol += 1\n",
    "                    \n",
    "    return sol+2\n",
    "\n",
    "print(boxes([2, 1, 2, 5, 4, 3, 6, 1, 1, 9, 3, 2]))\n",
    "print(boxes([2, 1, 2, 5])) \n",
    "print(boxes([4, 3]))\n",
    "print(boxes([6, 1, 1]))\n",
    "print(boxes([9]))\n",
    "print(boxes([3,2])) ## WIP -- need to complete today"
   ]
  },
  {
   "cell_type": "code",
   "execution_count": null,
   "metadata": {},
   "outputs": [],
   "source": []
  },
  {
   "cell_type": "code",
   "execution_count": null,
   "metadata": {},
   "outputs": [],
   "source": []
  }
 ],
 "metadata": {
  "kernelspec": {
   "display_name": "Python 3",
   "language": "python",
   "name": "python3"
  },
  "language_info": {
   "codemirror_mode": {
    "name": "ipython",
    "version": 3
   },
   "file_extension": ".py",
   "mimetype": "text/x-python",
   "name": "python",
   "nbconvert_exporter": "python",
   "pygments_lexer": "ipython3",
   "version": "3.8.5"
  }
 },
 "nbformat": 4,
 "nbformat_minor": 4
}
