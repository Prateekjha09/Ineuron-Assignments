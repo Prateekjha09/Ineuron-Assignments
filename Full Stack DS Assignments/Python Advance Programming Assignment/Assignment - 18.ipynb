{
 "cells": [
  {
   "cell_type": "code",
   "execution_count": 77,
   "id": "991a6afe",
   "metadata": {},
   "outputs": [
    {
     "name": "stdout",
     "output_type": "stream",
     "text": [
      "The robot does not move\n",
      "[200, 10500]\n"
     ]
    }
   ],
   "source": [
    "'''1.\n",
    "A robot has been given a list of movement instructions. Each instruction is\n",
    "either left, right, up or down, followed by a distance to move. The robot starts\n",
    "at [0, 0]. You want to calculate where the robot will end up and return its final\n",
    "position as a list.\n",
    "Examples\n",
    "track_robot([]) ➞ [0, 0]\n",
    "// If there are no instructions, the robot doesn&#39;t move.\n",
    "track_robot([&quot;right 100&quot;, &quot;right 100&quot;, &quot;up 500&quot;, &quot;up 10000&quot;]) ➞ [200, 10500]'''\n",
    "\n",
    "def track_robot(inst):\n",
    "    su_x = 0\n",
    "    su_y = 0\n",
    "    if inst[0] == 0 and inst[1] == 0:\n",
    "        return \"The robot does not move\"\n",
    "    else:\n",
    "        for i in range(len(inst)):\n",
    "            curr_splt_ele = [ele for ele in inst[i].split(' ')]\n",
    "            if curr_splt_ele[0] == 'right' or curr_splt_ele[0] == 'left':\n",
    "                su_x += int(curr_splt_ele[1])\n",
    "            elif curr_splt_ele[0] == 'up' or curr_splt_ele[0] == 'down':\n",
    "                su_y += int(curr_splt_ele[1])\n",
    "                \n",
    "    return [su_x,su_y]\n",
    "\n",
    "print(track_robot([0,0]))\n",
    "print(track_robot(['right 100','right 100','up 500','up 10000']))"
   ]
  },
  {
   "cell_type": "code",
   "execution_count": 54,
   "id": "386731bc",
   "metadata": {},
   "outputs": [
    {
     "name": "stdout",
     "output_type": "stream",
     "text": [
      "qualified\n",
      "qualified\n",
      "disqualified\n",
      "disqualified\n",
      "disqualified\n"
     ]
    }
   ],
   "source": [
    "'''2.\n",
    "Create a function to check if a candidate is qualified in an imaginary coding\n",
    "interview of an imaginary tech startup.\n",
    "The criteria for a candidate to be qualified in the coding interview is:\n",
    "1. The candidate should have complete all the questions.\n",
    "2. The maximum time given to complete the interview is 120 minutes.\n",
    "3. The maximum time given for very easy questions is 5 minutes each.\n",
    "4. The maximum time given for easy questions is 10 minutes each.\n",
    "5. The maximum time given for medium questions is 15 minutes each.\n",
    "6. The maximum time given for hard questions is 20 minutes each.\n",
    "\n",
    "If all the above conditions are satisfied, return &quot;qualified&quot;, else return\n",
    "&quot;disqualified&quot;.\n",
    "You will be given a list of time taken by a candidate to solve a particular\n",
    "question and the total time taken by the candidate to complete the interview.\n",
    "Given a list , in a true condition will always be in the format [very easy, very\n",
    "easy, easy, easy, medium, medium, hard, hard].\n",
    "The maximum time to complete the interview includes a buffer time of 20\n",
    "minutes.\n",
    "Examples\n",
    "interview([5, 5, 10, 10, 15, 15, 20, 20], 120) ➞ &quot;qualified&quot;\n",
    "interview([2, 3, 8, 6, 5, 12, 10, 18], 64) ➞ &quot;qualified&quot;\n",
    "interview([5, 5, 10, 10, 25, 15, 20, 20], 120) ➞ &quot;disqualified&quot;\n",
    "# Exceeded the time limit for a medium question.\n",
    "interview([5, 5, 10, 10, 15, 15, 20], 120) ➞ &quot;disqualified&quot;\n",
    "# Did not complete all the questions.\n",
    "interview([5, 5, 10, 10, 15, 15, 20, 20], 130) ➞ &quot;disqualified&quot;\n",
    "# Solved all the questions in their respected time limits but exceeded the total\n",
    "time limit of the interview.\n",
    "'''\n",
    "\n",
    "def interview(l,mins):\n",
    "    if len(l) == 8:\n",
    "        if mins <= 120:\n",
    "            if l[0] <= 5 and l[1] <= 5 and l[2] <=10 and l[3] <= 10 and l[4] <= 15 and l[5] <= 15 and l[6] <= 20 and l[7] <= 20:\n",
    "                return 'qualified'\n",
    "            else:\n",
    "                return 'disqualified'\n",
    "        else:\n",
    "            return 'disqualified'\n",
    "    else:\n",
    "        return 'disqualified'\n",
    "    \n",
    "print(interview([5, 5, 10, 10, 15, 15, 20, 20], 120))\n",
    "print(interview([2, 3, 8, 6, 5, 12, 10, 18], 64))\n",
    "print(interview([5, 5, 10, 10, 25, 15, 20, 20], 120))\n",
    "print(interview([5, 5, 10, 10, 15, 15, 20], 120))\n",
    "print(interview([5, 5, 10, 10, 15, 15, 20, 20], 130))"
   ]
  },
  {
   "cell_type": "code",
   "execution_count": 58,
   "id": "500a65cc",
   "metadata": {},
   "outputs": [
    {
     "name": "stdout",
     "output_type": "stream",
     "text": [
      "[[2, 3], [4, 5]]\n",
      "[[2, 3], [4, 5], [6]]\n",
      "[[2, 3, 4], [5, 6, 7]]\n",
      "[[2], [3], [4], [5], [6], [7]]\n",
      "[[2, 3, 4, 5, 6, 7]]\n"
     ]
    }
   ],
   "source": [
    "'''3.\n",
    "Write a function that divides a list into chunks of size n, where n is the\n",
    "length of each chunk.\n",
    "Examples\n",
    "chunkify([2, 3, 4, 5], 2) ➞ [[2, 3], [4, 5]]\n",
    "chunkify([2, 3, 4, 5, 6], 2) ➞ [[2, 3], [4, 5], [6]]\n",
    "chunkify([2, 3, 4, 5, 6, 7], 3) ➞ [[2, 3, 4], [5, 6, 7]]\n",
    "chunkify([2, 3, 4, 5, 6, 7], 1) ➞ [[2], [3], [4], [5], [6], [7]]\n",
    "chunkify([2, 3, 4, 5, 6, 7], 7) ➞ [[2, 3, 4, 5, 6, 7]]\n",
    "'''\n",
    "\n",
    "def chunkify(l,len_per_chunk):\n",
    "    return [l[i:i+len_per_chunk] for i in range(0,len(l),len_per_chunk)]\n",
    "\n",
    "print(chunkify([2,3,4,5],2))\n",
    "print(chunkify([2, 3, 4, 5, 6], 2))            \n",
    "print(chunkify([2, 3, 4, 5, 6, 7], 3))\n",
    "print(chunkify([2, 3, 4, 5, 6, 7], 1) )\n",
    "print(chunkify([2, 3, 4, 5, 6, 7], 7)   )  \n",
    "\n"
   ]
  },
  {
   "cell_type": "code",
   "execution_count": 75,
   "id": "3b194b59",
   "metadata": {},
   "outputs": [
    {
     "name": "stdout",
     "output_type": "stream",
     "text": [
      "['4.99']\n",
      "['1.99', '5.99', '0.75']\n",
      "['5.99', '0.20', '8.50', '1.99']\n"
     ]
    }
   ],
   "source": [
    "'''5.\n",
    "You are given a list of strings consisting of grocery items, with prices in\n",
    "parentheses. Return a list of prices in float format.\n",
    "\n",
    "Examples\n",
    "get_prices([&quot;salad ($4.99)&quot;]) ➞ [4.99]\n",
    "get_prices([\n",
    "&quot;artichokes ($1.99)&quot;,\n",
    "&quot;rotiserrie chicken ($5.99)&quot;,\n",
    "&quot;gum ($0.75)&quot;\n",
    "])\n",
    "➞ [1.99, 5.99, 0.75]\n",
    "get_prices([\n",
    "&quot;ice cream ($5.99)&quot;,\n",
    "&quot;banana ($0.20)&quot;,\n",
    "&quot;sandwich ($8.50)&quot;,\n",
    "&quot;soup ($1.99)&quot;\n",
    "])\n",
    "➞ [5.99, 0.2, 8.50, 1.99]'''\n",
    "\n",
    "\n",
    "def get_prices(ls):\n",
    "    l = []\n",
    "    for i in range(len(ls)):\n",
    "        l.append(ls[i].split('(')[1][1:-1])\n",
    "        \n",
    "    return l\n",
    "\n",
    "print(get_prices(['salad ($4.99)']))\n",
    "print(get_prices(['artichokes ($1.99)','rotiserrie chicken ($5.99)','gum ($0.75)']))\n",
    "print(get_prices(['ice cream ($5.99)','banana ($0.20)','sandwich ($8.50)','soup ($1.99)']))"
   ]
  },
  {
   "cell_type": "code",
   "execution_count": null,
   "id": "d1f59f42",
   "metadata": {},
   "outputs": [],
   "source": []
  }
 ],
 "metadata": {
  "kernelspec": {
   "display_name": "Python 3",
   "language": "python",
   "name": "python3"
  },
  "language_info": {
   "codemirror_mode": {
    "name": "ipython",
    "version": 3
   },
   "file_extension": ".py",
   "mimetype": "text/x-python",
   "name": "python",
   "nbconvert_exporter": "python",
   "pygments_lexer": "ipython3",
   "version": "3.8.5"
  }
 },
 "nbformat": 4,
 "nbformat_minor": 5
}
