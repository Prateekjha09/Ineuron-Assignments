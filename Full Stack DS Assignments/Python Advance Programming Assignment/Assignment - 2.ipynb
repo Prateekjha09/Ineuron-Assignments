{
 "cells": [
  {
   "cell_type": "code",
   "execution_count": 26,
   "metadata": {},
   "outputs": [
    {
     "name": "stdout",
     "output_type": "stream",
     "text": [
      "1\n",
      "6\n",
      "16\n",
      "141\n"
     ]
    }
   ],
   "source": [
    "'''1.\n",
    "Write a function that takes a positive integer num and calculates how many\n",
    "dots exist in a pentagonal shape around the center dot on the Nth iteration.\n",
    "\n",
    "Return the number of dots that exist in the whole pentagon on the Nth\n",
    "iteration.\n",
    "Examples\n",
    "pentagonal(1) ➞ 1\n",
    "pentagonal(2) ➞ 6\n",
    "pentagonal(3) ➞ 16\n",
    "pentagonal(8) ➞ 141'''\n",
    "\n",
    "def pentagonal(n):\n",
    "    return (5 * n * n - 5 * n + 2) //2\n",
    "\n",
    "print(pentagonal(1))\n",
    "print(pentagonal(2))\n",
    "print(pentagonal(3))\n",
    "print(pentagonal(8))"
   ]
  },
  {
   "cell_type": "code",
   "execution_count": 6,
   "metadata": {},
   "outputs": [
    {
     "name": "stdout",
     "output_type": "stream",
     "text": [
      "1lpp0aca\n",
      "0n0n0baca\n",
      "0c0r0kaca\n",
      "k0r3baca\n",
      "1c0pl0aca\n"
     ]
    }
   ],
   "source": [
    "'''2.\n",
    "Make a function that encrypts a given input with these steps:\n",
    "Input: &quot;apple&quot;\n",
    "Step 1: Reverse the input: &quot;elppa&quot;\n",
    "Step 2: Replace all vowels using the following chart:\n",
    "a =&gt; 0\n",
    "e =&gt; 1\n",
    "i =&gt; 2\n",
    "o =&gt; 2\n",
    "u =&gt; 3\n",
    "# &quot;1lpp0&quot;\n",
    "\n",
    "Step 3: Add &quot;aca&quot; to the end of the word: &quot;1lpp0aca&quot;\n",
    "Output: &quot;1lpp0aca&quot;\n",
    "Examples\n",
    "encrypt(&quot;banana&quot;) ➞ &quot;0n0n0baca&quot;\n",
    "encrypt(&quot;karaca&quot;) ➞ &quot;0c0r0kaca&quot;\n",
    "encrypt(&quot;burak&quot;) ➞ &quot;k0r3baca&quot;\n",
    "encrypt(&quot;alpaca&quot;) ➞ &quot;0c0pl0aca&quot;'''\n",
    "\n",
    "def encrypt(s):\n",
    "    n = []\n",
    "    s=s[::-1]\n",
    "    for i in s:\n",
    "        if i == 'a':\n",
    "            s=s.replace(i,'0')\n",
    "        elif i == 'e':\n",
    "            s=s.replace(i,'1')\n",
    "        elif i == 'i':\n",
    "            s=s.replace(i,'2')\n",
    "        elif i =='o':\n",
    "            s=s.replace(i,'2')\n",
    "        elif i == 'u':\n",
    "            s=s.replace(i,'3')\n",
    "            \n",
    "    return s+'aca'\n",
    "\n",
    "print(encrypt('apple'))\n",
    "print(encrypt('banana'))\n",
    "print(encrypt('karaca'))\n",
    "print(encrypt('burak'))\n",
    "print(encrypt('alpace'))"
   ]
  },
  {
   "cell_type": "code",
   "execution_count": 16,
   "metadata": {},
   "outputs": [
    {
     "name": "stdout",
     "output_type": "stream",
     "text": [
      "True\n",
      "True\n",
      "False\n"
     ]
    }
   ],
   "source": [
    "'''3.\n",
    "Given the month and year as numbers, return whether that month contains\n",
    "a Friday 13th.(i.e You can check Python&#39;s datetime module)\n",
    "Examples\n",
    "has_friday_13(3, 2020) ➞ True\n",
    "has_friday_13(10, 2017) ➞ True\n",
    "has_friday_13(1, 1985) ➞ False'''\n",
    "\n",
    "import datetime\n",
    "\n",
    "def has_friday_13(mon,yr):\n",
    "    check = '13'+' '+str(mon)+' '+str(yr)\n",
    "    if datetime.datetime.strptime(check, '%d %m %Y').weekday() == 4:\n",
    "        return True\n",
    "    else:\n",
    "        return False\n",
    "    \n",
    "print(has_friday_13(3,2020))\n",
    "print(has_friday_13(10,2017))\n",
    "print(has_friday_13(1,1985))"
   ]
  },
  {
   "cell_type": "code",
   "execution_count": 17,
   "metadata": {},
   "outputs": [
    {
     "name": "stdout",
     "output_type": "stream",
     "text": [
      "2\n"
     ]
    }
   ],
   "source": [
    "'''4.\n",
    "Write a regular expression that will help us count how many bad cookies\n",
    "are produced every day. You must use RegEx negative lookbehind.\n",
    "Example\n",
    "lst = [&quot;bad cookie&quot;, &quot;good cookie&quot;, &quot;bad cookie&quot;, &quot;good cookie&quot;, \n",
    "&quot;good cookie&quot;]\n",
    "pattern = &quot;yourregularexpressionhere&quot;\n",
    "len(re.findall(pattern, &quot;, &quot;.join(lst))) ➞ 2'''\n",
    "import re\n",
    "lst = ['bad cookie','good cookie','bad cookie','good cookie','good cookie']\n",
    "\n",
    "pattern = '(?<![a-z])bad cookie'\n",
    "\n",
    "print(len(re.findall(pattern,','.join(lst))))"
   ]
  },
  {
   "cell_type": "code",
   "execution_count": 23,
   "metadata": {},
   "outputs": [
    {
     "name": "stdout",
     "output_type": "stream",
     "text": [
      "['cows', 'pig']\n",
      "['tables']\n",
      "['arm', 'chair', 'pencil']\n"
     ]
    }
   ],
   "source": [
    "'''5.\n",
    "Given a list of words in the singular form, return a set of those words in the\n",
    "plural form if they appear more than once in the list.\n",
    "Examples\n",
    "pluralize([&quot;cow&quot;, &quot;pig&quot;, &quot;cow&quot;, &quot;cow&quot;]) ➞ \n",
    "{ &quot;cows&quot;, &quot;pig&quot; }\n",
    "\n",
    "pluralize([&quot;table&quot;, &quot;table&quot;, &quot;table&quot;]) ➞ \n",
    "{ &quot;tables&quot; }\n",
    "\n",
    "pluralize([&quot;chair&quot;, &quot;pencil&quot;, &quot;arm&quot;]) ➞ \n",
    "{ &quot;chair&quot;, &quot;pencil&quot;, &quot;arm&quot; }'''\n",
    "\n",
    "def pluralize(ls):\n",
    "    ds = {}\n",
    "    for i in ls:\n",
    "        if i in ds:\n",
    "            ds[i]+=1\n",
    "        elif i not in ds:\n",
    "            ds[i] =1\n",
    "    new_ls = []        \n",
    "    for i in ds.keys():\n",
    "        if ds[i]>1:\n",
    "            new_ls.append(i+'s')\n",
    "        else:\n",
    "            new_ls.append(i)\n",
    "            \n",
    "    return sorted(set(new_ls))\n",
    "\n",
    "print(pluralize(['cow','pig','cow','cow']))\n",
    "print(pluralize(['table','table','table']))\n",
    "print(pluralize(['chair','pencil','arm']))"
   ]
  },
  {
   "cell_type": "code",
   "execution_count": null,
   "metadata": {},
   "outputs": [],
   "source": []
  }
 ],
 "metadata": {
  "kernelspec": {
   "display_name": "Python 3",
   "language": "python",
   "name": "python3"
  },
  "language_info": {
   "codemirror_mode": {
    "name": "ipython",
    "version": 3
   },
   "file_extension": ".py",
   "mimetype": "text/x-python",
   "name": "python",
   "nbconvert_exporter": "python",
   "pygments_lexer": "ipython3",
   "version": "3.8.5"
  }
 },
 "nbformat": 4,
 "nbformat_minor": 4
}
