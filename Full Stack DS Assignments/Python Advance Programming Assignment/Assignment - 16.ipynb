{
 "cells": [
  {
   "cell_type": "code",
   "execution_count": 80,
   "metadata": {},
   "outputs": [
    {
     "name": "stdout",
     "output_type": "stream",
     "text": [
      "False\n",
      "False\n",
      "True\n",
      "True\n"
     ]
    }
   ],
   "source": [
    "'''1.\n",
    "Rondo Form is a type of musical structure, in which there is a recurring\n",
    "theme/refrain, notated as A. Here are the rules for valid rondo forms:\n",
    "- Rondo forms always start and end with an A section.\n",
    "- In between the A sections, there should be contrasting sections notated as\n",
    "B, then C, then D, etc... No letter should be skipped.\n",
    "- There shouldn&#39;t be any repeats in the sequence (such as ABBACCA).\n",
    "Create a function which validates whether a given string is a valid Rondo\n",
    "Form.\n",
    "Examples\n",
    "valid_rondo(&quot;ABACADAEAFAGAHAIAJA&quot;) ➞ True\n",
    "valid_rondo(&quot;ABA&quot;) ➞ True\n",
    "valid_rondo(&quot;ABBACCA&quot;) ➞ False\n",
    "valid_rondo(&quot;ACAC&quot;) ➞ False\n",
    "valid_rondo(&quot;A&quot;) ➞ False'''\n",
    "\n",
    "\n",
    "import math\n",
    "def valid_rondo(s):\n",
    "    if len(s) ==1  or len(s) ==0:\n",
    "        return False\n",
    "    elif len(s) >1:\n",
    "        if s[0] == 'A' and s[-1] != 'A':\n",
    "            return False\n",
    "        elif s[0] == 'A' and s[-1] == 'A':\n",
    "            if len(s[1:len(s)-1]) == 1:\n",
    "                return True\n",
    "            elif s[1] != 'A' and s[-2] != 'A':\n",
    "                ct = 0\n",
    "                for i in range(1,len(s)-1,2):\n",
    "                    if s[i ] != s[i+1]:\n",
    "                        ct += 1\n",
    "                        if i == len(s)-1:\n",
    "                            break\n",
    "                        else:\n",
    "                            continue\n",
    "                if ct == math.floor(len(s)/2):\n",
    "                    return True\n",
    "            else:\n",
    "                for i in range(1,len(s)-1):\n",
    "                    if s[i] == s[i+1]:\n",
    "                        return False\n",
    "            \n",
    "                    \n",
    "print(valid_rondo('A'))\n",
    "print(valid_rondo('ACAC'))\n",
    "print(valid_rondo('ABA'))\n",
    "print(valid_rondo('ABACADAEAFAGAHAIAJA'))"
   ]
  },
  {
   "cell_type": "code",
   "execution_count": 25,
   "metadata": {},
   "outputs": [
    {
     "name": "stdout",
     "output_type": "stream",
     "text": [
      "i have a cat\n",
      "i have a mat\n",
      "things are going well\n",
      "None\n"
     ]
    }
   ],
   "source": [
    "'''2.\n",
    "Create a function that returns the whole of the first sentence which\n",
    "contains a specific word. Include the full stop at the end of the sentence.\n",
    "Examples\n",
    "txt = &quot;I have a cat. I have a mat. Things are going swell.&quot;\n",
    "sentence_searcher(txt, &quot;have&quot;) ➞ &quot;I have a cat.&quot;\n",
    "sentence_searcher(txt, &quot;MAT&quot;) ➞ &quot;I have a mat.&quot;\n",
    "sentence_searcher(txt, &quot;things&quot;) ➞ &quot;Things are going swell.&quot;\n",
    "sentence_searcher(txt, &quot;flat&quot;) ➞ &quot;&quot;'''\n",
    "\n",
    "\n",
    "def sentence_searcher(txt,w):\n",
    "    l = txt.lower().split('.')\n",
    "    #print(l)\n",
    "    for i in l:\n",
    "        if w.lower() in i:\n",
    "            return i\n",
    "        else: \n",
    "            continue\n",
    "        \n",
    "txt = 'I have a cat.I have a mat.Things are going well.'        \n",
    "print(sentence_searcher(txt,'have'))\n",
    "print(sentence_searcher(txt,'MAT'))\n",
    "print(sentence_searcher(txt,'things'))\n",
    "print(sentence_searcher(txt,'flat'))"
   ]
  },
  {
   "cell_type": "code",
   "execution_count": 67,
   "metadata": {},
   "outputs": [
    {
     "name": "stdout",
     "output_type": "stream",
     "text": [
      "[1, 100]\n",
      "[4, 30, 200, 1000]\n",
      "[10, 200, 4000, 50000]\n"
     ]
    }
   ],
   "source": [
    "'''3.\n",
    "Given a number, find the &quot;round &quot;of each digit of the number. An integer is\n",
    "called &quot;round&quot; if all its digits except the leftmost (most significant) are equal to\n",
    "zero.\n",
    "- Round numbers: 4000, 1, 9, 800, 90\n",
    "- Not round numbers: 110, 707, 222, 1001\n",
    "\n",
    "Create a function that takes a number and returns the &quot;round&quot; of each digit\n",
    "(except if the digit is zero) as a string. Check out the following examples for\n",
    "more clarification.\n",
    "Examples\n",
    "sum_round(101) ➞ &quot;1 100&quot;\n",
    "sum_round(1234) ➞ &quot;4 30 200 1000&quot;\n",
    "sum_round(54210) ➞ &quot;10 200 4000 50000&quot;'''\n",
    "\n",
    "def sum_round(n):\n",
    "    s = ''\n",
    "    l = []\n",
    "    if len(str(n)) > 1:\n",
    "        n = str(n)\n",
    "        for i in range(len(n)):\n",
    "            if n[i] == '0':\n",
    "                continue\n",
    "            else:\n",
    "                l.append(str(n[i]) + ('0'*(len(n)-i-1)))\n",
    "                \n",
    "    l_new = [int(i) for i in l]\n",
    "    return l_new[::-1]\n",
    "    \n",
    "        \n",
    "                         \n",
    "print(sum_round(101)) ## WIP\n",
    "print(sum_round(1234))\n",
    "print(sum_round(54210))"
   ]
  },
  {
   "cell_type": "code",
   "execution_count": 65,
   "metadata": {},
   "outputs": [
    {
     "name": "stdout",
     "output_type": "stream",
     "text": [
      "[[1, 2, 3], [2, 4, 6], [3, 6, 9]]\n",
      "[[1, 2, 3, 4, 5], [2, 4, 6, 8, 10], [3, 6, 9, 12, 15], [4, 8, 12, 16, 20], [5, 10, 15, 20, 25]]\n",
      "[[1]]\n"
     ]
    }
   ],
   "source": [
    "'''4.\n",
    "Your task, is to create N x N multiplication table, of size n provided in\n",
    "parameter.\n",
    "For example, when n is 5, the multiplication table is:\n",
    "- 1, 2, 3, 4, 5\n",
    "- 2, 4, 6, 8, 10\n",
    "- 3, 6, 9, 12, 15\n",
    "- 4, 8, 12, 16, 20\n",
    "- 5, 10, 15, 20, 25\n",
    "This example will result in:\n",
    "[[1, 2, 3, 4, 5], [2, 4, 6, 8, 10], [3, 6, 9, 12, 15], [4, 8, 12, 16, 20], [5, 10, 15, 20,\n",
    "25]]\n",
    "Examples\n",
    "multiplication_table(1) ➞ [[1]]\n",
    "multiplication_table(3) ➞ [[1, 2, 3], [2, 4, 6], [3, 6, 9]]'''\n",
    "\n",
    "def multiplication_table(n):\n",
    "    if n == 1:\n",
    "        return [[1]]\n",
    "    if n >1:\n",
    "        fin = []\n",
    "        for i in range(1,n+1):\n",
    "            l = []\n",
    "            for j in range(1,n+1):\n",
    "                l.append(i*j)\n",
    "            fin.append(l)\n",
    "            \n",
    "    return fin\n",
    "    \n",
    "print(multiplication_table(3))\n",
    "print(multiplication_table(5))\n",
    "print(multiplication_table(1))"
   ]
  },
  {
   "cell_type": "code",
   "execution_count": 49,
   "metadata": {},
   "outputs": [
    {
     "name": "stdout",
     "output_type": "stream",
     "text": [
      "True\n",
      "True\n",
      "False\n",
      "False\n"
     ]
    }
   ],
   "source": [
    "'''5.\n",
    "Create a function that returns True if two lines rhyme and False otherwise.\n",
    "For the purposes of this exercise, two lines rhyme if the last word from each\n",
    "sentence contains the same vowels.\n",
    "Examples\n",
    "does_rhyme(&quot;Sam I am!&quot;, &quot;Green eggs and ham.&quot;) ➞ True\n",
    "does_rhyme(&quot;Sam I am!&quot;, &quot;Green eggs and HAM.&quot;) ➞ True\n",
    "# Capitalization and punctuation should not matter.\n",
    "\n",
    "does_rhyme(&quot;You are off to the races&quot;, &quot;a splendid day.&quot;) ➞ False\n",
    "does_rhyme(&quot;and frequently do?&quot;, &quot;you gotta move.&quot;) ➞ False'''\n",
    "\n",
    "def does_rhyme(s1,s2):\n",
    "    s1 = s1.lower()\n",
    "    s2 = s2.lower()\n",
    "    if s1[-3:-2] == s2[-3:-2]:\n",
    "        return True\n",
    "    elif s1[-3:-2] != s2[-3:-2]:\n",
    "        return False\n",
    "    \n",
    "print(does_rhyme('Sam I am!','Green eggs and ham.'))\n",
    "print(does_rhyme('Sam I am!','Green eggs and HAM.'))\n",
    "print(does_rhyme('You are off to the races','a splendid day.'))\n",
    "print(does_rhyme('and frequently do?','you gotta move.'))"
   ]
  },
  {
   "cell_type": "code",
   "execution_count": null,
   "metadata": {},
   "outputs": [],
   "source": []
  }
 ],
 "metadata": {
  "kernelspec": {
   "display_name": "Python 3",
   "language": "python",
   "name": "python3"
  },
  "language_info": {
   "codemirror_mode": {
    "name": "ipython",
    "version": 3
   },
   "file_extension": ".py",
   "mimetype": "text/x-python",
   "name": "python",
   "nbconvert_exporter": "python",
   "pygments_lexer": "ipython3",
   "version": "3.8.5"
  }
 },
 "nbformat": 4,
 "nbformat_minor": 4
}
