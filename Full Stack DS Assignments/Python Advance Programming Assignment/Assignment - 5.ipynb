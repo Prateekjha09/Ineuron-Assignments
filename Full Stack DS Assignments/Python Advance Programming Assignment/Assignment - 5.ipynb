{
 "cells": [
  {
   "cell_type": "code",
   "execution_count": 29,
   "metadata": {},
   "outputs": [
    {
     "name": "stdout",
     "output_type": "stream",
     "text": [
      "8\n",
      "2\n",
      "8\n"
     ]
    }
   ],
   "source": [
    "'''1.\n",
    "Create a function that takes a number n (integer greater than zero) as an\n",
    "argument, and returns 2 if n is odd and 8 if n is even.\n",
    "You can only use the following arithmetic operators: addition of numbers +,\n",
    "subtraction of numbers -, multiplication of number *, division of number /, and\n",
    "exponentiation **.\n",
    "You are not allowed to use any other methods in this challenge (i.e. no if\n",
    "statements, comparison operators, etc).\n",
    "Examples\n",
    "f(1) ➞ 2\n",
    "f(2) ➞ 8\n",
    "f(3) ➞ 2'''\n",
    "\n",
    "\n",
    "def f(n):\n",
    "    return 2 if n&1 == 0 else 8  # sorry, this is the best and optimized I could come up with \n",
    "\n",
    "print(f(1))\n",
    "print(f(2))\n",
    "print(f(3))"
   ]
  },
  {
   "cell_type": "code",
   "execution_count": 7,
   "metadata": {},
   "outputs": [
    {
     "name": "stdout",
     "output_type": "stream",
     "text": [
      "A\n",
      "A\n",
      "None\n"
     ]
    }
   ],
   "source": [
    "'''2. \n",
    "Create a function that returns the majority vote in a list. A majority vote is\n",
    "an element that occurs &gt; N/2 times in a list (where N is the length of the list).\n",
    "Examples\n",
    "majority_vote([&quot;A&quot;, &quot;A&quot;, &quot;B&quot;]) ➞ &quot;A&quot;\n",
    "majority_vote([&quot;A&quot;, &quot;A&quot;, &quot;A&quot;, &quot;B&quot;, &quot;C&quot;, &quot;A&quot;]) ➞ &quot;A&quot;\n",
    "majority_vote([&quot;A&quot;, &quot;B&quot;, &quot;B&quot;, &quot;A&quot;, &quot;C&quot;, &quot;C&quot;]) ➞ None'''\n",
    "\n",
    "def majority_vote(s):\n",
    "    ds = {}\n",
    "    ct = 0\n",
    "    for i in s:\n",
    "        if i in ds.keys():\n",
    "            ds[i] +=1\n",
    "        elif i not in ds.keys():\n",
    "            ds[i] = 1\n",
    "            \n",
    "    for key,value in ds.items():\n",
    "        if value > len(s)/2:\n",
    "            return key\n",
    "        else:\n",
    "            continue\n",
    "            \n",
    "print(majority_vote(['A','A','B']))\n",
    "print(majority_vote(['A','A','A','B','C','A']))\n",
    "print(majority_vote(['A','B','B','A','C','C']))"
   ]
  },
  {
   "cell_type": "code",
   "execution_count": 30,
   "metadata": {},
   "outputs": [
    {
     "name": "stdout",
     "output_type": "stream",
     "text": [
      " ----- is - Wednesday! \n",
      " The *** jumped **** the moon \n",
      " Why *** the ******* cross the road ? \n"
     ]
    }
   ],
   "source": [
    "'''3.\n",
    "Create a function that takes a string txt and censors any word from a given\n",
    "list lst. The text removed must be replaced by the given character char.\n",
    "Examples\n",
    "censor_string(&quot;Today is a Wednesday!&quot;, [&quot;Today&quot;, &quot;a&quot;], &quot;-&quot;) ➞ &quot;----- is -\n",
    "Wednesday!&quot;\n",
    "censor_string(&quot;The cow jumped over the moon.&quot;, [&quot;cow&quot;, &quot;over&quot;], &quot;*&quot;), &quot;The ***\n",
    "jumped **** the moon.&quot;)\n",
    "censor_string(&quot;Why did the chicken cross the road?&quot;, [&quot;Did&quot;, &quot;chicken&quot;,\n",
    "&quot;road&quot;], &quot;*&quot;) ➞ &quot;Why *** the ******* cross the ****?&quot;'''\n",
    "\n",
    "def censor_string(s,match,ch):\n",
    "    new_string = ' '\n",
    "    for i in s.split(' '):\n",
    "        if i in match:\n",
    "            new_string += ch*len(i)+' '\n",
    "        else:\n",
    "            new_string += i+' '\n",
    "        \n",
    "    return new_string\n",
    "\n",
    "print(censor_string('Today is a Wednesday!',['Today','a'],'-'))\n",
    "print(censor_string('The cow jumped over the moon',['cow','over'],'*'))\n",
    "print(censor_string('Why did the chicken cross the road ?',['did','chicken'],'*'))"
   ]
  },
  {
   "cell_type": "code",
   "execution_count": 62,
   "metadata": {},
   "outputs": [
    {
     "name": "stdout",
     "output_type": "stream",
     "text": [
      "True\n",
      "False\n"
     ]
    }
   ],
   "source": [
    "'''4.\n",
    "4. In mathematics a Polydivisible Number (or magic number) is a number in a\n",
    "given number base with digits abcde... that has the following properties:\n",
    "- Its first digit a is not 0.\n",
    "- The number formed by its first two digits ab is a multiple of 2.\n",
    "- The number formed by its first three digits abc is a multiple of 3.\n",
    "- The number formed by its first four digits abcd is a multiple of 4.\n",
    "Create a function which takes an integer n and returns True if the given\n",
    "number is a Polydivisible Number and False otherwise.\n",
    "Examples\n",
    "is_polydivisible(1232) ➞ True\n",
    "# 1 / 1 = 1\n",
    "# 12 / 2 = 6\n",
    "# 123 / 3 = 41\n",
    "# 1232 / 4 = 308\n",
    "is_polydivisible(123220 ) ➞ False\n",
    "# 1 / 1 = 1\n",
    "# 12 / 2 = 6\n",
    "# 123 / 3 = 41\n",
    "# 1232 / 4 = 308\n",
    "# 12322 / 5 = 2464.4 # Not a Whole Number\n",
    "# 123220 /6 = 220536.333... # Not a Whole Number'''\n",
    "\n",
    "def is_polydivisible(n):\n",
    "    x = str(n)\n",
    "    for i in range(len(x)):\n",
    "        if int(x[:i+1]) % (i+1) != 0:\n",
    "            return False\n",
    "    return True\n",
    "    \n",
    "print(is_polydivisible(1232))\n",
    "print(is_polydivisible(123220))"
   ]
  },
  {
   "cell_type": "code",
   "execution_count": 24,
   "metadata": {},
   "outputs": [
    {
     "name": "stdout",
     "output_type": "stream",
     "text": [
      "17\n",
      "87\n",
      "None\n"
     ]
    }
   ],
   "source": [
    "'''5. \n",
    "Create a function that takes a list of numbers and returns the sum of all\n",
    "prime numbers in the list.\n",
    "Examples\n",
    "sum_primes([1, 2, 3, 4, 5, 6, 7, 8, 9, 10]) ➞ 17\n",
    "sum_primes([2, 3, 4, 11, 20, 50, 71]) ➞ 87\n",
    "sum_primes([]) ➞ None'''\n",
    "\n",
    "def sum_primes(n):\n",
    "    prime_list = []\n",
    "    if len(n) == 0:\n",
    "        return None\n",
    "    else:\n",
    "        for i in n:\n",
    "            ct = 0\n",
    "            for j in range(1,i):\n",
    "                if i%j ==0:\n",
    "                    ct+=1\n",
    "            if ct ==1:\n",
    "                prime_list.append(i)\n",
    "    return sum(prime_list)\n",
    "\n",
    "print(sum_primes([1,2,3,4,5,6,7,8,9,10]))\n",
    "print(sum_primes([2,3,4,11,20,50,71]))\n",
    "print(sum_primes([]))"
   ]
  },
  {
   "cell_type": "code",
   "execution_count": null,
   "metadata": {},
   "outputs": [],
   "source": []
  }
 ],
 "metadata": {
  "kernelspec": {
   "display_name": "Python 3",
   "language": "python",
   "name": "python3"
  },
  "language_info": {
   "codemirror_mode": {
    "name": "ipython",
    "version": 3
   },
   "file_extension": ".py",
   "mimetype": "text/x-python",
   "name": "python",
   "nbconvert_exporter": "python",
   "pygments_lexer": "ipython3",
   "version": "3.8.5"
  }
 },
 "nbformat": 4,
 "nbformat_minor": 4
}
