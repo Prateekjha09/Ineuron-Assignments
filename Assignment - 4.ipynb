{
 "cells": [
  {
   "cell_type": "code",
   "execution_count": 29,
   "metadata": {},
   "outputs": [
    {
     "name": "stdout",
     "output_type": "stream",
     "text": [
      "First side : 2\n",
      "Second side : 3\n",
      "Third side : 4\n",
      "The area is  2.9047375096555625\n"
     ]
    }
   ],
   "source": [
    "'''1.1 Write a Python Program(with class concepts) to find the area of the triangle using the below\n",
    "formula.\n",
    "area = (s*(s-a)*(s-b)*(s-c)) ** 0.5\n",
    "Function to take the length of the sides of triangle from user should be defined in the parent\n",
    "class and function to calculate the area should be defined in subclass.\n",
    "\n",
    "Also, here s = (a+b+c)/2'''\n",
    "\n",
    "class triangle_parent(): # initializing the parent class\n",
    "    def __init__(self,a,b,c):\n",
    "        ''''a = input('Enter 1st side of triangle')\n",
    "        b = input ('Enter 2nd side of a triangle')\n",
    "        c = input('Enter 3rd side of a triangle')'''\n",
    "        self.a = a # adding all the parameters passed to this parent class into self variable to have separate values\n",
    "        self.b = b\n",
    "        self.c = c\n",
    "        \n",
    "class triangle_child(triangle_parent): # inheriting the parent class via child class \n",
    "    def area(self): \n",
    "        s = (self.a+self.b+self.c)/2 # finding the value of s\n",
    "        tr_area = (s*(s-self.a)*(s-self.b)*(s-self.c))**0.5 # finding the area of triangle with help of all 3 sides\n",
    "        return tr_area # returning the calculated area back\n",
    "\n",
    "# sending in the all the values when we create object of class here itself\n",
    "x = triangle_child(float(input('First side : ')),float(input('Second side : ')),float(input('Third side : ')))\n",
    "print('The area is ' ,x.area()) # Getting the final area value calculated\n",
    "#print(x.a) \n"
   ]
  },
  {
   "cell_type": "code",
   "execution_count": null,
   "metadata": {},
   "outputs": [],
   "source": [
    " '''1.2 Write a function filter_long_words() that takes a list of words and an integer n and returns\n",
    "the list of words that are longer than n.\n",
    "'''\n",
    "def filter_long_words(lis,n): # function created for filtering out the long words whose length is more than what is needed\n",
    "    new_words = list() # initializing an empty list\n",
    "    for i in lis: # accessing every word in the list one by one\n",
    "        if len(i)>n: # comparison part for length side\n",
    "            new_words.append(i) # appending it to the new list if condition  is satisfied\n",
    "        else: \n",
    "            continue # else do nothing on new list elements\n",
    "    return new_words\n",
    "\n",
    "n = int(input('Enter the value of n')) # print statement for entering the number 'n' to compare with \n",
    "word_list = ['new','assignment','is','cool'] # a predefined list of some words\n",
    "# calling the needed function for comparison \n",
    "print(filter_long_words(word_list,3))  # printing the desired result\n",
    "\n"
   ]
  },
  {
   "cell_type": "code",
   "execution_count": 2,
   "metadata": {},
   "outputs": [
    {
     "name": "stdout",
     "output_type": "stream",
     "text": [
      "The word and length pair is as follows :  {'new': 3, 'assignment': 10, 'is': 2, 'cool': 4}\n"
     ]
    }
   ],
   "source": [
    "'''2.1 Write a Python program using function concept that maps list of words into a list of integers\n",
    "representing the lengths of the corresponding words.\n",
    "\n",
    "Hint: If a list [ ab,cde,erty] is passed on to the python function output should come as [2,3,4]\n",
    "Here 2,3 and 4 are the lengths of the words in the list.'''\n",
    "\n",
    "def word_len_pair(word_list): # function created for getting lengths of respective words individually\n",
    "    dic ={} # initializing an empty string\n",
    "    for i in word_list: # accessing every word in the list\n",
    "        dic[i]=len(i) # mapping word length as value where our key is the current word\n",
    "    \n",
    "    return dic # returning the final dictionary\n",
    "    \n",
    "word_list = ['new','assignment','is','cool']  # a predefined list of some words\n",
    "print('The word and length pair is as follows : ',word_len_pair(word_list)) # final print statement to get the dictionary values"
   ]
  },
  {
   "cell_type": "code",
   "execution_count": 13,
   "metadata": {},
   "outputs": [
    {
     "name": "stdout",
     "output_type": "stream",
     "text": [
      "Enter the character which you to confirm : e\n",
      "True\n"
     ]
    }
   ],
   "source": [
    "'''2.2 Write a Python function which takes a character (i.e. a string of length 1) and returns True if\n",
    "it is a vowel, False otherwise.'''\n",
    "\n",
    "def vowel_or_not(chara): # required function to perform the activity\n",
    "    vowels = ['a','e','i','o','u'] # list of vowels\n",
    "    if chara in vowels:\n",
    "        return True # returning the required result via if-else condition\n",
    "    else:\n",
    "        return False\n",
    "    \n",
    "\n",
    "inpt_char = input('Enter the character which you to confirm : ') # entering the required condition\n",
    "\n",
    "if len(inpt_char)>1: # check conditions startinghere\n",
    "    print('Character is too long than what is needed for comparison')\n",
    "elif type(inpt_char) != str:\n",
    "    print('Datatype is wrong')\n",
    "elif len(inpt_char)==1:\n",
    "    print(vowel_or_not(inpt_char))\n"
   ]
  },
  {
   "cell_type": "code",
   "execution_count": null,
   "metadata": {},
   "outputs": [],
   "source": []
  }
 ],
 "metadata": {
  "kernelspec": {
   "display_name": "Python 3",
   "language": "python",
   "name": "python3"
  },
  "language_info": {
   "codemirror_mode": {
    "name": "ipython",
    "version": 3
   },
   "file_extension": ".py",
   "mimetype": "text/x-python",
   "name": "python",
   "nbconvert_exporter": "python",
   "pygments_lexer": "ipython3",
   "version": "3.8.5"
  }
 },
 "nbformat": 4,
 "nbformat_minor": 4
}
