{
 "cells": [
  {
   "cell_type": "code",
   "execution_count": 1,
   "metadata": {},
   "outputs": [
    {
     "name": "stdout",
     "output_type": "stream",
     "text": [
      "Enter the value of number till which you want to find the sum10\n",
      "10  natural numbers has a sum of  55\n"
     ]
    }
   ],
   "source": [
    "#### 1. 1.1 Write a Python Program to implement your own myreduce() function which works exactly\n",
    "#### like Python's built-in function reduce()\n",
    "\n",
    "def myreduce(n):\n",
    "    # Here we are focusing on getting sum of first n natural numbers via manual implementation of reduce() \n",
    "    sum = 0\n",
    "    for i in range(0,n+1):\n",
    "        sum += i\n",
    "        \n",
    "    return n,sum # returing values along with number of values we did addition\n",
    "\n",
    "n = int(input('Enter the value of number till which you want to find the sum'))\n",
    "out = myreduce(n)\n",
    "\n",
    "print(out[0], \" natural numbers has a sum of \", out[1])"
   ]
  },
  {
   "cell_type": "code",
   "execution_count": 2,
   "metadata": {},
   "outputs": [
    {
     "name": "stdout",
     "output_type": "stream",
     "text": [
      "Enter the value till which you want to find the the sum: 10\n",
      "10  natural numbers have a sum of  55\n"
     ]
    }
   ],
   "source": [
    "# Now the same implementation using python's in built reduce() function\n",
    "from functools import reduce\n",
    "\n",
    "n = int(input(\"Enter the value till which you want to find the the sum: \"))\n",
    "nu_list = list(i for i in range(n+1))\n",
    "out = reduce((lambda x,y: x+y), nu_list)\n",
    "\n",
    "print(n,\" natural numbers have a sum of \",out)"
   ]
  },
  {
   "cell_type": "code",
   "execution_count": 3,
   "metadata": {},
   "outputs": [
    {
     "name": "stdout",
     "output_type": "stream",
     "text": [
      "Enter the number till you want to find the odd and even numbers10\n",
      "Even list is  [0, 2, 4, 6, 8, 10]\n",
      "Odd list is  [1, 3, 5, 7, 9]\n"
     ]
    }
   ],
   "source": [
    "#### Write a Python program to implement your own myfilter() function which works exactly\n",
    "#### like Python's built-in function filter()\n",
    "\n",
    "def myfilter(n):\n",
    "    even_list = list()\n",
    "    odd_list = list()\n",
    "    nu = list(i for i in range(0,n+1))\n",
    "    for i in nu:\n",
    "        if i%2 == 0:\n",
    "            even_list.append(i)\n",
    "        else:\n",
    "            odd_list.append(i)\n",
    "            \n",
    "    return even_list,odd_list\n",
    "\n",
    "n = int(input('Enter the number till you want to find the odd and even numbers'))\n",
    "\n",
    "out = myfilter(n)\n",
    "print('Even list is ',out[0])\n",
    "print('Odd list is ',out[1])"
   ]
  },
  {
   "cell_type": "code",
   "execution_count": 7,
   "metadata": {},
   "outputs": [
    {
     "name": "stdout",
     "output_type": "stream",
     "text": [
      "Enter the number till you want to find the odd and even numbers 10\n",
      "Even list is  [0, 2, 4, 6, 8, 10]\n",
      "Odd list is  [1, 3, 5, 7, 9]\n"
     ]
    }
   ],
   "source": [
    "# Now using python's inbuilt filter function to implement the same thing\n",
    "\n",
    "n = int(input('Enter the number till you want to find the odd and even numbers '))\n",
    "lis = [i for i in range(0,n+1)]\n",
    "even_nos = list(filter(lambda x: x%2==0,lis))\n",
    "odd_nos = list(filter(lambda x: x%2!=0, lis))\n",
    "\n",
    "print('Even list is ',even_nos)\n",
    "print('Odd list is ',odd_nos)"
   ]
  },
  {
   "cell_type": "code",
   "execution_count": 19,
   "metadata": {},
   "outputs": [
    {
     "name": "stdout",
     "output_type": "stream",
     "text": [
      "['A', 'C', 'A', 'D', 'G', 'I', 'L', 'D']\n",
      "['x', 'xx', 'xxx', 'xxxx', 'y', 'yy', 'yyy', 'yyyy', 'z', 'zz', 'zzz', 'zzzz']\n",
      "['x', 'y', 'z', 'xx', 'yy', 'zz', 'xxx', 'yyy', 'zzz', 'xxxx', 'yyyy', 'zzzz']\n",
      "[[2], [3], [4], [3], [4], [5], [4], [5], [6]]\n",
      "[[2, 3, 4, 5], [3, 4, 5, 6], [4, 5, 6, 7], [5, 6, 7, 8], [6, 7, 8, 9]]\n",
      "[(1, 1), (2, 1), (3, 1), (1, 2), (2, 2), (3, 2), (1, 3), (2, 3), (3, 3)]\n"
     ]
    }
   ],
   "source": [
    "'''2. Implement List comprehensions to produce the following lists.\n",
    "Write List comprehensions to produce the following Lists\n",
    "['A', 'C', 'A', 'D', 'G', 'I', ’L’, ‘ D’]\n",
    "['x', 'xx', 'xxx', 'xxxx', 'y', 'yy', 'yyy', 'yyyy', 'z', 'zz', 'zzz', 'zzzz']\n",
    "['x', 'y', 'z', 'xx', 'yy', 'zz', 'xxx', 'yyy', 'zzz', 'xxxx', 'yyyy', 'zzzz']\n",
    "[[2], [3], [4], [3], [4], [5], [4], [5], [6]] \n",
    "[[2, 3, 4, 5], [3, 4, 5, 6],\n",
    "[4, 5, 6, 7], [5, 6, 7, 8]]\n",
    "[(1, 1), (2, 1), (3, 1), (1, 2), (2, 2), (3, 2), (1, 3), (2, 3), (3, 3)] '''\n",
    "\n",
    "string = 'aCaDGiLD'\n",
    "lis = [e.upper() for e in string]\n",
    "print(lis)\n",
    "\n",
    "strin2 = 'xyz'\n",
    "lis2 = []\n",
    "for x in strin2:\n",
    "    for i in range(1,len(strin2)+2):\n",
    "        lis2.append(x*i)\n",
    "print(lis2)\n",
    "\n",
    "strin3 = 'xyz'\n",
    "lis3 = []\n",
    "for i in range(1,len(strin2)+2):\n",
    "    for x in strin2:\n",
    "        lis3.append(x*i)\n",
    "print(lis3)\n",
    "\n",
    "lis = [2,3,4]\n",
    "new_lis = [[x+i] for x in lis for i in range(0,3)]\n",
    "print(new_lis)\n",
    "\n",
    "lis = [2,3,4,5]\n",
    "new_lis =[]\n",
    "for i in range(0,5):\n",
    "    inner = []\n",
    "    for x in lis:\n",
    "        inner.append(x+i)\n",
    "    new_lis.append(inner)\n",
    "\n",
    "print(new_lis)\n",
    "  \n",
    "las = [1,2,3]\n",
    "out = [(b,a)for a in las for b in las]\n",
    "print(out)"
   ]
  },
  {
   "cell_type": "code",
   "execution_count": null,
   "metadata": {},
   "outputs": [],
   "source": []
  }
 ],
 "metadata": {
  "kernelspec": {
   "display_name": "Python 3",
   "language": "python",
   "name": "python3"
  },
  "language_info": {
   "codemirror_mode": {
    "name": "ipython",
    "version": 3
   },
   "file_extension": ".py",
   "mimetype": "text/x-python",
   "name": "python",
   "nbconvert_exporter": "python",
   "pygments_lexer": "ipython3",
   "version": "3.8.3"
  }
 },
 "nbformat": 4,
 "nbformat_minor": 4
}
